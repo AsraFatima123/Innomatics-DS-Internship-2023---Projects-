{
 "cells": [
  {
   "cell_type": "code",
   "execution_count": 12,
   "id": "51a15ebf",
   "metadata": {},
   "outputs": [],
   "source": [
    "import pandas as pd\n",
    "import numpy as np"
   ]
  },
  {
   "cell_type": "code",
   "execution_count": 13,
   "id": "d84fb85b",
   "metadata": {},
   "outputs": [],
   "source": [
    "df = pd.read_csv(\"C:\\\\DS INTERNSHIP - Feb 2023\\\\DATA ANALYSIS\\\\EDA Task 2 - Diminos Case Study\\\\diminos_data.csv\")"
   ]
  },
  {
   "cell_type": "code",
   "execution_count": 14,
   "id": "e991d035",
   "metadata": {},
   "outputs": [
    {
     "data": {
      "text/html": [
       "<div>\n",
       "<style scoped>\n",
       "    .dataframe tbody tr th:only-of-type {\n",
       "        vertical-align: middle;\n",
       "    }\n",
       "\n",
       "    .dataframe tbody tr th {\n",
       "        vertical-align: top;\n",
       "    }\n",
       "\n",
       "    .dataframe thead th {\n",
       "        text-align: right;\n",
       "    }\n",
       "</style>\n",
       "<table border=\"1\" class=\"dataframe\">\n",
       "  <thead>\n",
       "    <tr style=\"text-align: right;\">\n",
       "      <th></th>\n",
       "      <th>order_id</th>\n",
       "      <th>order_placed_at</th>\n",
       "      <th>order_delivered_at</th>\n",
       "    </tr>\n",
       "  </thead>\n",
       "  <tbody>\n",
       "    <tr>\n",
       "      <th>0</th>\n",
       "      <td>1523111</td>\n",
       "      <td>2023-03-01 00:00:59</td>\n",
       "      <td>2023-03-01 00:18:07.443132</td>\n",
       "    </tr>\n",
       "    <tr>\n",
       "      <th>1</th>\n",
       "      <td>1523112</td>\n",
       "      <td>2023-03-01 00:03:59</td>\n",
       "      <td>2023-03-01 00:19:34.925241</td>\n",
       "    </tr>\n",
       "    <tr>\n",
       "      <th>2</th>\n",
       "      <td>1523113</td>\n",
       "      <td>2023-03-01 00:07:22</td>\n",
       "      <td>2023-03-01 00:22:28.291385</td>\n",
       "    </tr>\n",
       "    <tr>\n",
       "      <th>3</th>\n",
       "      <td>1523114</td>\n",
       "      <td>2023-03-01 00:07:47</td>\n",
       "      <td>2023-03-01 00:46:19.019399</td>\n",
       "    </tr>\n",
       "    <tr>\n",
       "      <th>4</th>\n",
       "      <td>1523115</td>\n",
       "      <td>2023-03-01 00:09:03</td>\n",
       "      <td>2023-03-01 00:25:13.619056</td>\n",
       "    </tr>\n",
       "  </tbody>\n",
       "</table>\n",
       "</div>"
      ],
      "text/plain": [
       "   order_id      order_placed_at          order_delivered_at\n",
       "0   1523111  2023-03-01 00:00:59  2023-03-01 00:18:07.443132\n",
       "1   1523112  2023-03-01 00:03:59  2023-03-01 00:19:34.925241\n",
       "2   1523113  2023-03-01 00:07:22  2023-03-01 00:22:28.291385\n",
       "3   1523114  2023-03-01 00:07:47  2023-03-01 00:46:19.019399\n",
       "4   1523115  2023-03-01 00:09:03  2023-03-01 00:25:13.619056"
      ]
     },
     "execution_count": 14,
     "metadata": {},
     "output_type": "execute_result"
    }
   ],
   "source": [
    "df.head()"
   ]
  },
  {
   "cell_type": "code",
   "execution_count": 15,
   "id": "cd0f1ece",
   "metadata": {},
   "outputs": [
    {
     "data": {
      "text/plain": [
       "(15000, 3)"
      ]
     },
     "execution_count": 15,
     "metadata": {},
     "output_type": "execute_result"
    }
   ],
   "source": [
    "df.shape"
   ]
  },
  {
   "cell_type": "code",
   "execution_count": 16,
   "id": "01e810d0",
   "metadata": {},
   "outputs": [
    {
     "name": "stdout",
     "output_type": "stream",
     "text": [
      "<class 'pandas.core.frame.DataFrame'>\n",
      "RangeIndex: 15000 entries, 0 to 14999\n",
      "Data columns (total 3 columns):\n",
      " #   Column              Non-Null Count  Dtype \n",
      "---  ------              --------------  ----- \n",
      " 0   order_id            15000 non-null  int64 \n",
      " 1   order_placed_at     15000 non-null  object\n",
      " 2   order_delivered_at  15000 non-null  object\n",
      "dtypes: int64(1), object(2)\n",
      "memory usage: 351.7+ KB\n"
     ]
    }
   ],
   "source": [
    "df.info()"
   ]
  },
  {
   "cell_type": "code",
   "execution_count": 17,
   "id": "1366f135",
   "metadata": {},
   "outputs": [
    {
     "name": "stdout",
     "output_type": "stream",
     "text": [
      "<class 'pandas.core.frame.DataFrame'>\n",
      "RangeIndex: 15000 entries, 0 to 14999\n",
      "Data columns (total 3 columns):\n",
      " #   Column              Non-Null Count  Dtype         \n",
      "---  ------              --------------  -----         \n",
      " 0   order_id            15000 non-null  int64         \n",
      " 1   order_placed_at     15000 non-null  datetime64[ns]\n",
      " 2   order_delivered_at  15000 non-null  datetime64[ns]\n",
      "dtypes: datetime64[ns](2), int64(1)\n",
      "memory usage: 351.7 KB\n"
     ]
    }
   ],
   "source": [
    "df['order_placed_at'] = pd.to_datetime(df['order_placed_at'])\n",
    "\n",
    "df['order_delivered_at'] = pd.to_datetime(df['order_delivered_at'])\n",
    "\n",
    "df.info()"
   ]
  },
  {
   "cell_type": "code",
   "execution_count": 18,
   "id": "f3cdfcb1",
   "metadata": {},
   "outputs": [],
   "source": [
    "df['Order_placed_weekday'] = df['order_placed_at'].dt.day_name()"
   ]
  },
  {
   "cell_type": "code",
   "execution_count": 19,
   "id": "6cfd36dd",
   "metadata": {},
   "outputs": [
    {
     "data": {
      "text/html": [
       "<div>\n",
       "<style scoped>\n",
       "    .dataframe tbody tr th:only-of-type {\n",
       "        vertical-align: middle;\n",
       "    }\n",
       "\n",
       "    .dataframe tbody tr th {\n",
       "        vertical-align: top;\n",
       "    }\n",
       "\n",
       "    .dataframe thead th {\n",
       "        text-align: right;\n",
       "    }\n",
       "</style>\n",
       "<table border=\"1\" class=\"dataframe\">\n",
       "  <thead>\n",
       "    <tr style=\"text-align: right;\">\n",
       "      <th></th>\n",
       "      <th>order_id</th>\n",
       "      <th>order_placed_at</th>\n",
       "      <th>order_delivered_at</th>\n",
       "      <th>Order_placed_weekday</th>\n",
       "    </tr>\n",
       "  </thead>\n",
       "  <tbody>\n",
       "    <tr>\n",
       "      <th>0</th>\n",
       "      <td>1523111</td>\n",
       "      <td>2023-03-01 00:00:59</td>\n",
       "      <td>2023-03-01 00:18:07.443132</td>\n",
       "      <td>Wednesday</td>\n",
       "    </tr>\n",
       "    <tr>\n",
       "      <th>1</th>\n",
       "      <td>1523112</td>\n",
       "      <td>2023-03-01 00:03:59</td>\n",
       "      <td>2023-03-01 00:19:34.925241</td>\n",
       "      <td>Wednesday</td>\n",
       "    </tr>\n",
       "    <tr>\n",
       "      <th>2</th>\n",
       "      <td>1523113</td>\n",
       "      <td>2023-03-01 00:07:22</td>\n",
       "      <td>2023-03-01 00:22:28.291385</td>\n",
       "      <td>Wednesday</td>\n",
       "    </tr>\n",
       "    <tr>\n",
       "      <th>3</th>\n",
       "      <td>1523114</td>\n",
       "      <td>2023-03-01 00:07:47</td>\n",
       "      <td>2023-03-01 00:46:19.019399</td>\n",
       "      <td>Wednesday</td>\n",
       "    </tr>\n",
       "    <tr>\n",
       "      <th>4</th>\n",
       "      <td>1523115</td>\n",
       "      <td>2023-03-01 00:09:03</td>\n",
       "      <td>2023-03-01 00:25:13.619056</td>\n",
       "      <td>Wednesday</td>\n",
       "    </tr>\n",
       "  </tbody>\n",
       "</table>\n",
       "</div>"
      ],
      "text/plain": [
       "   order_id     order_placed_at         order_delivered_at  \\\n",
       "0   1523111 2023-03-01 00:00:59 2023-03-01 00:18:07.443132   \n",
       "1   1523112 2023-03-01 00:03:59 2023-03-01 00:19:34.925241   \n",
       "2   1523113 2023-03-01 00:07:22 2023-03-01 00:22:28.291385   \n",
       "3   1523114 2023-03-01 00:07:47 2023-03-01 00:46:19.019399   \n",
       "4   1523115 2023-03-01 00:09:03 2023-03-01 00:25:13.619056   \n",
       "\n",
       "  Order_placed_weekday  \n",
       "0            Wednesday  \n",
       "1            Wednesday  \n",
       "2            Wednesday  \n",
       "3            Wednesday  \n",
       "4            Wednesday  "
      ]
     },
     "execution_count": 19,
     "metadata": {},
     "output_type": "execute_result"
    }
   ],
   "source": [
    "df.head()"
   ]
  },
  {
   "cell_type": "code",
   "execution_count": 41,
   "id": "ce87584c",
   "metadata": {},
   "outputs": [
    {
     "data": {
      "text/plain": [
       "<AxesSubplot:>"
      ]
     },
     "execution_count": 41,
     "metadata": {},
     "output_type": "execute_result"
    },
    {
     "data": {
      "image/png": "[encoded data removed]",
      "text/plain": [
       "<Figure size 432x288 with 1 Axes>"
      ]
     },
     "metadata": {
      "needs_background": "light"
     },
     "output_type": "display_data"
    }
   ],
   "source": [
    "df['Order_placed_weekday'].value_counts().plot(kind = \"bar\")"
   ]
  },
  {
   "cell_type": "code",
   "execution_count": 23,
   "id": "666a4ce4",
   "metadata": {},
   "outputs": [
    {
     "data": {
      "text/html": [
       "<div>\n",
       "<style scoped>\n",
       "    .dataframe tbody tr th:only-of-type {\n",
       "        vertical-align: middle;\n",
       "    }\n",
       "\n",
       "    .dataframe tbody tr th {\n",
       "        vertical-align: top;\n",
       "    }\n",
       "\n",
       "    .dataframe thead th {\n",
       "        text-align: right;\n",
       "    }\n",
       "</style>\n",
       "<table border=\"1\" class=\"dataframe\">\n",
       "  <thead>\n",
       "    <tr style=\"text-align: right;\">\n",
       "      <th></th>\n",
       "      <th>order_id</th>\n",
       "      <th>order_placed_at</th>\n",
       "      <th>order_delivered_at</th>\n",
       "      <th>Order_placed_weekday</th>\n",
       "      <th>delivery_time</th>\n",
       "    </tr>\n",
       "  </thead>\n",
       "  <tbody>\n",
       "    <tr>\n",
       "      <th>0</th>\n",
       "      <td>1523111</td>\n",
       "      <td>2023-03-01 00:00:59</td>\n",
       "      <td>2023-03-01 00:18:07.443132</td>\n",
       "      <td>Wednesday</td>\n",
       "      <td>0 days 00:17:08.443132</td>\n",
       "    </tr>\n",
       "    <tr>\n",
       "      <th>1</th>\n",
       "      <td>1523112</td>\n",
       "      <td>2023-03-01 00:03:59</td>\n",
       "      <td>2023-03-01 00:19:34.925241</td>\n",
       "      <td>Wednesday</td>\n",
       "      <td>0 days 00:15:35.925241</td>\n",
       "    </tr>\n",
       "    <tr>\n",
       "      <th>2</th>\n",
       "      <td>1523113</td>\n",
       "      <td>2023-03-01 00:07:22</td>\n",
       "      <td>2023-03-01 00:22:28.291385</td>\n",
       "      <td>Wednesday</td>\n",
       "      <td>0 days 00:15:06.291385</td>\n",
       "    </tr>\n",
       "    <tr>\n",
       "      <th>3</th>\n",
       "      <td>1523114</td>\n",
       "      <td>2023-03-01 00:07:47</td>\n",
       "      <td>2023-03-01 00:46:19.019399</td>\n",
       "      <td>Wednesday</td>\n",
       "      <td>0 days 00:38:32.019399</td>\n",
       "    </tr>\n",
       "    <tr>\n",
       "      <th>4</th>\n",
       "      <td>1523115</td>\n",
       "      <td>2023-03-01 00:09:03</td>\n",
       "      <td>2023-03-01 00:25:13.619056</td>\n",
       "      <td>Wednesday</td>\n",
       "      <td>0 days 00:16:10.619056</td>\n",
       "    </tr>\n",
       "  </tbody>\n",
       "</table>\n",
       "</div>"
      ],
      "text/plain": [
       "   order_id     order_placed_at         order_delivered_at  \\\n",
       "0   1523111 2023-03-01 00:00:59 2023-03-01 00:18:07.443132   \n",
       "1   1523112 2023-03-01 00:03:59 2023-03-01 00:19:34.925241   \n",
       "2   1523113 2023-03-01 00:07:22 2023-03-01 00:22:28.291385   \n",
       "3   1523114 2023-03-01 00:07:47 2023-03-01 00:46:19.019399   \n",
       "4   1523115 2023-03-01 00:09:03 2023-03-01 00:25:13.619056   \n",
       "\n",
       "  Order_placed_weekday          delivery_time  \n",
       "0            Wednesday 0 days 00:17:08.443132  \n",
       "1            Wednesday 0 days 00:15:35.925241  \n",
       "2            Wednesday 0 days 00:15:06.291385  \n",
       "3            Wednesday 0 days 00:38:32.019399  \n",
       "4            Wednesday 0 days 00:16:10.619056  "
      ]
     },
     "execution_count": 23,
     "metadata": {},
     "output_type": "execute_result"
    }
   ],
   "source": [
    "df['delivery_time'] = df['order_delivered_at'] - df['order_placed_at']\n",
    "df.head()"
   ]
  },
  {
   "cell_type": "code",
   "execution_count": 24,
   "id": "ea3b1167",
   "metadata": {},
   "outputs": [],
   "source": [
    "df['delivery_time'] = df['delivery_time'].dt.total_seconds() / 60"
   ]
  },
  {
   "cell_type": "code",
   "execution_count": 25,
   "id": "9f317406",
   "metadata": {},
   "outputs": [
    {
     "data": {
      "text/html": [
       "<div>\n",
       "<style scoped>\n",
       "    .dataframe tbody tr th:only-of-type {\n",
       "        vertical-align: middle;\n",
       "    }\n",
       "\n",
       "    .dataframe tbody tr th {\n",
       "        vertical-align: top;\n",
       "    }\n",
       "\n",
       "    .dataframe thead th {\n",
       "        text-align: right;\n",
       "    }\n",
       "</style>\n",
       "<table border=\"1\" class=\"dataframe\">\n",
       "  <thead>\n",
       "    <tr style=\"text-align: right;\">\n",
       "      <th></th>\n",
       "      <th>order_id</th>\n",
       "      <th>order_placed_at</th>\n",
       "      <th>order_delivered_at</th>\n",
       "      <th>Order_placed_weekday</th>\n",
       "      <th>delivery_time</th>\n",
       "    </tr>\n",
       "  </thead>\n",
       "  <tbody>\n",
       "    <tr>\n",
       "      <th>0</th>\n",
       "      <td>1523111</td>\n",
       "      <td>2023-03-01 00:00:59</td>\n",
       "      <td>2023-03-01 00:18:07.443132</td>\n",
       "      <td>Wednesday</td>\n",
       "      <td>17.140719</td>\n",
       "    </tr>\n",
       "    <tr>\n",
       "      <th>1</th>\n",
       "      <td>1523112</td>\n",
       "      <td>2023-03-01 00:03:59</td>\n",
       "      <td>2023-03-01 00:19:34.925241</td>\n",
       "      <td>Wednesday</td>\n",
       "      <td>15.598754</td>\n",
       "    </tr>\n",
       "    <tr>\n",
       "      <th>2</th>\n",
       "      <td>1523113</td>\n",
       "      <td>2023-03-01 00:07:22</td>\n",
       "      <td>2023-03-01 00:22:28.291385</td>\n",
       "      <td>Wednesday</td>\n",
       "      <td>15.104856</td>\n",
       "    </tr>\n",
       "    <tr>\n",
       "      <th>3</th>\n",
       "      <td>1523114</td>\n",
       "      <td>2023-03-01 00:07:47</td>\n",
       "      <td>2023-03-01 00:46:19.019399</td>\n",
       "      <td>Wednesday</td>\n",
       "      <td>38.533657</td>\n",
       "    </tr>\n",
       "    <tr>\n",
       "      <th>4</th>\n",
       "      <td>1523115</td>\n",
       "      <td>2023-03-01 00:09:03</td>\n",
       "      <td>2023-03-01 00:25:13.619056</td>\n",
       "      <td>Wednesday</td>\n",
       "      <td>16.176984</td>\n",
       "    </tr>\n",
       "  </tbody>\n",
       "</table>\n",
       "</div>"
      ],
      "text/plain": [
       "   order_id     order_placed_at         order_delivered_at  \\\n",
       "0   1523111 2023-03-01 00:00:59 2023-03-01 00:18:07.443132   \n",
       "1   1523112 2023-03-01 00:03:59 2023-03-01 00:19:34.925241   \n",
       "2   1523113 2023-03-01 00:07:22 2023-03-01 00:22:28.291385   \n",
       "3   1523114 2023-03-01 00:07:47 2023-03-01 00:46:19.019399   \n",
       "4   1523115 2023-03-01 00:09:03 2023-03-01 00:25:13.619056   \n",
       "\n",
       "  Order_placed_weekday  delivery_time  \n",
       "0            Wednesday      17.140719  \n",
       "1            Wednesday      15.598754  \n",
       "2            Wednesday      15.104856  \n",
       "3            Wednesday      38.533657  \n",
       "4            Wednesday      16.176984  "
      ]
     },
     "execution_count": 25,
     "metadata": {},
     "output_type": "execute_result"
    }
   ],
   "source": [
    "df.head()"
   ]
  },
  {
   "cell_type": "code",
   "execution_count": 27,
   "id": "773c7fd0",
   "metadata": {},
   "outputs": [
    {
     "data": {
      "text/plain": [
       "count    15000.000000\n",
       "mean        20.499389\n",
       "std         96.160362\n",
       "min         15.000010\n",
       "25%         15.274826\n",
       "50%         15.797986\n",
       "75%         17.279661\n",
       "max       7299.831375\n",
       "Name: delivery_time, dtype: float64"
      ]
     },
     "execution_count": 27,
     "metadata": {},
     "output_type": "execute_result"
    }
   ],
   "source": [
    "df['delivery_time'].describe()"
   ]
  },
  {
   "cell_type": "code",
   "execution_count": 29,
   "id": "4f2491e6",
   "metadata": {},
   "outputs": [
    {
     "data": {
      "text/plain": [
       "<AxesSubplot:>"
      ]
     },
     "execution_count": 29,
     "metadata": {},
     "output_type": "execute_result"
    },
    {
     "data": {
      "image/png": "[encoded data removed]",
      "text/plain": [
       "<Figure size 432x288 with 1 Axes>"
      ]
     },
     "metadata": {
      "needs_background": "light"
     },
     "output_type": "display_data"
    }
   ],
   "source": [
    "df['delivery_time'].plot(kind=\"box\")"
   ]
  },
  {
   "cell_type": "code",
   "execution_count": 30,
   "id": "65470deb",
   "metadata": {},
   "outputs": [
    {
     "data": {
      "text/plain": [
       "<AxesSubplot:>"
      ]
     },
     "execution_count": 30,
     "metadata": {},
     "output_type": "execute_result"
    },
    {
     "data": {
      "image/png": "[encoded data removed]",
      "text/plain": [
       "<Figure size 432x288 with 1 Axes>"
      ]
     },
     "metadata": {
      "needs_background": "light"
     },
     "output_type": "display_data"
    }
   ],
   "source": [
    "df = df[df['delivery_time'] < 40]\n",
    "\n",
    "df['delivery_time'].plot(kind='box')"
   ]
  },
  {
   "cell_type": "code",
   "execution_count": 31,
   "id": "5f5b5d45",
   "metadata": {},
   "outputs": [
    {
     "data": {
      "text/plain": [
       "(14669, 5)"
      ]
     },
     "execution_count": 31,
     "metadata": {},
     "output_type": "execute_result"
    }
   ],
   "source": [
    "df.shape"
   ]
  },
  {
   "cell_type": "code",
   "execution_count": 32,
   "id": "cd49425f",
   "metadata": {},
   "outputs": [
    {
     "data": {
      "text/html": [
       "<div>\n",
       "<style scoped>\n",
       "    .dataframe tbody tr th:only-of-type {\n",
       "        vertical-align: middle;\n",
       "    }\n",
       "\n",
       "    .dataframe tbody tr th {\n",
       "        vertical-align: top;\n",
       "    }\n",
       "\n",
       "    .dataframe thead th {\n",
       "        text-align: right;\n",
       "    }\n",
       "</style>\n",
       "<table border=\"1\" class=\"dataframe\">\n",
       "  <thead>\n",
       "    <tr style=\"text-align: right;\">\n",
       "      <th></th>\n",
       "      <th>order_id</th>\n",
       "      <th>order_placed_at</th>\n",
       "      <th>order_delivered_at</th>\n",
       "      <th>Order_placed_weekday</th>\n",
       "      <th>delivery_time</th>\n",
       "    </tr>\n",
       "  </thead>\n",
       "  <tbody>\n",
       "    <tr>\n",
       "      <th>3</th>\n",
       "      <td>1523114</td>\n",
       "      <td>2023-03-01 00:07:47</td>\n",
       "      <td>2023-03-01 00:46:19.019399</td>\n",
       "      <td>Wednesday</td>\n",
       "      <td>38.533657</td>\n",
       "    </tr>\n",
       "    <tr>\n",
       "      <th>6</th>\n",
       "      <td>1523117</td>\n",
       "      <td>2023-03-01 00:11:09</td>\n",
       "      <td>2023-03-01 00:41:54.245295</td>\n",
       "      <td>Wednesday</td>\n",
       "      <td>30.754088</td>\n",
       "    </tr>\n",
       "    <tr>\n",
       "      <th>47</th>\n",
       "      <td>1523158</td>\n",
       "      <td>2023-03-01 01:57:16</td>\n",
       "      <td>2023-03-01 02:30:19.851911</td>\n",
       "      <td>Wednesday</td>\n",
       "      <td>33.064199</td>\n",
       "    </tr>\n",
       "    <tr>\n",
       "      <th>76</th>\n",
       "      <td>1523187</td>\n",
       "      <td>2023-03-01 03:05:16</td>\n",
       "      <td>2023-03-01 03:35:47.166291</td>\n",
       "      <td>Wednesday</td>\n",
       "      <td>30.519438</td>\n",
       "    </tr>\n",
       "    <tr>\n",
       "      <th>346</th>\n",
       "      <td>1523457</td>\n",
       "      <td>2023-03-01 14:52:32</td>\n",
       "      <td>2023-03-01 15:31:30.379073</td>\n",
       "      <td>Wednesday</td>\n",
       "      <td>38.972985</td>\n",
       "    </tr>\n",
       "    <tr>\n",
       "      <th>...</th>\n",
       "      <td>...</td>\n",
       "      <td>...</td>\n",
       "      <td>...</td>\n",
       "      <td>...</td>\n",
       "      <td>...</td>\n",
       "    </tr>\n",
       "    <tr>\n",
       "      <th>14826</th>\n",
       "      <td>1537937</td>\n",
       "      <td>2023-03-27 16:16:52</td>\n",
       "      <td>2023-03-27 16:49:38.450163</td>\n",
       "      <td>Monday</td>\n",
       "      <td>32.774169</td>\n",
       "    </tr>\n",
       "    <tr>\n",
       "      <th>14829</th>\n",
       "      <td>1537940</td>\n",
       "      <td>2023-03-27 16:18:49</td>\n",
       "      <td>2023-03-27 16:48:57.789466</td>\n",
       "      <td>Monday</td>\n",
       "      <td>30.146491</td>\n",
       "    </tr>\n",
       "    <tr>\n",
       "      <th>14855</th>\n",
       "      <td>1537966</td>\n",
       "      <td>2023-03-27 17:16:14</td>\n",
       "      <td>2023-03-27 17:49:07.476278</td>\n",
       "      <td>Monday</td>\n",
       "      <td>32.891271</td>\n",
       "    </tr>\n",
       "    <tr>\n",
       "      <th>14899</th>\n",
       "      <td>1538010</td>\n",
       "      <td>2023-03-27 19:31:50</td>\n",
       "      <td>2023-03-27 20:08:26.866824</td>\n",
       "      <td>Monday</td>\n",
       "      <td>36.614447</td>\n",
       "    </tr>\n",
       "    <tr>\n",
       "      <th>14939</th>\n",
       "      <td>1538050</td>\n",
       "      <td>2023-03-27 21:17:20</td>\n",
       "      <td>2023-03-27 21:54:03.464048</td>\n",
       "      <td>Monday</td>\n",
       "      <td>36.724401</td>\n",
       "    </tr>\n",
       "  </tbody>\n",
       "</table>\n",
       "<p>273 rows × 5 columns</p>\n",
       "</div>"
      ],
      "text/plain": [
       "       order_id     order_placed_at         order_delivered_at  \\\n",
       "3       1523114 2023-03-01 00:07:47 2023-03-01 00:46:19.019399   \n",
       "6       1523117 2023-03-01 00:11:09 2023-03-01 00:41:54.245295   \n",
       "47      1523158 2023-03-01 01:57:16 2023-03-01 02:30:19.851911   \n",
       "76      1523187 2023-03-01 03:05:16 2023-03-01 03:35:47.166291   \n",
       "346     1523457 2023-03-01 14:52:32 2023-03-01 15:31:30.379073   \n",
       "...         ...                 ...                        ...   \n",
       "14826   1537937 2023-03-27 16:16:52 2023-03-27 16:49:38.450163   \n",
       "14829   1537940 2023-03-27 16:18:49 2023-03-27 16:48:57.789466   \n",
       "14855   1537966 2023-03-27 17:16:14 2023-03-27 17:49:07.476278   \n",
       "14899   1538010 2023-03-27 19:31:50 2023-03-27 20:08:26.866824   \n",
       "14939   1538050 2023-03-27 21:17:20 2023-03-27 21:54:03.464048   \n",
       "\n",
       "      Order_placed_weekday  delivery_time  \n",
       "3                Wednesday      38.533657  \n",
       "6                Wednesday      30.754088  \n",
       "47               Wednesday      33.064199  \n",
       "76               Wednesday      30.519438  \n",
       "346              Wednesday      38.972985  \n",
       "...                    ...            ...  \n",
       "14826               Monday      32.774169  \n",
       "14829               Monday      30.146491  \n",
       "14855               Monday      32.891271  \n",
       "14899               Monday      36.614447  \n",
       "14939               Monday      36.724401  \n",
       "\n",
       "[273 rows x 5 columns]"
      ]
     },
     "execution_count": 32,
     "metadata": {},
     "output_type": "execute_result"
    }
   ],
   "source": [
    "df[df[\"delivery_time\"]>30]"
   ]
  },
  {
   "cell_type": "code",
   "execution_count": 33,
   "id": "d5e8892d",
   "metadata": {},
   "outputs": [
    {
     "data": {
      "text/plain": [
       "(273, 5)"
      ]
     },
     "execution_count": 33,
     "metadata": {},
     "output_type": "execute_result"
    }
   ],
   "source": [
    "df[df[\"delivery_time\"]>30].shape"
   ]
  },
  {
   "cell_type": "markdown",
   "id": "98f2c2d7",
   "metadata": {},
   "source": [
    "### Conclusion: Out of 14669 orders, 273 orders exceed the delivery time of 30mins"
   ]
  },
  {
   "cell_type": "code",
   "execution_count": 34,
   "id": "22b0d2bb",
   "metadata": {},
   "outputs": [
    {
     "data": {
      "text/plain": [
       "23.596276583333314"
      ]
     },
     "execution_count": 34,
     "metadata": {},
     "output_type": "execute_result"
    }
   ],
   "source": [
    "df['delivery_time'].quantile(0.95)"
   ]
  },
  {
   "cell_type": "code",
   "execution_count": 35,
   "id": "3eaa8ea9",
   "metadata": {},
   "outputs": [
    {
     "data": {
      "text/plain": [
       "33.19925044733333"
      ]
     },
     "execution_count": 35,
     "metadata": {},
     "output_type": "execute_result"
    }
   ],
   "source": [
    "df['delivery_time'].quantile(0.99)"
   ]
  },
  {
   "cell_type": "markdown",
   "id": "6de7c376",
   "metadata": {},
   "source": [
    "#### 95 percentile of the orders have an average delivery time of 23.59 minutes"
   ]
  },
  {
   "cell_type": "code",
   "execution_count": 39,
   "id": "6b46bcb6",
   "metadata": {},
   "outputs": [
    {
     "data": {
      "text/plain": [
       "Order_placed_weekday\n",
       "Friday       16.960573\n",
       "Monday       17.035461\n",
       "Saturday     16.987894\n",
       "Sunday       16.865671\n",
       "Thursday     16.986491\n",
       "Tuesday      17.147224\n",
       "Wednesday    17.006978\n",
       "Name: delivery_time, dtype: float64"
      ]
     },
     "execution_count": 39,
     "metadata": {},
     "output_type": "execute_result"
    }
   ],
   "source": [
    "df.groupby(\"Order_placed_weekday\")[\"delivery_time\"].mean()"
   ]
  },
  {
   "cell_type": "code",
   "execution_count": null,
   "id": "0c9bb152",
   "metadata": {},
   "outputs": [],
   "source": []
  }
 ],
 "metadata": {
  "kernelspec": {
   "display_name": "Python 3 (ipykernel)",
   "language": "python",
   "name": "python3"
  },
  "language_info": {
   "codemirror_mode": {
    "name": "ipython",
    "version": 3
   },
   "file_extension": ".py",
   "mimetype": "text/x-python",
   "name": "python",
   "nbconvert_exporter": "python",
   "pygments_lexer": "ipython3",
   "version": "3.9.12"
  }
 },
 "nbformat": 4,
 "nbformat_minor": 5
}
