{
 "cells": [
  {
   "cell_type": "markdown",
   "metadata": {
    "id": "j4dehaJOYCYv"
   },
   "source": [
    "<h1 style=\"color:blue\"> Flipkart Laptop Data - Business Insights on Product Pricing </h1>"
   ]
  },
  {
   "cell_type": "markdown",
   "metadata": {},
   "source": [
    "**Problem Statement**\n",
    "\n",
    "Elon Musk has started his own laptop company (Tesla Laptop) in India. He wants to give tough fights to big companies like Apple, Alienware, HP etc.\n",
    "He does not know how to estimate the price of laptops his company creates. In this competitive laptop market you cannot simply assume things. \n",
    "Musk wants to find out some relation between features of a Laptop(eg:- RAM, OS,  etc) and its selling price. But he is not so good at Data Mining.\n",
    "To solve this problem he already asked his Data Engineering team (from Twitter) to collect laptop data from various competitors.\n",
    "\n",
    "\n",
    "Musk’s Requirements \n",
    "1.\tBuild an interface (using streamlit) for Elon Musk where he can enter the laptop features like RAM Size, RAM Type, HDD, OS, etc. and get the price prediction.\n",
    "2.\tBased on your Data Analysis and Mining skills, give recommendations to Elon Musk on how the pricing works in the laptop market.\n"
   ]
  },
  {
   "cell_type": "code",
   "execution_count": 1,
   "metadata": {
    "colab": {
     "base_uri": "https://localhost:8080/",
     "height": 206
    },
    "id": "vFxAYfvHXkXt",
    "outputId": "64edb11b-3ec4-4308-f526-67f880f71450"
   },
   "outputs": [
    {
     "data": {
      "text/html": [
       "<div>\n",
       "<style scoped>\n",
       "    .dataframe tbody tr th:only-of-type {\n",
       "        vertical-align: middle;\n",
       "    }\n",
       "\n",
       "    .dataframe tbody tr th {\n",
       "        vertical-align: top;\n",
       "    }\n",
       "\n",
       "    .dataframe thead th {\n",
       "        text-align: right;\n",
       "    }\n",
       "</style>\n",
       "<table border=\"1\" class=\"dataframe\">\n",
       "  <thead>\n",
       "    <tr style=\"text-align: right;\">\n",
       "      <th></th>\n",
       "      <th>Product</th>\n",
       "      <th>Rating</th>\n",
       "      <th>MRP</th>\n",
       "      <th>Feature</th>\n",
       "    </tr>\n",
       "  </thead>\n",
       "  <tbody>\n",
       "    <tr>\n",
       "      <th>0</th>\n",
       "      <td>Lenovo IdeaPad 3 Core i3 11th Gen - (8 GB/256 ...</td>\n",
       "      <td>4.2</td>\n",
       "      <td>₹36,990</td>\n",
       "      <td>Intel Core i3 Processor (11th Gen)8 GB DDR4 RA...</td>\n",
       "    </tr>\n",
       "    <tr>\n",
       "      <th>1</th>\n",
       "      <td>Lenovo IdeaPad 3 Core i3 11th Gen - (8 GB/512 ...</td>\n",
       "      <td>4.2</td>\n",
       "      <td>₹39,990</td>\n",
       "      <td>Intel Core i3 Processor (11th Gen)8 GB DDR4 RA...</td>\n",
       "    </tr>\n",
       "    <tr>\n",
       "      <th>2</th>\n",
       "      <td>ASUS VivoBook 15 (2022) Core i3 10th Gen - (8 ...</td>\n",
       "      <td>4.3</td>\n",
       "      <td>₹32,990</td>\n",
       "      <td>Intel Core i3 Processor (10th Gen)8 GB DDR4 RA...</td>\n",
       "    </tr>\n",
       "    <tr>\n",
       "      <th>3</th>\n",
       "      <td>HP Pavilion Ryzen 5 Hexa Core AMD R5-5600H - (...</td>\n",
       "      <td>4.4</td>\n",
       "      <td>₹49,990</td>\n",
       "      <td>AMD Ryzen 5 Hexa Core Processor8 GB DDR4 RAM64...</td>\n",
       "    </tr>\n",
       "    <tr>\n",
       "      <th>4</th>\n",
       "      <td>ASUS TUF Gaming F15 Core i5 10th Gen - (8 GB/5...</td>\n",
       "      <td>4.4</td>\n",
       "      <td>₹49,990</td>\n",
       "      <td>Intel Core i5 Processor (10th Gen)8 GB DDR4 RA...</td>\n",
       "    </tr>\n",
       "  </tbody>\n",
       "</table>\n",
       "</div>"
      ],
      "text/plain": [
       "                                             Product  Rating      MRP  \\\n",
       "0  Lenovo IdeaPad 3 Core i3 11th Gen - (8 GB/256 ...     4.2  ₹36,990   \n",
       "1  Lenovo IdeaPad 3 Core i3 11th Gen - (8 GB/512 ...     4.2  ₹39,990   \n",
       "2  ASUS VivoBook 15 (2022) Core i3 10th Gen - (8 ...     4.3  ₹32,990   \n",
       "3  HP Pavilion Ryzen 5 Hexa Core AMD R5-5600H - (...     4.4  ₹49,990   \n",
       "4  ASUS TUF Gaming F15 Core i5 10th Gen - (8 GB/5...     4.4  ₹49,990   \n",
       "\n",
       "                                             Feature  \n",
       "0  Intel Core i3 Processor (11th Gen)8 GB DDR4 RA...  \n",
       "1  Intel Core i3 Processor (11th Gen)8 GB DDR4 RA...  \n",
       "2  Intel Core i3 Processor (10th Gen)8 GB DDR4 RA...  \n",
       "3  AMD Ryzen 5 Hexa Core Processor8 GB DDR4 RAM64...  \n",
       "4  Intel Core i5 Processor (10th Gen)8 GB DDR4 RA...  "
      ]
     },
     "execution_count": 1,
     "metadata": {},
     "output_type": "execute_result"
    }
   ],
   "source": [
    "import pandas as pd\n",
    "import numpy as np\n",
    "import re\n",
    "import matplotlib.pyplot as plt\n",
    "import seaborn as sns\n",
    "\n",
    "df = pd.read_csv(\"C:\\\\DS INTERNSHIP - Feb 2023\\\\DATA ANALYSIS\\\\Task 3 - Flipkart Laptop Data - Business Insights on Product Pricing\\\\laptop_details.csv\")\n",
    "df.head()"
   ]
  },
  {
   "cell_type": "code",
   "execution_count": 2,
   "metadata": {
    "colab": {
     "base_uri": "https://localhost:8080/"
    },
    "id": "rRaG8kZynXKn",
    "outputId": "4e7bc98f-d90e-4a32-c4a6-ef49d1a8cb24"
   },
   "outputs": [
    {
     "name": "stdout",
     "output_type": "stream",
     "text": [
      "<class 'pandas.core.frame.DataFrame'>\n",
      "RangeIndex: 720 entries, 0 to 719\n",
      "Data columns (total 4 columns):\n",
      " #   Column   Non-Null Count  Dtype  \n",
      "---  ------   --------------  -----  \n",
      " 0   Product  720 non-null    object \n",
      " 1   Rating   581 non-null    float64\n",
      " 2   MRP      720 non-null    object \n",
      " 3   Feature  720 non-null    object \n",
      "dtypes: float64(1), object(3)\n",
      "memory usage: 22.6+ KB\n"
     ]
    }
   ],
   "source": [
    "df.info()"
   ]
  },
  {
   "cell_type": "code",
   "execution_count": 4,
   "metadata": {},
   "outputs": [
    {
     "data": {
      "text/plain": [
       "'Lenovo IdeaPad 3 Core i3 11th Gen - (8 GB/256 GB SSD/Windows 11 Home) 14ITL05 Thin and Light Laptop'"
      ]
     },
     "execution_count": 4,
     "metadata": {},
     "output_type": "execute_result"
    }
   ],
   "source": [
    "df[\"Product\"][0]"
   ]
  },
  {
   "cell_type": "code",
   "execution_count": 5,
   "metadata": {
    "colab": {
     "base_uri": "https://localhost:8080/"
    },
    "id": "gg9SS_64KOQm",
    "outputId": "95fc3acc-d430-467d-e2c2-2fa80bf26517"
   },
   "outputs": [
    {
     "data": {
      "text/plain": [
       "'Intel Core i3 Processor (11th Gen)8 GB DDR4 RAM64 bit Windows 11 Operating System256 GB SSD35.56 cm (14 inch) DisplayOffice Home and Student 20212 Year Onsite�Warranty'"
      ]
     },
     "execution_count": 5,
     "metadata": {},
     "output_type": "execute_result"
    }
   ],
   "source": [
    "df[\"Feature\"][0]"
   ]
  },
  {
   "cell_type": "code",
   "execution_count": 6,
   "metadata": {
    "colab": {
     "base_uri": "https://localhost:8080/"
    },
    "id": "U7AWsFkRKOpe",
    "outputId": "765e4fc6-5008-4259-b893-9aa99f45f284"
   },
   "outputs": [],
   "source": [
    "# print(*df['Feature'].sample(1).values)"
   ]
  },
  {
   "cell_type": "code",
   "execution_count": 7,
   "metadata": {
    "colab": {
     "base_uri": "https://localhost:8080/"
    },
    "id": "0Gb5nIYB2X3Y",
    "outputId": "6432e0bd-d74a-414b-bcb5-6295feef48b0"
   },
   "outputs": [
    {
     "data": {
      "text/plain": [
       "count       720.000000\n",
       "mean      81605.837500\n",
       "std       61552.955102\n",
       "min       14990.000000\n",
       "25%       38996.750000\n",
       "50%       59990.000000\n",
       "75%       95240.000000\n",
       "max      434830.000000\n",
       "Name: MRP, dtype: float64"
      ]
     },
     "execution_count": 7,
     "metadata": {},
     "output_type": "execute_result"
    }
   ],
   "source": [
    "df['MRP'] = df['MRP'].apply(lambda x : x.replace('₹', '').replace(',', '')).astype(float)\n",
    "df['MRP'].describe()"
   ]
  },
  {
   "cell_type": "code",
   "execution_count": 8,
   "metadata": {
    "id": "AjvCpIbCKOhg"
   },
   "outputs": [],
   "source": [
    "def find_feature(regex, row):\n",
    "  row_match = re.findall(regex, row)\n",
    "  if re.search(regex, row) is None:\n",
    "    return np.nan\n",
    "  else:\n",
    "    return ' '.join(row_match)"
   ]
  },
  {
   "cell_type": "code",
   "execution_count": 13,
   "metadata": {
    "colab": {
     "base_uri": "https://localhost:8080/",
     "height": 1000
    },
    "id": "6Kl66QqgOv8a",
    "outputId": "f1dd5044-39df-4ee6-857e-a4467ffa71cf"
   },
   "outputs": [
    {
     "name": "stdout",
     "output_type": "stream",
     "text": [
      "count               719\n",
      "unique               25\n",
      "top       Intel Core i5\n",
      "freq                157\n",
      "Name: Processor, dtype: object\n",
      "Intel Core i5                      157\n",
      "Intel Core i3                      133\n",
      "AMD Ryzen 9 Octa Core               87\n",
      "AMD Ryzen 7 Octa Core               80\n",
      "Intel Core i7                       56\n",
      "AMD Ryzen 5 Hexa Core               52\n",
      "AMD Ryzen 3 Dual Core               43\n",
      "AMD Ryzen 5 Quad Core               37\n",
      "Intel Celeron Dual Core             20\n",
      "Intel Core i9                       11\n",
      "Apple M1                             7\n",
      "Apple M1 Pro                         6\n",
      "Apple M2                             5\n",
      "AMD Ryzen 3 Quad Core                4\n",
      "Intel Pentium Silver                 3\n",
      "Intel Celeron Quad Core              3\n",
      "Intel Pentium Quad Core              3\n",
      "AMD Ryzen 5 Dual Core                2\n",
      "Intel Evo Core i5 Intel Core i5      2\n",
      "AMD Athlon Dual Core                 2\n",
      "Intel OptaneIntel Core i3            2\n",
      "Apple M1 Max                         1\n",
      "AMD Ryzen 7 Quad Core                1\n",
      "AMD Dual Core                        1\n",
      "AMD Ryzen 3 Hexa Core                1\n",
      "Name: Processor, dtype: int64\n"
     ]
    }
   ],
   "source": [
    "# Processor Information\n",
    "regex = r'((?:AMD|Intel|Apple M1|Apple M2)[\\s\\w]*)\\sProcessor'\n",
    "df['Processor'] = df['Feature'].apply(lambda x : find_feature(regex, x))\n",
    "print(df['Processor'].describe())\n",
    "print(df['Processor'].value_counts())"
   ]
  },
  {
   "cell_type": "code",
   "execution_count": 14,
   "metadata": {},
   "outputs": [
    {
     "data": {
      "text/plain": [
       "<AxesSubplot:>"
      ]
     },
     "execution_count": 14,
     "metadata": {},
     "output_type": "execute_result"
    },
    {
     "data": {
      "image/png": "[encoded data removed]",
      "text/plain": [
       "<Figure size 432x288 with 1 Axes>"
      ]
     },
     "metadata": {
      "needs_background": "light"
     },
     "output_type": "display_data"
    }
   ],
   "source": [
    "df['Processor'].value_counts().plot(kind='bar')"
   ]
  },
  {
   "cell_type": "code",
   "execution_count": 16,
   "metadata": {},
   "outputs": [
    {
     "data": {
      "text/plain": [
       "1"
      ]
     },
     "execution_count": 16,
     "metadata": {},
     "output_type": "execute_result"
    }
   ],
   "source": [
    "df[\"Processor\"].isnull().sum()"
   ]
  },
  {
   "cell_type": "code",
   "execution_count": 28,
   "metadata": {},
   "outputs": [
    {
     "name": "stdout",
     "output_type": "stream",
     "text": [
      "Series([], Name: Feature, dtype: object)\n"
     ]
    }
   ],
   "source": [
    "print(df[df[\"Processor\"]==\"Intel\"][\"Feature\"])"
   ]
  },
  {
   "cell_type": "code",
   "execution_count": 35,
   "metadata": {},
   "outputs": [
    {
     "data": {
      "text/plain": [
       "Series([], Name: Feature, dtype: object)"
      ]
     },
     "execution_count": 35,
     "metadata": {},
     "output_type": "execute_result"
    }
   ],
   "source": [
    "df[(df['Processor'] == 'Intel')]['Feature']"
   ]
  },
  {
   "cell_type": "code",
   "execution_count": 8,
   "metadata": {
    "colab": {
     "base_uri": "https://localhost:8080/"
    },
    "id": "ORm9Q7Gv57xY",
    "outputId": "ac7e5c4b-6f06-45ef-877e-7b710318f03f"
   },
   "outputs": [
    {
     "name": "stdout",
     "output_type": "stream",
     "text": [
      "Qualcomm Snapdragon 7c Gen 2 Processor4 GB LPDDR4X RAMWindows 11 Operating System35.56 cm (14 Inch) DisplayOffice Home and Student 20211 Year Onsite Warranty\n"
     ]
    }
   ],
   "source": [
    "print(*df[df['Processor'].isnull()]['Feature'])"
   ]
  },
  {
   "cell_type": "code",
   "execution_count": 37,
   "metadata": {
    "id": "CpRfnoYW6WfT"
   },
   "outputs": [],
   "source": [
    "df['Processor'].fillna('Intel', inplace=True)"
   ]
  },
  {
   "cell_type": "code",
   "execution_count": 43,
   "metadata": {
    "colab": {
     "base_uri": "https://localhost:8080/"
    },
    "id": "6ssvwC3n104i",
    "outputId": "cb7509e4-39dd-4127-b4d8-17336a67012e"
   },
   "outputs": [
    {
     "data": {
      "text/plain": [
       "Intel    391\n",
       "AMD      310\n",
       "Apple     19\n",
       "Name: CPU_type, dtype: int64"
      ]
     },
     "execution_count": 43,
     "metadata": {},
     "output_type": "execute_result"
    }
   ],
   "source": [
    "conditions = [df['Processor'].str.contains('Intel'),\n",
    "              df['Processor'].str.contains('AMD'),\n",
    "              df['Processor'].str.contains('Apple')]\n",
    "cpu_types = ['Intel', 'AMD', 'Apple']\n",
    "df['CPU_type'] = np.select(conditions, cpu_types, default='Other')\n",
    "df['CPU_type'].value_counts()"
   ]
  },
  {
   "cell_type": "code",
   "execution_count": 47,
   "metadata": {
    "colab": {
     "base_uri": "https://localhost:8080/"
    },
    "id": "7gg4ivH7EHp1",
    "outputId": "1adb6167-61df-497f-e323-65d7a3f9be0c"
   },
   "outputs": [
    {
     "data": {
      "text/plain": [
       "count    720.000000\n",
       "mean       4.819444\n",
       "std        2.330343\n",
       "min        2.000000\n",
       "25%        2.000000\n",
       "50%        4.000000\n",
       "75%        8.000000\n",
       "max       10.000000\n",
       "Name: CPU_cores, dtype: float64"
      ]
     },
     "execution_count": 47,
     "metadata": {},
     "output_type": "execute_result"
    }
   ],
   "source": [
    "conditions = [df['Processor'].str.contains('Dual|i3'),\n",
    "              df['Processor'].str.contains('Quad|i5'),\n",
    "              df['Processor'].str.contains('Hexa|i7|i9'), \n",
    "              df['Processor'].str.contains('Octa|M1$|M1 Pro'), \n",
    "              df['Processor'].str.contains('M2|M1 Max')]\n",
    "cpu_cores = [2, 4, 6, 8, 10]\n",
    "df['CPU_cores'] = np.select(conditions, cpu_cores, default=np.nan)\n",
    "df['CPU_cores'].fillna(df['CPU_cores'].median(), inplace=True)\n",
    "df['CPU_cores'].describe()"
   ]
  },
  {
   "cell_type": "code",
   "execution_count": 48,
   "metadata": {},
   "outputs": [
    {
     "data": {
      "text/plain": [
       "4.0     211\n",
       "2.0     203\n",
       "8.0     180\n",
       "6.0     120\n",
       "10.0      6\n",
       "Name: CPU_cores, dtype: int64"
      ]
     },
     "execution_count": 48,
     "metadata": {},
     "output_type": "execute_result"
    }
   ],
   "source": [
    "df['CPU_cores'].value_counts()"
   ]
  },
  {
   "cell_type": "code",
   "execution_count": 49,
   "metadata": {
    "colab": {
     "base_uri": "https://localhost:8080/"
    },
    "id": "MDm8i36ZLogN",
    "outputId": "4b5a8c31-13f3-4727-a7ba-fb382159b8f1"
   },
   "outputs": [
    {
     "data": {
      "text/plain": [
       "8 GB DDR4                                                                                          377\n",
       "16 GB DDR4                                                                                         153\n",
       "16 GB DDR5                                                                                          77\n",
       "4 GB DDR4                                                                                           26\n",
       "8 GB LPDDR4X                                                                                        16\n",
       "16 GB LPDDR4X                                                                                       16\n",
       "32 GB DDR5                                                                                          11\n",
       "16 GB LPDDR5                                                                                         9\n",
       "4 GB LPDDR4                                                                                          7\n",
       "16 GB Unified Memory                                                                                 6\n",
       "8 GB Unified Memory                                                                                  5\n",
       "4 GB LPDDR4X                                                                                         4\n",
       "8 GB DDR5                                                                                            4\n",
       "32 GB DDR4                                                                                           4\n",
       "32 GB Unified Memory                                                                                 1\n",
       "16 GB LPDDR4                                                                                         1\n",
       "128 GB SSD for Reduced Boot Up Time and in Game LoadingUpgradable SSD Upto 512 GB and 8 GB DDR4      1\n",
       "32 GB LPDDR4X                                                                                        1\n",
       "16 GB LPDDR3                                                                                         1\n",
       "Name: RAM, dtype: int64"
      ]
     },
     "execution_count": 49,
     "metadata": {},
     "output_type": "execute_result"
    }
   ],
   "source": [
    "regex = r'(\\d+\\sGB[\\s\\w]+)\\sRAM'\n",
    "df['RAM'] = df['Feature'].apply(lambda x : find_feature(regex, x))\n",
    "df['RAM'].value_counts()"
   ]
  },
  {
   "cell_type": "code",
   "execution_count": 50,
   "metadata": {
    "colab": {
     "base_uri": "https://localhost:8080/"
    },
    "id": "L29iYyMDwBmb",
    "outputId": "3b6fa517-3ac7-4c0d-ebe8-e49ac3a43f17"
   },
   "outputs": [
    {
     "data": {
      "text/plain": [
       "Int64Index([438], dtype='int64')"
      ]
     },
     "execution_count": 50,
     "metadata": {},
     "output_type": "execute_result"
    }
   ],
   "source": [
    "df[df['RAM'] == '128 GB SSD for Reduced Boot Up Time and in Game LoadingUpgradable SSD Upto 512 GB and 8 GB DDR4'].index"
   ]
  },
  {
   "cell_type": "code",
   "execution_count": 51,
   "metadata": {
    "colab": {
     "base_uri": "https://localhost:8080/",
     "height": 1000
    },
    "id": "ljicwj_qLojB",
    "outputId": "a9d86927-22d2-4d7a-933b-bc6551d3ce0c"
   },
   "outputs": [
    {
     "name": "stdout",
     "output_type": "stream",
     "text": [
      "count           720\n",
      "unique           18\n",
      "top       8 GB DDR4\n",
      "freq            378\n",
      "Name: RAM, dtype: object\n",
      "8 GB DDR4               378\n",
      "16 GB DDR4              153\n",
      "16 GB DDR5               77\n",
      "4 GB DDR4                26\n",
      "8 GB LPDDR4X             16\n",
      "16 GB LPDDR4X            16\n",
      "32 GB DDR5               11\n",
      "16 GB LPDDR5              9\n",
      "4 GB LPDDR4               7\n",
      "16 GB Unified Memory      6\n",
      "8 GB Unified Memory       5\n",
      "4 GB LPDDR4X              4\n",
      "8 GB DDR5                 4\n",
      "32 GB DDR4                4\n",
      "32 GB Unified Memory      1\n",
      "16 GB LPDDR4              1\n",
      "32 GB LPDDR4X             1\n",
      "16 GB LPDDR3              1\n",
      "Name: RAM, dtype: int64\n"
     ]
    },
    {
     "name": "stderr",
     "output_type": "stream",
     "text": [
      "C:\\Users\\NAME\\AppData\\Local\\Temp\\ipykernel_34852\\1731253529.py:2: SettingWithCopyWarning: \n",
      "A value is trying to be set on a copy of a slice from a DataFrame\n",
      "\n",
      "See the caveats in the documentation: https://pandas.pydata.org/pandas-docs/stable/user_guide/indexing.html#returning-a-view-versus-a-copy\n",
      "  df['RAM'][438] = re.findall(regex, df['Feature'][438])[1]\n"
     ]
    },
    {
     "data": {
      "text/plain": [
       "<AxesSubplot:>"
      ]
     },
     "execution_count": 51,
     "metadata": {},
     "output_type": "execute_result"
    },
    {
     "data": {
      "image/png": "[encoded data removed]",
      "text/plain": [
       "<Figure size 432x288 with 1 Axes>"
      ]
     },
     "metadata": {
      "needs_background": "light"
     },
     "output_type": "display_data"
    }
   ],
   "source": [
    "regex = r'(\\d+\\sGB[\\s\\w]+)\\sRAM'\n",
    "df['RAM'][438] = re.findall(regex, df['Feature'][438])[1]\n",
    "print(df['RAM'].describe())\n",
    "print(df['RAM'].value_counts())\n",
    "df['RAM'].value_counts().plot(kind='bar')"
   ]
  },
  {
   "cell_type": "code",
   "execution_count": 52,
   "metadata": {
    "colab": {
     "base_uri": "https://localhost:8080/"
    },
    "id": "-PWV3ohinfT3",
    "outputId": "2e184056-4e43-4828-a120-aa3b43e6020a"
   },
   "outputs": [
    {
     "data": {
      "text/plain": [
       "count    720.000000\n",
       "mean      11.283333\n",
       "std        5.201663\n",
       "min        4.000000\n",
       "25%        8.000000\n",
       "50%        8.000000\n",
       "75%       16.000000\n",
       "max       32.000000\n",
       "Name: RAM_size, dtype: float64"
      ]
     },
     "execution_count": 52,
     "metadata": {},
     "output_type": "execute_result"
    }
   ],
   "source": [
    "df['RAM_size'] = df['RAM'].apply(lambda x: int(re.search(r'(\\d+)\\sGB', x).group(1)))\n",
    "df['RAM_size'].describe()"
   ]
  },
  {
   "cell_type": "code",
   "execution_count": 59,
   "metadata": {},
   "outputs": [
    {
     "data": {
      "text/plain": [
       "8     403\n",
       "16    263\n",
       "4      37\n",
       "32     17\n",
       "Name: RAM_size, dtype: int64"
      ]
     },
     "execution_count": 59,
     "metadata": {},
     "output_type": "execute_result"
    }
   ],
   "source": [
    "df[\"RAM_size\"].value_counts(sort=True)"
   ]
  },
  {
   "cell_type": "code",
   "execution_count": 62,
   "metadata": {
    "colab": {
     "base_uri": "https://localhost:8080/"
    },
    "id": "nytW-IuTo4-n",
    "outputId": "cecdc93d-2bd3-4a35-f0fe-33195b0bb9ad"
   },
   "outputs": [
    {
     "data": {
      "text/plain": [
       "DDR4              561\n",
       "DDR5               92\n",
       "LPDDR4X            37\n",
       "Unified Memory     12\n",
       "LPDDR5              9\n",
       "LPDDR4              8\n",
       "LPDDR3              1\n",
       "Name: RAM_type, dtype: int64"
      ]
     },
     "execution_count": 62,
     "metadata": {},
     "output_type": "execute_result"
    }
   ],
   "source": [
    "df['RAM_type'] = df['RAM'].apply(lambda x: re.search(r'GB\\s([\\w\\s]+)', x).group(1))\n",
    "df['RAM_type'].value_counts()"
   ]
  },
  {
   "cell_type": "code",
   "execution_count": 63,
   "metadata": {
    "colab": {
     "base_uri": "https://localhost:8080/"
    },
    "id": "4WAJ387NOUBf",
    "outputId": "c7904ee2-112e-4ed5-d176-3f8a457c7c9f"
   },
   "outputs": [
    {
     "data": {
      "text/plain": [
       "DDR4              606\n",
       "DDR5              101\n",
       "Unified Memory     12\n",
       "DDR3                1\n",
       "Name: RAM_type, dtype: int64"
      ]
     },
     "execution_count": 63,
     "metadata": {},
     "output_type": "execute_result"
    }
   ],
   "source": [
    "df['RAM_type'] = df['RAM_type'].apply(lambda x: re.search(r'DDR(3|4|5)|Unified Memory', x).group(0))\n",
    "df['RAM_type'].value_counts()"
   ]
  },
  {
   "cell_type": "code",
   "execution_count": 64,
   "metadata": {
    "colab": {
     "base_uri": "https://localhost:8080/"
    },
    "id": "w_H6Nz0EOs40",
    "outputId": "f6786226-67ab-4738-cedf-53d37fcab5a6"
   },
   "outputs": [
    {
     "data": {
      "text/plain": [
       "DDR4              607\n",
       "DDR5              101\n",
       "Unified Memory     12\n",
       "Name: RAM_type, dtype: int64"
      ]
     },
     "execution_count": 64,
     "metadata": {},
     "output_type": "execute_result"
    }
   ],
   "source": [
    "df['RAM_type'].replace({'DDR3': 'DDR4'}, inplace=True)\n",
    "df['RAM_type'].value_counts()"
   ]
  },
  {
   "cell_type": "code",
   "execution_count": 65,
   "metadata": {
    "colab": {
     "base_uri": "https://localhost:8080/"
    },
    "id": "rBzwhBMCd48y",
    "outputId": "8f9ea309-e544-4404-b71a-cb5c649685c9"
   },
   "outputs": [
    {
     "name": "stdout",
     "output_type": "stream",
     "text": [
      "DDR4\n",
      "DDR5\n",
      "DDR4\n",
      "Unified Memory\n",
      "DDR5\n",
      "DDR4\n",
      "DDR4\n",
      "Other\n"
     ]
    }
   ],
   "source": [
    "ram_types = ['DDR4', 'DDR5', 'LPDDR4X', 'Unified Memory', 'LPDDR5', 'LPDDR4', 'LPDDR3', 'Other']\n",
    "for ram_type in ram_types:\n",
    "  if re.search('DDR[3|4]', ram_type):\n",
    "    ram_type = 'DDR4'\n",
    "  elif re.search('DDR5', ram_type):\n",
    "    ram_type = 'DDR5'\n",
    "  print(ram_type)"
   ]
  },
  {
   "cell_type": "code",
   "execution_count": 66,
   "metadata": {
    "colab": {
     "base_uri": "https://localhost:8080/"
    },
    "id": "_zmZ74HryMwV",
    "outputId": "3b85b3a7-2f76-4ae7-8789-3819e83a8c0c"
   },
   "outputs": [
    {
     "data": {
      "text/plain": [
       "64 bit Windows 11               404\n",
       "Windows 11                      156\n",
       "64 bit Windows 10               116\n",
       "Mac OS                           19\n",
       "Windows 10                       12\n",
       "Chrome                            6\n",
       "DOS                               2\n",
       "64 bit DOS                        2\n",
       "32 bit Windows 11                 1\n",
       "Windows 10 64 bit Windows 10      1\n",
       "64 bit Chrome                     1\n",
       "Name: OS, dtype: int64"
      ]
     },
     "execution_count": 66,
     "metadata": {},
     "output_type": "execute_result"
    }
   ],
   "source": [
    "# OS \n",
    "\n",
    "regex = r'([\\d]+[\\s]bit[\\s\\w]+|Windows\\s[\\d]+|Mac\\sOS|DOS|Chrome)\\sOperating System'\n",
    "df['OS'] = df['Feature'].apply(lambda x : find_feature(regex, x))\n",
    "df['OS'].value_counts()"
   ]
  },
  {
   "cell_type": "code",
   "execution_count": 67,
   "metadata": {
    "colab": {
     "base_uri": "https://localhost:8080/"
    },
    "id": "Ci6e_CMZqdP2",
    "outputId": "88045ecf-6cb3-435f-baab-1eefa700e631"
   },
   "outputs": [
    {
     "data": {
      "text/plain": [
       "Windows    690\n",
       "Mac OS      19\n",
       "Chrome       7\n",
       "DOS          4\n",
       "Name: OS, dtype: int64"
      ]
     },
     "execution_count": 67,
     "metadata": {},
     "output_type": "execute_result"
    }
   ],
   "source": [
    "df['OS'] = df['OS'].apply(lambda x: re.search(r'Windows|Mac OS|Chrome|DOS', x).group(0))\n",
    "df['OS'].value_counts()"
   ]
  },
  {
   "cell_type": "code",
   "execution_count": 68,
   "metadata": {
    "colab": {
     "base_uri": "https://localhost:8080/"
    },
    "id": "OFQLhI8V5r0r",
    "outputId": "6064a831-9ab4-4b37-ced9-0479cc96aa1e"
   },
   "outputs": [
    {
     "data": {
      "text/plain": [
       "512 GB SSD               375\n",
       "1 TB SSD                 176\n",
       "256 GB SSD                98\n",
       "1 TB HDD 256 GB SSD       26\n",
       "1 TB HDD                  17\n",
       "64 GB EMMC                 7\n",
       "2 TB SSD                   7\n",
       "128 GB SSD                 6\n",
       "128 GB EMMC                2\n",
       "1 TB HDD 512 GB SSD        2\n",
       "1 TB HDD 128 GB SSD        2\n",
       "256 GB HDD 256 GB SSD      1\n",
       "32 GB EMMC                 1\n",
       "Name: Storage, dtype: int64"
      ]
     },
     "execution_count": 68,
     "metadata": {},
     "output_type": "execute_result"
    }
   ],
   "source": [
    "# Storage\n",
    "\n",
    "regex = r'[\\d]+\\s(?:GB|TB)\\s(?:HDD|SSD|EMMC)'\n",
    "df['Storage'] = df['Product'].apply(lambda x : find_feature(regex, x))\n",
    "df['Storage'].value_counts()"
   ]
  },
  {
   "cell_type": "code",
   "execution_count": 70,
   "metadata": {
    "colab": {
     "base_uri": "https://localhost:8080/",
     "height": 300
    },
    "id": "-Euo_8CWz7LQ",
    "outputId": "04d0d945-81e4-4bbe-83fc-4f8b827e028d"
   },
   "outputs": [
    {
     "data": {
      "text/html": [
       "<div>\n",
       "<style scoped>\n",
       "    .dataframe tbody tr th:only-of-type {\n",
       "        vertical-align: middle;\n",
       "    }\n",
       "\n",
       "    .dataframe tbody tr th {\n",
       "        vertical-align: top;\n",
       "    }\n",
       "\n",
       "    .dataframe thead th {\n",
       "        text-align: right;\n",
       "    }\n",
       "</style>\n",
       "<table border=\"1\" class=\"dataframe\">\n",
       "  <thead>\n",
       "    <tr style=\"text-align: right;\">\n",
       "      <th></th>\n",
       "      <th>HDD_size</th>\n",
       "      <th>SSD_size</th>\n",
       "      <th>EMMC_size</th>\n",
       "    </tr>\n",
       "  </thead>\n",
       "  <tbody>\n",
       "    <tr>\n",
       "      <th>count</th>\n",
       "      <td>720.000000</td>\n",
       "      <td>720.000000</td>\n",
       "      <td>720.000000</td>\n",
       "    </tr>\n",
       "    <tr>\n",
       "      <th>mean</th>\n",
       "      <td>65.633333</td>\n",
       "      <td>577.844444</td>\n",
       "      <td>1.022222</td>\n",
       "    </tr>\n",
       "    <tr>\n",
       "      <th>std</th>\n",
       "      <td>247.277153</td>\n",
       "      <td>313.667202</td>\n",
       "      <td>9.264439</td>\n",
       "    </tr>\n",
       "    <tr>\n",
       "      <th>min</th>\n",
       "      <td>0.000000</td>\n",
       "      <td>0.000000</td>\n",
       "      <td>0.000000</td>\n",
       "    </tr>\n",
       "    <tr>\n",
       "      <th>25%</th>\n",
       "      <td>0.000000</td>\n",
       "      <td>512.000000</td>\n",
       "      <td>0.000000</td>\n",
       "    </tr>\n",
       "    <tr>\n",
       "      <th>50%</th>\n",
       "      <td>0.000000</td>\n",
       "      <td>512.000000</td>\n",
       "      <td>0.000000</td>\n",
       "    </tr>\n",
       "    <tr>\n",
       "      <th>75%</th>\n",
       "      <td>0.000000</td>\n",
       "      <td>1000.000000</td>\n",
       "      <td>0.000000</td>\n",
       "    </tr>\n",
       "    <tr>\n",
       "      <th>max</th>\n",
       "      <td>1000.000000</td>\n",
       "      <td>2000.000000</td>\n",
       "      <td>128.000000</td>\n",
       "    </tr>\n",
       "  </tbody>\n",
       "</table>\n",
       "</div>"
      ],
      "text/plain": [
       "          HDD_size     SSD_size   EMMC_size\n",
       "count   720.000000   720.000000  720.000000\n",
       "mean     65.633333   577.844444    1.022222\n",
       "std     247.277153   313.667202    9.264439\n",
       "min       0.000000     0.000000    0.000000\n",
       "25%       0.000000   512.000000    0.000000\n",
       "50%       0.000000   512.000000    0.000000\n",
       "75%       0.000000  1000.000000    0.000000\n",
       "max    1000.000000  2000.000000  128.000000"
      ]
     },
     "execution_count": 70,
     "metadata": {},
     "output_type": "execute_result"
    }
   ],
   "source": [
    "regex_SSD = r'(\\d+\\s(?:GB|TB))\\sSSD'\n",
    "regex_HDD = r'(\\d+\\s(?:GB|TB))\\sHDD'\n",
    "regex_EMMC = r'(\\d+\\s(?:GB|TB))\\sEMMC'\n",
    "\n",
    "HDD_size = []\n",
    "SSD_size = []\n",
    "EMMC_size = []\n",
    "HDD = []\n",
    "SSD = []\n",
    "EMMC = []\n",
    "\n",
    "for row in df['Storage']:\n",
    "  if 'HDD' in row:\n",
    "    size = int(re.search(r'(\\d+)\\s(?:GB|TB)\\sHDD', row).group(1))\n",
    "    hdd = size if re.search(r'GB\\sHDD', row) else size * 1000\n",
    "    HDD_size.append(hdd)\n",
    "    HDD.append(1)\n",
    "  else:\n",
    "    HDD_size.append(0)\n",
    "    HDD.append(0)\n",
    "  if 'SSD' in row:\n",
    "    size = int(re.search(r'(\\d+)\\s(?:GB|TB)\\sSSD', row).group(1))\n",
    "    ssd = size if re.search(r'GB\\sSSD', row) else size * 1000\n",
    "    SSD_size.append(ssd)\n",
    "    SSD.append(1)\n",
    "  else:\n",
    "    SSD_size.append(0)\n",
    "    SSD.append(0)\n",
    "  if 'EMMC' in row:\n",
    "    size = int(re.search(r'(\\d+)\\sGB\\sEMMC', row).group(1))\n",
    "    EMMC_size.append(size)\n",
    "    EMMC.append(1)\n",
    "  else:\n",
    "    EMMC_size.append(0)\n",
    "    EMMC.append(0)\n",
    "\n",
    "df['HDD_size'] = HDD_size\n",
    "df['HDD'] = HDD\n",
    "df['SSD_size'] = SSD_size\n",
    "df['SSD'] = SSD\n",
    "df['EMMC_size'] = EMMC_size\n",
    "df['EMMC'] = EMMC\n",
    "df[['HDD_size', 'SSD_size', 'EMMC_size']].describe()"
   ]
  },
  {
   "cell_type": "code",
   "execution_count": 75,
   "metadata": {},
   "outputs": [
    {
     "data": {
      "text/plain": [
       "0    710\n",
       "1     10\n",
       "Name: EMMC, dtype: int64"
      ]
     },
     "execution_count": 75,
     "metadata": {},
     "output_type": "execute_result"
    }
   ],
   "source": [
    "df['EMMC'].value_counts()"
   ]
  },
  {
   "cell_type": "code",
   "execution_count": 76,
   "metadata": {
    "colab": {
     "base_uri": "https://localhost:8080/"
    },
    "id": "kpobVrP68zF3",
    "outputId": "6cd85776-6623-43ae-cd95-481882839095"
   },
   "outputs": [
    {
     "data": {
      "text/plain": [
       "count     720.000000\n",
       "mean      644.500000\n",
       "std       323.421925\n",
       "min        32.000000\n",
       "25%       512.000000\n",
       "50%       512.000000\n",
       "75%      1000.000000\n",
       "max      2000.000000\n",
       "Name: Drive_size, dtype: float64"
      ]
     },
     "execution_count": 76,
     "metadata": {},
     "output_type": "execute_result"
    }
   ],
   "source": [
    "df['Drive_size'] = df[['HDD_size', 'SSD_size', 'EMMC_size']].sum(axis=1)\n",
    "df['Drive_size'].describe()"
   ]
  },
  {
   "cell_type": "code",
   "execution_count": 80,
   "metadata": {},
   "outputs": [
    {
     "data": {
      "text/plain": [
       "array([ 256,  512, 1256, 1000,  128,   64,   32, 1512, 1128, 2000],\n",
       "      dtype=int64)"
      ]
     },
     "execution_count": 80,
     "metadata": {},
     "output_type": "execute_result"
    }
   ],
   "source": [
    "df['Drive_size'].unique()"
   ]
  },
  {
   "cell_type": "code",
   "execution_count": 81,
   "metadata": {
    "colab": {
     "base_uri": "https://localhost:8080/"
    },
    "id": "Ea3yDmVHlOnU",
    "outputId": "11bfc08a-f409-42c7-f714-8306b5ed3996"
   },
   "outputs": [
    {
     "data": {
      "text/plain": [
       "SSD          662\n",
       "HDD & SSD     31\n",
       "HDD           17\n",
       "EMMC          10\n",
       "Name: Drive_type, dtype: int64"
      ]
     },
     "execution_count": 81,
     "metadata": {},
     "output_type": "execute_result"
    }
   ],
   "source": [
    "conditions = [df['Storage'].str.contains('HDD') & df['Storage'].str.contains('SSD'), \n",
    "              df['Storage'].str.contains('HDD') & (df['Storage'].str.contains('SSD') == False), \n",
    "              df['Storage'].str.contains('SSD') & (df['Storage'].str.contains('HDD') == False), \n",
    "              df['Storage'].str.contains('EMMC')]\n",
    "drive_types = ['HDD & SSD', 'HDD', 'SSD', 'EMMC']\n",
    "df['Drive_type'] = np.select(conditions, drive_types)\n",
    "df['Drive_type'].value_counts()"
   ]
  },
  {
   "cell_type": "code",
   "execution_count": 82,
   "metadata": {
    "colab": {
     "base_uri": "https://localhost:8080/"
    },
    "id": "CXXaz8l92NcG",
    "outputId": "33ed182b-bd3e-48a2-b50c-61b9d3f5a15e"
   },
   "outputs": [
    {
     "name": "stdout",
     "output_type": "stream",
     "text": [
      "<class 'pandas.core.series.Series'>\n",
      "RangeIndex: 720 entries, 0 to 719\n",
      "Series name: Display\n",
      "Non-Null Count  Dtype  \n",
      "--------------  -----  \n",
      "718 non-null    float64\n",
      "dtypes: float64(1)\n",
      "memory usage: 5.8 KB\n"
     ]
    }
   ],
   "source": [
    "# Display\n",
    "\n",
    "regex = r'\\(([\\d]+\\.?[\\d]*)\\s(?:Inch|inch|inches)\\)'\n",
    "df['Display'] = df['Feature'].apply(lambda x : float(find_feature(regex, x)))\n",
    "df['Display'].info()"
   ]
  },
  {
   "cell_type": "code",
   "execution_count": 83,
   "metadata": {
    "colab": {
     "base_uri": "https://localhost:8080/"
    },
    "id": "8WfYPAW_F7aZ",
    "outputId": "c58fc5d0-dfa9-4c69-a8d1-d6812b9ca42b"
   },
   "outputs": [
    {
     "name": "stdout",
     "output_type": "stream",
     "text": [
      "['Processor: AMD Ryzen 3-3250U (2.60 GHz up to 3.50 GHz)RAM & Storage: 8GB DDR4 (2 DIMM Slots) & 1TB HDDSoftware: Win 11 + Office H&S 2021Display: 14.0\" FHD WVA AG Narrow BorderPorts: USB 3.2 Gen 1 (x2), USB2.0 (x1), HDMI 1.4, SD Media Card Reader (SD, SDHC, SDXC), RJ45 - 10/100MbpsWiFi & BT: 802.11ac 1x1 WiFi and BluetoothAMD Ryzen 3 Dual Core Processor8 GB DDR4 RAM64 bit Windows 11 Operating System1 TB HDD88.9 cm (35 cm) DisplayMicrosoft Office Home and Student 20211 Year Onsite Warranty1 Year Onsite Warranty'\n",
      " 'Processor: 11th Generation Intel Core i5-1135G7 Processor (8MB Cache, up to 4.2 GHz),Memory & Storage:8GB DDR4, 2666MHz | 512GB M.2 PCIe NVMe Solid State DriveDisplay:14.0-inch FHD (1920 x 1080) Anti-glare LED Backlight Narrow Border WVA DisplayGraphics: Dedicated NVIDIA MX330 2GB GDDR5Operating System & Software:Windows 10 Home Single Language | Microsoft Office Home and Student 2019I/O ports: 2x USB 3.2 Gen-1, 1xUSB 2.0, 1xHDMI port, 1xEthernet port,1x Headset jack, 1xSD Media Card ReaderIntel Core i5 Processor (11th Gen)8 GB DDR4 RAM64 bit Windows 10 Operating System512 GB SSD88.9 cm (35 cm) Display1 Year Onsite Warranty']\n"
     ]
    }
   ],
   "source": [
    "print(df[df['Display'].isnull()]['Feature'].values)"
   ]
  },
  {
   "cell_type": "code",
   "execution_count": 84,
   "metadata": {
    "colab": {
     "base_uri": "https://localhost:8080/"
    },
    "id": "dYuMnz6DGIvx",
    "outputId": "e817b876-2ef5-4d3b-9a8c-fe1ddb17b5b4"
   },
   "outputs": [
    {
     "data": {
      "text/plain": [
       "count    720.000000\n",
       "mean      15.183000\n",
       "std        0.891272\n",
       "min       11.600000\n",
       "25%       14.175000\n",
       "50%       15.600000\n",
       "75%       15.600000\n",
       "max       17.300000\n",
       "Name: Display, dtype: float64"
      ]
     },
     "execution_count": 84,
     "metadata": {},
     "output_type": "execute_result"
    }
   ],
   "source": [
    "df['Display'].fillna(14, inplace=True)\n",
    "df['Display'].describe()"
   ]
  },
  {
   "cell_type": "code",
   "execution_count": 85,
   "metadata": {
    "colab": {
     "base_uri": "https://localhost:8080/"
    },
    "id": "gbIqhKK_ZxwU",
    "outputId": "c8bfc5ef-84df-475b-e61c-5dd7476d2cf1"
   },
   "outputs": [
    {
     "name": "stdout",
     "output_type": "stream",
     "text": [
      "<class 'pandas.core.frame.DataFrame'>\n",
      "RangeIndex: 720 entries, 0 to 719\n",
      "Data columns (total 21 columns):\n",
      " #   Column      Non-Null Count  Dtype  \n",
      "---  ------      --------------  -----  \n",
      " 0   Product     720 non-null    object \n",
      " 1   Rating      581 non-null    float64\n",
      " 2   MRP         720 non-null    float64\n",
      " 3   Feature     720 non-null    object \n",
      " 4   Processor   720 non-null    object \n",
      " 5   CPU_type    720 non-null    object \n",
      " 6   CPU_cores   720 non-null    float64\n",
      " 7   RAM         720 non-null    object \n",
      " 8   RAM_size    720 non-null    int64  \n",
      " 9   RAM_type    720 non-null    object \n",
      " 10  OS          720 non-null    object \n",
      " 11  Storage     720 non-null    object \n",
      " 12  HDD_size    720 non-null    int64  \n",
      " 13  HDD         720 non-null    int64  \n",
      " 14  SSD_size    720 non-null    int64  \n",
      " 15  SSD         720 non-null    int64  \n",
      " 16  EMMC_size   720 non-null    int64  \n",
      " 17  EMMC        720 non-null    int64  \n",
      " 18  Drive_size  720 non-null    int64  \n",
      " 19  Drive_type  720 non-null    object \n",
      " 20  Display     720 non-null    float64\n",
      "dtypes: float64(4), int64(8), object(9)\n",
      "memory usage: 118.2+ KB\n"
     ]
    }
   ],
   "source": [
    "df.info()"
   ]
  },
  {
   "cell_type": "code",
   "execution_count": 86,
   "metadata": {
    "colab": {
     "base_uri": "https://localhost:8080/"
    },
    "id": "N4LorsrBaHly",
    "outputId": "587e7e30-9328-43b6-801b-2befe99489a4"
   },
   "outputs": [
    {
     "data": {
      "text/plain": [
       "Index(['Product', 'Rating', 'MRP', 'Feature', 'Processor', 'CPU_type',\n",
       "       'CPU_cores', 'RAM', 'RAM_size', 'RAM_type', 'OS', 'Storage', 'HDD_size',\n",
       "       'HDD', 'SSD_size', 'SSD', 'EMMC_size', 'EMMC', 'Drive_size',\n",
       "       'Drive_type', 'Display'],\n",
       "      dtype='object')"
      ]
     },
     "execution_count": 86,
     "metadata": {},
     "output_type": "execute_result"
    }
   ],
   "source": [
    "df.columns"
   ]
  },
  {
   "cell_type": "code",
   "execution_count": 87,
   "metadata": {
    "colab": {
     "base_uri": "https://localhost:8080/"
    },
    "id": "rt6HZGqwtVq2",
    "outputId": "db306922-c853-49ab-a244-6b6d082d13ca"
   },
   "outputs": [
    {
     "data": {
      "text/plain": [
       "Product         0\n",
       "Rating        139\n",
       "MRP             0\n",
       "Feature         0\n",
       "Processor       0\n",
       "CPU_type        0\n",
       "CPU_cores       0\n",
       "RAM             0\n",
       "RAM_size        0\n",
       "RAM_type        0\n",
       "OS              0\n",
       "Storage         0\n",
       "HDD_size        0\n",
       "HDD             0\n",
       "SSD_size        0\n",
       "SSD             0\n",
       "EMMC_size       0\n",
       "EMMC            0\n",
       "Drive_size      0\n",
       "Drive_type      0\n",
       "Display         0\n",
       "dtype: int64"
      ]
     },
     "execution_count": 87,
     "metadata": {},
     "output_type": "execute_result"
    }
   ],
   "source": [
    "df.isnull().sum()"
   ]
  },
  {
   "cell_type": "code",
   "execution_count": 88,
   "metadata": {
    "colab": {
     "base_uri": "https://localhost:8080/"
    },
    "id": "3S8_dMOBE3Rm",
    "outputId": "5396cab8-9d44-4589-9fb1-331c0300471f"
   },
   "outputs": [
    {
     "name": "stdout",
     "output_type": "stream",
     "text": [
      "<class 'pandas.core.frame.DataFrame'>\n",
      "RangeIndex: 720 entries, 0 to 719\n",
      "Data columns (total 15 columns):\n",
      " #   Column      Non-Null Count  Dtype  \n",
      "---  ------      --------------  -----  \n",
      " 0   CPU_type    720 non-null    object \n",
      " 1   CPU_cores   720 non-null    float64\n",
      " 2   OS          720 non-null    object \n",
      " 3   Display     720 non-null    float64\n",
      " 4   RAM_size    720 non-null    int64  \n",
      " 5   RAM_type    720 non-null    object \n",
      " 6   HDD_size    720 non-null    int64  \n",
      " 7   HDD         720 non-null    int64  \n",
      " 8   SSD_size    720 non-null    int64  \n",
      " 9   SSD         720 non-null    int64  \n",
      " 10  EMMC_size   720 non-null    int64  \n",
      " 11  EMMC        720 non-null    int64  \n",
      " 12  Drive_size  720 non-null    int64  \n",
      " 13  Drive_type  720 non-null    object \n",
      " 14  MRP         720 non-null    float64\n",
      "dtypes: float64(3), int64(8), object(4)\n",
      "memory usage: 84.5+ KB\n"
     ]
    }
   ],
   "source": [
    "data = df[['CPU_type', 'CPU_cores', 'OS', 'Display', 'RAM_size', 'RAM_type', 'HDD_size', 'HDD', 'SSD_size', 'SSD', 'EMMC_size', 'EMMC', 'Drive_size', 'Drive_type', 'MRP']]\n",
    "data = data.dropna(subset=['CPU_type', 'Drive_type'])\n",
    "data.info()"
   ]
  },
  {
   "cell_type": "code",
   "execution_count": 89,
   "metadata": {},
   "outputs": [
    {
     "data": {
      "text/html": [
       "<div>\n",
       "<style scoped>\n",
       "    .dataframe tbody tr th:only-of-type {\n",
       "        vertical-align: middle;\n",
       "    }\n",
       "\n",
       "    .dataframe tbody tr th {\n",
       "        vertical-align: top;\n",
       "    }\n",
       "\n",
       "    .dataframe thead th {\n",
       "        text-align: right;\n",
       "    }\n",
       "</style>\n",
       "<table border=\"1\" class=\"dataframe\">\n",
       "  <thead>\n",
       "    <tr style=\"text-align: right;\">\n",
       "      <th></th>\n",
       "      <th>CPU_type</th>\n",
       "      <th>CPU_cores</th>\n",
       "      <th>OS</th>\n",
       "      <th>Display</th>\n",
       "      <th>RAM_size</th>\n",
       "      <th>RAM_type</th>\n",
       "      <th>HDD_size</th>\n",
       "      <th>HDD</th>\n",
       "      <th>SSD_size</th>\n",
       "      <th>SSD</th>\n",
       "      <th>EMMC_size</th>\n",
       "      <th>EMMC</th>\n",
       "      <th>Drive_size</th>\n",
       "      <th>Drive_type</th>\n",
       "      <th>MRP</th>\n",
       "    </tr>\n",
       "  </thead>\n",
       "  <tbody>\n",
       "    <tr>\n",
       "      <th>0</th>\n",
       "      <td>Intel</td>\n",
       "      <td>2.0</td>\n",
       "      <td>Windows</td>\n",
       "      <td>14.0</td>\n",
       "      <td>8</td>\n",
       "      <td>DDR4</td>\n",
       "      <td>0</td>\n",
       "      <td>0</td>\n",
       "      <td>256</td>\n",
       "      <td>1</td>\n",
       "      <td>0</td>\n",
       "      <td>0</td>\n",
       "      <td>256</td>\n",
       "      <td>SSD</td>\n",
       "      <td>36990.0</td>\n",
       "    </tr>\n",
       "    <tr>\n",
       "      <th>1</th>\n",
       "      <td>Intel</td>\n",
       "      <td>2.0</td>\n",
       "      <td>Windows</td>\n",
       "      <td>15.6</td>\n",
       "      <td>8</td>\n",
       "      <td>DDR4</td>\n",
       "      <td>0</td>\n",
       "      <td>0</td>\n",
       "      <td>512</td>\n",
       "      <td>1</td>\n",
       "      <td>0</td>\n",
       "      <td>0</td>\n",
       "      <td>512</td>\n",
       "      <td>SSD</td>\n",
       "      <td>39990.0</td>\n",
       "    </tr>\n",
       "    <tr>\n",
       "      <th>2</th>\n",
       "      <td>Intel</td>\n",
       "      <td>2.0</td>\n",
       "      <td>Windows</td>\n",
       "      <td>15.6</td>\n",
       "      <td>8</td>\n",
       "      <td>DDR4</td>\n",
       "      <td>0</td>\n",
       "      <td>0</td>\n",
       "      <td>512</td>\n",
       "      <td>1</td>\n",
       "      <td>0</td>\n",
       "      <td>0</td>\n",
       "      <td>512</td>\n",
       "      <td>SSD</td>\n",
       "      <td>32990.0</td>\n",
       "    </tr>\n",
       "    <tr>\n",
       "      <th>3</th>\n",
       "      <td>AMD</td>\n",
       "      <td>6.0</td>\n",
       "      <td>Windows</td>\n",
       "      <td>15.6</td>\n",
       "      <td>8</td>\n",
       "      <td>DDR4</td>\n",
       "      <td>0</td>\n",
       "      <td>0</td>\n",
       "      <td>512</td>\n",
       "      <td>1</td>\n",
       "      <td>0</td>\n",
       "      <td>0</td>\n",
       "      <td>512</td>\n",
       "      <td>SSD</td>\n",
       "      <td>49990.0</td>\n",
       "    </tr>\n",
       "    <tr>\n",
       "      <th>4</th>\n",
       "      <td>Intel</td>\n",
       "      <td>4.0</td>\n",
       "      <td>Windows</td>\n",
       "      <td>15.6</td>\n",
       "      <td>8</td>\n",
       "      <td>DDR4</td>\n",
       "      <td>0</td>\n",
       "      <td>0</td>\n",
       "      <td>512</td>\n",
       "      <td>1</td>\n",
       "      <td>0</td>\n",
       "      <td>0</td>\n",
       "      <td>512</td>\n",
       "      <td>SSD</td>\n",
       "      <td>49990.0</td>\n",
       "    </tr>\n",
       "  </tbody>\n",
       "</table>\n",
       "</div>"
      ],
      "text/plain": [
       "  CPU_type  CPU_cores       OS  Display  RAM_size RAM_type  HDD_size  HDD  \\\n",
       "0    Intel        2.0  Windows     14.0         8     DDR4         0    0   \n",
       "1    Intel        2.0  Windows     15.6         8     DDR4         0    0   \n",
       "2    Intel        2.0  Windows     15.6         8     DDR4         0    0   \n",
       "3      AMD        6.0  Windows     15.6         8     DDR4         0    0   \n",
       "4    Intel        4.0  Windows     15.6         8     DDR4         0    0   \n",
       "\n",
       "   SSD_size  SSD  EMMC_size  EMMC  Drive_size Drive_type      MRP  \n",
       "0       256    1          0     0         256        SSD  36990.0  \n",
       "1       512    1          0     0         512        SSD  39990.0  \n",
       "2       512    1          0     0         512        SSD  32990.0  \n",
       "3       512    1          0     0         512        SSD  49990.0  \n",
       "4       512    1          0     0         512        SSD  49990.0  "
      ]
     },
     "execution_count": 89,
     "metadata": {},
     "output_type": "execute_result"
    }
   ],
   "source": [
    "data.head()"
   ]
  },
  {
   "cell_type": "code",
   "execution_count": 90,
   "metadata": {
    "colab": {
     "base_uri": "https://localhost:8080/",
     "height": 465
    },
    "id": "mJVPXytgKQlk",
    "outputId": "9bdd882e-d8fd-45d6-877b-7399b837ff6d"
   },
   "outputs": [
    {
     "data": {
      "image/png": "[encoded data removed]",
      "text/plain": [
       "<Figure size 864x360 with 2 Axes>"
      ]
     },
     "metadata": {
      "needs_background": "light"
     },
     "output_type": "display_data"
    }
   ],
   "source": [
    "fig, axes = plt.subplots(1, 2, figsize=(12,5))\n",
    "sns.barplot(data=data, x='CPU_type', y='MRP', ax=axes[0])\n",
    "sns.boxplot(data=data, x='CPU_type', y='MRP', ax=axes[1])\n",
    "plt.show()"
   ]
  },
  {
   "cell_type": "code",
   "execution_count": 91,
   "metadata": {
    "colab": {
     "base_uri": "https://localhost:8080/",
     "height": 466
    },
    "id": "otSPrJPOM__n",
    "outputId": "cf33f9e9-8de5-4997-f5b1-47dbc68da43e"
   },
   "outputs": [
    {
     "data": {
      "image/png": "[encoded data removed]",
      "text/plain": [
       "<Figure size 864x360 with 2 Axes>"
      ]
     },
     "metadata": {
      "needs_background": "light"
     },
     "output_type": "display_data"
    }
   ],
   "source": [
    "fig, axes = plt.subplots(1, 2, figsize=(12,5))\n",
    "sns.barplot(data=data, x='OS', y='MRP', ax=axes[0])\n",
    "sns.boxplot(data=data, x='OS', y='MRP', ax=axes[1])\n",
    "plt.show()"
   ]
  },
  {
   "cell_type": "code",
   "execution_count": 92,
   "metadata": {
    "colab": {
     "base_uri": "https://localhost:8080/",
     "height": 465
    },
    "id": "80fBu9Fj6TQF",
    "outputId": "965e3112-3c58-4cd7-f97e-7a9edb9a9821"
   },
   "outputs": [
    {
     "data": {
      "image/png": "[encoded data removed]",
      "text/plain": [
       "<Figure size 864x360 with 2 Axes>"
      ]
     },
     "metadata": {
      "needs_background": "light"
     },
     "output_type": "display_data"
    }
   ],
   "source": [
    "fig, axes = plt.subplots(1, 2, figsize=(12,5))\n",
    "sns.barplot(data=data, x='RAM_type', y='MRP', ax=axes[0])\n",
    "sns.boxplot(data=data, x='RAM_type', y='MRP', ax=axes[1])\n",
    "plt.show()"
   ]
  },
  {
   "cell_type": "code",
   "execution_count": 93,
   "metadata": {
    "colab": {
     "base_uri": "https://localhost:8080/",
     "height": 465
    },
    "id": "gU5xlzOuQngM",
    "outputId": "01bf59eb-f4a8-46bd-cbac-7ba2affdd786"
   },
   "outputs": [
    {
     "data": {
      "image/png": "[encoded data removed]",
      "text/plain": [
       "<Figure size 864x360 with 2 Axes>"
      ]
     },
     "metadata": {
      "needs_background": "light"
     },
     "output_type": "display_data"
    }
   ],
   "source": [
    "fig, axes = plt.subplots(1, 2, figsize=(12,5))\n",
    "sns.barplot(data=data, x='Drive_type', y='MRP', ax=axes[0])\n",
    "sns.boxplot(data=data, x='Drive_type', y='MRP', ax=axes[1])\n",
    "plt.show()"
   ]
  },
  {
   "cell_type": "code",
   "execution_count": 94,
   "metadata": {
    "colab": {
     "base_uri": "https://localhost:8080/",
     "height": 465
    },
    "id": "C99QCiFrtsGX",
    "outputId": "36960ee0-2f3f-417a-fc4d-19993634df03"
   },
   "outputs": [
    {
     "data": {
      "image/png": "[encoded data removed]",
      "text/plain": [
       "<Figure size 864x360 with 2 Axes>"
      ]
     },
     "metadata": {
      "needs_background": "light"
     },
     "output_type": "display_data"
    }
   ],
   "source": [
    "fig, axes = plt.subplots(1, 2, figsize=(12,5))\n",
    "sns.barplot(data=data, x='SSD', y='MRP', ax=axes[0])\n",
    "sns.boxplot(data=data, x='SSD', y='MRP', ax=axes[1])\n",
    "plt.show()"
   ]
  },
  {
   "cell_type": "code",
   "execution_count": 95,
   "metadata": {
    "colab": {
     "base_uri": "https://localhost:8080/",
     "height": 515
    },
    "id": "pv5fEaZLfWux",
    "outputId": "6d0e9f8e-084d-4b89-c3f9-edeb7ffb3bc5"
   },
   "outputs": [
    {
     "data": {
      "text/plain": [
       "<AxesSubplot:>"
      ]
     },
     "execution_count": 95,
     "metadata": {},
     "output_type": "execute_result"
    },
    {
     "data": {
      "image/png": "[encoded data removed]",
      "text/plain": [
       "<Figure size 432x288 with 2 Axes>"
      ]
     },
     "metadata": {
      "needs_background": "light"
     },
     "output_type": "display_data"
    }
   ],
   "source": [
    "sns.heatmap(data.corr(), annot=True)"
   ]
  },
  {
   "cell_type": "code",
   "execution_count": 96,
   "metadata": {
    "colab": {
     "base_uri": "https://localhost:8080/",
     "height": 1000
    },
    "id": "tbq8ltbDN5w7",
    "outputId": "aed0cf22-63ad-42e7-8d42-6e613daadc81"
   },
   "outputs": [
    {
     "data": {
      "image/png": "[encoded data removed]",
      "text/plain": [
       "<Figure size 864x360 with 2 Axes>"
      ]
     },
     "metadata": {
      "needs_background": "light"
     },
     "output_type": "display_data"
    },
    {
     "data": {
      "image/png": "[encoded data removed]",
      "text/plain": [
       "<Figure size 864x360 with 2 Axes>"
      ]
     },
     "metadata": {
      "needs_background": "light"
     },
     "output_type": "display_data"
    },
    {
     "data": {
      "image/png": "[encoded data removed]",
      "text/plain": [
       "<Figure size 864x360 with 2 Axes>"
      ]
     },
     "metadata": {
      "needs_background": "light"
     },
     "output_type": "display_data"
    },
    {
     "data": {
      "image/png": "[encoded data removed]",
      "text/plain": [
       "<Figure size 864x360 with 2 Axes>"
      ]
     },
     "metadata": {
      "needs_background": "light"
     },
     "output_type": "display_data"
    },
    {
     "data": {
      "image/png": "[encoded data removed]",
      "text/plain": [
       "<Figure size 864x360 with 2 Axes>"
      ]
     },
     "metadata": {
      "needs_background": "light"
     },
     "output_type": "display_data"
    },
    {
     "data": {
      "image/png": "[encoded data removed]",
      "text/plain": [
       "<Figure size 864x360 with 2 Axes>"
      ]
     },
     "metadata": {
      "needs_background": "light"
     },
     "output_type": "display_data"
    },
    {
     "data": {
      "image/png": "[encoded data removed]",
      "text/plain": [
       "<Figure size 864x360 with 2 Axes>"
      ]
     },
     "metadata": {
      "needs_background": "light"
     },
     "output_type": "display_data"
    },
    {
     "data": {
      "image/png": "[encoded data removed]",
      "text/plain": [
       "<Figure size 864x360 with 2 Axes>"
      ]
     },
     "metadata": {
      "needs_background": "light"
     },
     "output_type": "display_data"
    },
    {
     "data": {
      "image/png": "[encoded data removed]",
      "text/plain": [
       "<Figure size 864x360 with 2 Axes>"
      ]
     },
     "metadata": {
      "needs_background": "light"
     },
     "output_type": "display_data"
    },
    {
     "data": {
      "image/png": "[encoded data removed]",
      "text/plain": [
       "<Figure size 864x360 with 2 Axes>"
      ]
     },
     "metadata": {
      "needs_background": "light"
     },
     "output_type": "display_data"
    }
   ],
   "source": [
    "num_cols = data.select_dtypes('number').drop(['MRP'], axis=1).columns\n",
    "for col in num_cols:\n",
    "  fig, axes = plt.subplots(1,2, figsize=(12, 5))\n",
    "  sns.scatterplot(data=data, x=col, y='MRP', ax=axes[0])\n",
    "  sns.kdeplot(data=data, x=col, ax=axes[1])\n",
    "  plt.show()"
   ]
  },
  {
   "cell_type": "code",
   "execution_count": 97,
   "metadata": {
    "colab": {
     "base_uri": "https://localhost:8080/"
    },
    "id": "bensJdozOD2G",
    "outputId": "eae31c31-6294-41ad-d6eb-0e1f7497d3f7"
   },
   "outputs": [
    {
     "data": {
      "text/plain": [
       "count    720.000000\n",
       "mean      15.183000\n",
       "std        0.891272\n",
       "min       11.600000\n",
       "25%       14.175000\n",
       "50%       15.600000\n",
       "75%       15.600000\n",
       "max       17.300000\n",
       "Name: Display, dtype: float64"
      ]
     },
     "execution_count": 97,
     "metadata": {},
     "output_type": "execute_result"
    }
   ],
   "source": [
    "data['Display'].describe()"
   ]
  },
  {
   "cell_type": "code",
   "execution_count": 99,
   "metadata": {},
   "outputs": [
    {
     "data": {
      "text/plain": [
       "15.60    492\n",
       "14.00    139\n",
       "13.30     18\n",
       "16.00     16\n",
       "17.30     11\n",
       "11.60      9\n",
       "16.10      8\n",
       "13.40      5\n",
       "16.20      5\n",
       "14.10      4\n",
       "15.00      4\n",
       "13.60      3\n",
       "14.20      2\n",
       "13.00      1\n",
       "14.96      1\n",
       "13.50      1\n",
       "16.60      1\n",
       "Name: Display, dtype: int64"
      ]
     },
     "execution_count": 99,
     "metadata": {},
     "output_type": "execute_result"
    }
   ],
   "source": [
    "data['Display'].value_counts()"
   ]
  },
  {
   "cell_type": "code",
   "execution_count": 101,
   "metadata": {
    "colab": {
     "base_uri": "https://localhost:8080/",
     "height": 466
    },
    "id": "RKypNFDhOpZ2",
    "outputId": "a895a9bd-e8ca-4444-e9ea-3c528356b5dc"
   },
   "outputs": [
    {
     "data": {
      "text/plain": [
       "<AxesSubplot:xlabel='Display', ylabel='Count'>"
      ]
     },
     "execution_count": 101,
     "metadata": {},
     "output_type": "execute_result"
    },
    {
     "data": {
      "image/png": "[encoded data removed]",
      "text/plain": [
       "<Figure size 432x288 with 1 Axes>"
      ]
     },
     "metadata": {
      "needs_background": "light"
     },
     "output_type": "display_data"
    }
   ],
   "source": [
    "sns.histplot(data['Display'], bins=5, kde=True)"
   ]
  },
  {
   "cell_type": "code",
   "execution_count": 102,
   "metadata": {
    "colab": {
     "base_uri": "https://localhost:8080/"
    },
    "id": "mRssX-VkVw0V",
    "outputId": "867596bf-cbe4-4303-9e0f-776b272d6be4"
   },
   "outputs": [
    {
     "data": {
      "text/plain": [
       "Index(['CPU_type', 'CPU_cores', 'OS', 'Display', 'RAM_size', 'RAM_type',\n",
       "       'HDD_size', 'HDD', 'SSD_size', 'SSD', 'EMMC_size', 'EMMC', 'Drive_size',\n",
       "       'Drive_type', 'MRP'],\n",
       "      dtype='object')"
      ]
     },
     "execution_count": 102,
     "metadata": {},
     "output_type": "execute_result"
    }
   ],
   "source": [
    "data.columns"
   ]
  },
  {
   "cell_type": "code",
   "execution_count": 103,
   "metadata": {
    "colab": {
     "base_uri": "https://localhost:8080/",
     "height": 206
    },
    "id": "e0TZHS-3VgsB",
    "outputId": "014114a8-3de2-426d-c458-5b0a92b5de29"
   },
   "outputs": [
    {
     "data": {
      "text/html": [
       "<div>\n",
       "<style scoped>\n",
       "    .dataframe tbody tr th:only-of-type {\n",
       "        vertical-align: middle;\n",
       "    }\n",
       "\n",
       "    .dataframe tbody tr th {\n",
       "        vertical-align: top;\n",
       "    }\n",
       "\n",
       "    .dataframe thead th {\n",
       "        text-align: right;\n",
       "    }\n",
       "</style>\n",
       "<table border=\"1\" class=\"dataframe\">\n",
       "  <thead>\n",
       "    <tr style=\"text-align: right;\">\n",
       "      <th></th>\n",
       "      <th>CPU_type</th>\n",
       "      <th>CPU_cores</th>\n",
       "      <th>OS</th>\n",
       "      <th>RAM_size</th>\n",
       "      <th>RAM_type</th>\n",
       "      <th>HDD</th>\n",
       "      <th>SSD_size</th>\n",
       "      <th>SSD</th>\n",
       "      <th>Drive_size</th>\n",
       "      <th>MRP</th>\n",
       "    </tr>\n",
       "  </thead>\n",
       "  <tbody>\n",
       "    <tr>\n",
       "      <th>0</th>\n",
       "      <td>Intel</td>\n",
       "      <td>2.0</td>\n",
       "      <td>Windows</td>\n",
       "      <td>8</td>\n",
       "      <td>DDR4</td>\n",
       "      <td>0</td>\n",
       "      <td>256</td>\n",
       "      <td>1</td>\n",
       "      <td>256</td>\n",
       "      <td>36990.0</td>\n",
       "    </tr>\n",
       "    <tr>\n",
       "      <th>1</th>\n",
       "      <td>Intel</td>\n",
       "      <td>2.0</td>\n",
       "      <td>Windows</td>\n",
       "      <td>8</td>\n",
       "      <td>DDR4</td>\n",
       "      <td>0</td>\n",
       "      <td>512</td>\n",
       "      <td>1</td>\n",
       "      <td>512</td>\n",
       "      <td>39990.0</td>\n",
       "    </tr>\n",
       "    <tr>\n",
       "      <th>2</th>\n",
       "      <td>Intel</td>\n",
       "      <td>2.0</td>\n",
       "      <td>Windows</td>\n",
       "      <td>8</td>\n",
       "      <td>DDR4</td>\n",
       "      <td>0</td>\n",
       "      <td>512</td>\n",
       "      <td>1</td>\n",
       "      <td>512</td>\n",
       "      <td>32990.0</td>\n",
       "    </tr>\n",
       "    <tr>\n",
       "      <th>3</th>\n",
       "      <td>AMD</td>\n",
       "      <td>6.0</td>\n",
       "      <td>Windows</td>\n",
       "      <td>8</td>\n",
       "      <td>DDR4</td>\n",
       "      <td>0</td>\n",
       "      <td>512</td>\n",
       "      <td>1</td>\n",
       "      <td>512</td>\n",
       "      <td>49990.0</td>\n",
       "    </tr>\n",
       "    <tr>\n",
       "      <th>4</th>\n",
       "      <td>Intel</td>\n",
       "      <td>4.0</td>\n",
       "      <td>Windows</td>\n",
       "      <td>8</td>\n",
       "      <td>DDR4</td>\n",
       "      <td>0</td>\n",
       "      <td>512</td>\n",
       "      <td>1</td>\n",
       "      <td>512</td>\n",
       "      <td>49990.0</td>\n",
       "    </tr>\n",
       "  </tbody>\n",
       "</table>\n",
       "</div>"
      ],
      "text/plain": [
       "  CPU_type  CPU_cores       OS  RAM_size RAM_type  HDD  SSD_size  SSD  \\\n",
       "0    Intel        2.0  Windows         8     DDR4    0       256    1   \n",
       "1    Intel        2.0  Windows         8     DDR4    0       512    1   \n",
       "2    Intel        2.0  Windows         8     DDR4    0       512    1   \n",
       "3      AMD        6.0  Windows         8     DDR4    0       512    1   \n",
       "4    Intel        4.0  Windows         8     DDR4    0       512    1   \n",
       "\n",
       "   Drive_size      MRP  \n",
       "0         256  36990.0  \n",
       "1         512  39990.0  \n",
       "2         512  32990.0  \n",
       "3         512  49990.0  \n",
       "4         512  49990.0  "
      ]
     },
     "execution_count": 103,
     "metadata": {},
     "output_type": "execute_result"
    }
   ],
   "source": [
    "new_data = data.drop(['Display', 'HDD_size', 'EMMC_size', 'EMMC', 'Drive_type'], axis=1)\n",
    "new_data.head()"
   ]
  },
  {
   "cell_type": "code",
   "execution_count": 104,
   "metadata": {
    "id": "uzhs9_s8XH9_"
   },
   "outputs": [],
   "source": [
    "new_data.to_csv('laptop.csv', index = False)"
   ]
  },
  {
   "cell_type": "code",
   "execution_count": 105,
   "metadata": {
    "id": "MQBSrN_TvImm"
   },
   "outputs": [],
   "source": [
    "X = new_data.drop('MRP', axis=1)\n",
    "y = new_data['MRP']"
   ]
  },
  {
   "cell_type": "code",
   "execution_count": 108,
   "metadata": {
    "colab": {
     "base_uri": "https://localhost:8080/"
    },
    "id": "fL6--TxgYs9v",
    "outputId": "c048d75f-60eb-443c-a26a-a6c84c286c31"
   },
   "outputs": [
    {
     "data": {
      "text/plain": [
       "(540, 9)"
      ]
     },
     "execution_count": 108,
     "metadata": {},
     "output_type": "execute_result"
    }
   ],
   "source": [
    "from sklearn.model_selection import train_test_split\n",
    "\n",
    "X_train, X_test, y_train, y_test = train_test_split(X, y, random_state=87)\n",
    "X_train.shape"
   ]
  },
  {
   "cell_type": "code",
   "execution_count": 109,
   "metadata": {
    "id": "UFsmb7EYZOpM"
   },
   "outputs": [],
   "source": [
    "X_train_cat = X_train.select_dtypes('object')\n",
    "X_train_num = X_train.select_dtypes('number').drop(['SSD', 'HDD'], axis=1)\n",
    "X_train_num[['RAM_size', 'Drive_size', 'SSD_size']] = np.log2(X_train_num[['RAM_size', 'Drive_size', 'SSD_size']]+1)"
   ]
  },
  {
   "cell_type": "code",
   "execution_count": 112,
   "metadata": {
    "colab": {
     "base_uri": "https://localhost:8080/",
     "height": 206
    },
    "id": "p5tYqwj2aH4S",
    "outputId": "ef4c02ea-a6ba-4ca2-eb3e-93df9ae973ee"
   },
   "outputs": [
    {
     "data": {
      "text/html": [
       "<div>\n",
       "<style scoped>\n",
       "    .dataframe tbody tr th:only-of-type {\n",
       "        vertical-align: middle;\n",
       "    }\n",
       "\n",
       "    .dataframe tbody tr th {\n",
       "        vertical-align: top;\n",
       "    }\n",
       "\n",
       "    .dataframe thead th {\n",
       "        text-align: right;\n",
       "    }\n",
       "</style>\n",
       "<table border=\"1\" class=\"dataframe\">\n",
       "  <thead>\n",
       "    <tr style=\"text-align: right;\">\n",
       "      <th></th>\n",
       "      <th>CPU_cores</th>\n",
       "      <th>RAM_size</th>\n",
       "      <th>SSD_size</th>\n",
       "      <th>Drive_size</th>\n",
       "    </tr>\n",
       "  </thead>\n",
       "  <tbody>\n",
       "    <tr>\n",
       "      <th>574</th>\n",
       "      <td>-0.330153</td>\n",
       "      <td>-0.567447</td>\n",
       "      <td>0.160746</td>\n",
       "      <td>-0.146241</td>\n",
       "    </tr>\n",
       "    <tr>\n",
       "      <th>9</th>\n",
       "      <td>-0.330153</td>\n",
       "      <td>1.054341</td>\n",
       "      <td>0.160746</td>\n",
       "      <td>-0.146241</td>\n",
       "    </tr>\n",
       "    <tr>\n",
       "      <th>679</th>\n",
       "      <td>-0.330153</td>\n",
       "      <td>-0.567447</td>\n",
       "      <td>0.160746</td>\n",
       "      <td>-0.146241</td>\n",
       "    </tr>\n",
       "    <tr>\n",
       "      <th>434</th>\n",
       "      <td>-1.183181</td>\n",
       "      <td>-2.066319</td>\n",
       "      <td>-0.368646</td>\n",
       "      <td>-1.369961</td>\n",
       "    </tr>\n",
       "    <tr>\n",
       "      <th>15</th>\n",
       "      <td>1.375902</td>\n",
       "      <td>1.054341</td>\n",
       "      <td>0.672737</td>\n",
       "      <td>1.037253</td>\n",
       "    </tr>\n",
       "  </tbody>\n",
       "</table>\n",
       "</div>"
      ],
      "text/plain": [
       "     CPU_cores  RAM_size  SSD_size  Drive_size\n",
       "574  -0.330153 -0.567447  0.160746   -0.146241\n",
       "9    -0.330153  1.054341  0.160746   -0.146241\n",
       "679  -0.330153 -0.567447  0.160746   -0.146241\n",
       "434  -1.183181 -2.066319 -0.368646   -1.369961\n",
       "15    1.375902  1.054341  0.672737    1.037253"
      ]
     },
     "execution_count": 112,
     "metadata": {},
     "output_type": "execute_result"
    }
   ],
   "source": [
    "from sklearn.preprocessing import StandardScaler\n",
    "\n",
    "scaler = StandardScaler()\n",
    "X_train_num_sc = pd.DataFrame(scaler.fit_transform(X_train_num),\n",
    "                              columns = X_train_num.columns,\n",
    "                              index = X_train_num.index)\n",
    "X_train_num_sc.head()"
   ]
  },
  {
   "cell_type": "code",
   "execution_count": 117,
   "metadata": {
    "colab": {
     "base_uri": "https://localhost:8080/",
     "height": 250
    },
    "id": "ehlzgvjMb1O7",
    "outputId": "aac96de3-bd1b-40fa-e91e-19208704d23c"
   },
   "outputs": [
    {
     "data": {
      "text/html": [
       "<div>\n",
       "<style scoped>\n",
       "    .dataframe tbody tr th:only-of-type {\n",
       "        vertical-align: middle;\n",
       "    }\n",
       "\n",
       "    .dataframe tbody tr th {\n",
       "        vertical-align: top;\n",
       "    }\n",
       "\n",
       "    .dataframe thead th {\n",
       "        text-align: right;\n",
       "    }\n",
       "</style>\n",
       "<table border=\"1\" class=\"dataframe\">\n",
       "  <thead>\n",
       "    <tr style=\"text-align: right;\">\n",
       "      <th></th>\n",
       "      <th>CPU_type_AMD</th>\n",
       "      <th>CPU_type_Apple</th>\n",
       "      <th>CPU_type_Intel</th>\n",
       "      <th>OS_Chrome</th>\n",
       "      <th>OS_DOS</th>\n",
       "      <th>OS_Mac OS</th>\n",
       "      <th>OS_Windows</th>\n",
       "      <th>RAM_type_DDR4</th>\n",
       "      <th>RAM_type_DDR5</th>\n",
       "      <th>RAM_type_Unified Memory</th>\n",
       "    </tr>\n",
       "  </thead>\n",
       "  <tbody>\n",
       "    <tr>\n",
       "      <th>574</th>\n",
       "      <td>0.0</td>\n",
       "      <td>0.0</td>\n",
       "      <td>1.0</td>\n",
       "      <td>0.0</td>\n",
       "      <td>0.0</td>\n",
       "      <td>0.0</td>\n",
       "      <td>1.0</td>\n",
       "      <td>0.0</td>\n",
       "      <td>1.0</td>\n",
       "      <td>0.0</td>\n",
       "    </tr>\n",
       "    <tr>\n",
       "      <th>9</th>\n",
       "      <td>1.0</td>\n",
       "      <td>0.0</td>\n",
       "      <td>0.0</td>\n",
       "      <td>0.0</td>\n",
       "      <td>0.0</td>\n",
       "      <td>0.0</td>\n",
       "      <td>1.0</td>\n",
       "      <td>1.0</td>\n",
       "      <td>0.0</td>\n",
       "      <td>0.0</td>\n",
       "    </tr>\n",
       "    <tr>\n",
       "      <th>679</th>\n",
       "      <td>0.0</td>\n",
       "      <td>0.0</td>\n",
       "      <td>1.0</td>\n",
       "      <td>0.0</td>\n",
       "      <td>0.0</td>\n",
       "      <td>0.0</td>\n",
       "      <td>1.0</td>\n",
       "      <td>1.0</td>\n",
       "      <td>0.0</td>\n",
       "      <td>0.0</td>\n",
       "    </tr>\n",
       "    <tr>\n",
       "      <th>434</th>\n",
       "      <td>0.0</td>\n",
       "      <td>0.0</td>\n",
       "      <td>1.0</td>\n",
       "      <td>0.0</td>\n",
       "      <td>0.0</td>\n",
       "      <td>0.0</td>\n",
       "      <td>1.0</td>\n",
       "      <td>1.0</td>\n",
       "      <td>0.0</td>\n",
       "      <td>0.0</td>\n",
       "    </tr>\n",
       "    <tr>\n",
       "      <th>15</th>\n",
       "      <td>1.0</td>\n",
       "      <td>0.0</td>\n",
       "      <td>0.0</td>\n",
       "      <td>0.0</td>\n",
       "      <td>0.0</td>\n",
       "      <td>0.0</td>\n",
       "      <td>1.0</td>\n",
       "      <td>0.0</td>\n",
       "      <td>1.0</td>\n",
       "      <td>0.0</td>\n",
       "    </tr>\n",
       "  </tbody>\n",
       "</table>\n",
       "</div>"
      ],
      "text/plain": [
       "     CPU_type_AMD  CPU_type_Apple  CPU_type_Intel  OS_Chrome  OS_DOS  \\\n",
       "574           0.0             0.0             1.0        0.0     0.0   \n",
       "9             1.0             0.0             0.0        0.0     0.0   \n",
       "679           0.0             0.0             1.0        0.0     0.0   \n",
       "434           0.0             0.0             1.0        0.0     0.0   \n",
       "15            1.0             0.0             0.0        0.0     0.0   \n",
       "\n",
       "     OS_Mac OS  OS_Windows  RAM_type_DDR4  RAM_type_DDR5  \\\n",
       "574        0.0         1.0            0.0            1.0   \n",
       "9          0.0         1.0            1.0            0.0   \n",
       "679        0.0         1.0            1.0            0.0   \n",
       "434        0.0         1.0            1.0            0.0   \n",
       "15         0.0         1.0            0.0            1.0   \n",
       "\n",
       "     RAM_type_Unified Memory  \n",
       "574                      0.0  \n",
       "9                        0.0  \n",
       "679                      0.0  \n",
       "434                      0.0  \n",
       "15                       0.0  "
      ]
     },
     "execution_count": 117,
     "metadata": {},
     "output_type": "execute_result"
    }
   ],
   "source": [
    "from sklearn.preprocessing import OneHotEncoder\n",
    "\n",
    "encoder = OneHotEncoder(drop='if_binary',sparse=False, handle_unknown='ignore')\n",
    "X_train_cat_enc = pd.DataFrame(encoder.fit_transform(X_train_cat), \n",
    "                               columns=encoder.get_feature_names_out(X_train_cat.columns), \n",
    "                               #columns=X_train_cat.columns,\n",
    "                               index = X_train_cat.index)\n",
    "X_train_cat_enc.head()"
   ]
  },
  {
   "cell_type": "code",
   "execution_count": 118,
   "metadata": {
    "colab": {
     "base_uri": "https://localhost:8080/",
     "height": 287
    },
    "id": "xaDE-TwIfJA_",
    "outputId": "d134e537-937d-4e36-d16d-e5875b953a89"
   },
   "outputs": [
    {
     "data": {
      "text/html": [
       "<div>\n",
       "<style scoped>\n",
       "    .dataframe tbody tr th:only-of-type {\n",
       "        vertical-align: middle;\n",
       "    }\n",
       "\n",
       "    .dataframe tbody tr th {\n",
       "        vertical-align: top;\n",
       "    }\n",
       "\n",
       "    .dataframe thead th {\n",
       "        text-align: right;\n",
       "    }\n",
       "</style>\n",
       "<table border=\"1\" class=\"dataframe\">\n",
       "  <thead>\n",
       "    <tr style=\"text-align: right;\">\n",
       "      <th></th>\n",
       "      <th>CPU_cores</th>\n",
       "      <th>RAM_size</th>\n",
       "      <th>SSD_size</th>\n",
       "      <th>Drive_size</th>\n",
       "      <th>CPU_type_AMD</th>\n",
       "      <th>CPU_type_Apple</th>\n",
       "      <th>CPU_type_Intel</th>\n",
       "      <th>OS_Chrome</th>\n",
       "      <th>OS_DOS</th>\n",
       "      <th>OS_Mac OS</th>\n",
       "      <th>OS_Windows</th>\n",
       "      <th>RAM_type_DDR4</th>\n",
       "      <th>RAM_type_DDR5</th>\n",
       "      <th>RAM_type_Unified Memory</th>\n",
       "      <th>SSD</th>\n",
       "      <th>HDD</th>\n",
       "    </tr>\n",
       "  </thead>\n",
       "  <tbody>\n",
       "    <tr>\n",
       "      <th>574</th>\n",
       "      <td>-0.330153</td>\n",
       "      <td>-0.567447</td>\n",
       "      <td>0.160746</td>\n",
       "      <td>-0.146241</td>\n",
       "      <td>0.0</td>\n",
       "      <td>0.0</td>\n",
       "      <td>1.0</td>\n",
       "      <td>0.0</td>\n",
       "      <td>0.0</td>\n",
       "      <td>0.0</td>\n",
       "      <td>1.0</td>\n",
       "      <td>0.0</td>\n",
       "      <td>1.0</td>\n",
       "      <td>0.0</td>\n",
       "      <td>1</td>\n",
       "      <td>0</td>\n",
       "    </tr>\n",
       "    <tr>\n",
       "      <th>9</th>\n",
       "      <td>-0.330153</td>\n",
       "      <td>1.054341</td>\n",
       "      <td>0.160746</td>\n",
       "      <td>-0.146241</td>\n",
       "      <td>1.0</td>\n",
       "      <td>0.0</td>\n",
       "      <td>0.0</td>\n",
       "      <td>0.0</td>\n",
       "      <td>0.0</td>\n",
       "      <td>0.0</td>\n",
       "      <td>1.0</td>\n",
       "      <td>1.0</td>\n",
       "      <td>0.0</td>\n",
       "      <td>0.0</td>\n",
       "      <td>1</td>\n",
       "      <td>0</td>\n",
       "    </tr>\n",
       "    <tr>\n",
       "      <th>679</th>\n",
       "      <td>-0.330153</td>\n",
       "      <td>-0.567447</td>\n",
       "      <td>0.160746</td>\n",
       "      <td>-0.146241</td>\n",
       "      <td>0.0</td>\n",
       "      <td>0.0</td>\n",
       "      <td>1.0</td>\n",
       "      <td>0.0</td>\n",
       "      <td>0.0</td>\n",
       "      <td>0.0</td>\n",
       "      <td>1.0</td>\n",
       "      <td>1.0</td>\n",
       "      <td>0.0</td>\n",
       "      <td>0.0</td>\n",
       "      <td>1</td>\n",
       "      <td>0</td>\n",
       "    </tr>\n",
       "    <tr>\n",
       "      <th>434</th>\n",
       "      <td>-1.183181</td>\n",
       "      <td>-2.066319</td>\n",
       "      <td>-0.368646</td>\n",
       "      <td>-1.369961</td>\n",
       "      <td>0.0</td>\n",
       "      <td>0.0</td>\n",
       "      <td>1.0</td>\n",
       "      <td>0.0</td>\n",
       "      <td>0.0</td>\n",
       "      <td>0.0</td>\n",
       "      <td>1.0</td>\n",
       "      <td>1.0</td>\n",
       "      <td>0.0</td>\n",
       "      <td>0.0</td>\n",
       "      <td>1</td>\n",
       "      <td>0</td>\n",
       "    </tr>\n",
       "    <tr>\n",
       "      <th>15</th>\n",
       "      <td>1.375902</td>\n",
       "      <td>1.054341</td>\n",
       "      <td>0.672737</td>\n",
       "      <td>1.037253</td>\n",
       "      <td>1.0</td>\n",
       "      <td>0.0</td>\n",
       "      <td>0.0</td>\n",
       "      <td>0.0</td>\n",
       "      <td>0.0</td>\n",
       "      <td>0.0</td>\n",
       "      <td>1.0</td>\n",
       "      <td>0.0</td>\n",
       "      <td>1.0</td>\n",
       "      <td>0.0</td>\n",
       "      <td>1</td>\n",
       "      <td>0</td>\n",
       "    </tr>\n",
       "  </tbody>\n",
       "</table>\n",
       "</div>"
      ],
      "text/plain": [
       "     CPU_cores  RAM_size  SSD_size  Drive_size  CPU_type_AMD  CPU_type_Apple  \\\n",
       "574  -0.330153 -0.567447  0.160746   -0.146241           0.0             0.0   \n",
       "9    -0.330153  1.054341  0.160746   -0.146241           1.0             0.0   \n",
       "679  -0.330153 -0.567447  0.160746   -0.146241           0.0             0.0   \n",
       "434  -1.183181 -2.066319 -0.368646   -1.369961           0.0             0.0   \n",
       "15    1.375902  1.054341  0.672737    1.037253           1.0             0.0   \n",
       "\n",
       "     CPU_type_Intel  OS_Chrome  OS_DOS  OS_Mac OS  OS_Windows  RAM_type_DDR4  \\\n",
       "574             1.0        0.0     0.0        0.0         1.0            0.0   \n",
       "9               0.0        0.0     0.0        0.0         1.0            1.0   \n",
       "679             1.0        0.0     0.0        0.0         1.0            1.0   \n",
       "434             1.0        0.0     0.0        0.0         1.0            1.0   \n",
       "15              0.0        0.0     0.0        0.0         1.0            0.0   \n",
       "\n",
       "     RAM_type_DDR5  RAM_type_Unified Memory  SSD  HDD  \n",
       "574            1.0                      0.0    1    0  \n",
       "9              0.0                      0.0    1    0  \n",
       "679            0.0                      0.0    1    0  \n",
       "434            0.0                      0.0    1    0  \n",
       "15             1.0                      0.0    1    0  "
      ]
     },
     "execution_count": 118,
     "metadata": {},
     "output_type": "execute_result"
    }
   ],
   "source": [
    "X_train_tr = pd.concat([X_train_num_sc, X_train_cat_enc, X_train.SSD, X_train.HDD], axis=1)\n",
    "X_train_tr.head()"
   ]
  },
  {
   "cell_type": "code",
   "execution_count": 119,
   "metadata": {
    "colab": {
     "base_uri": "https://localhost:8080/",
     "height": 287
    },
    "id": "NpBK1Ob_fxDX",
    "outputId": "41900de6-56db-4ab9-a8b9-adbc4c6d5a59"
   },
   "outputs": [
    {
     "data": {
      "text/html": [
       "<div>\n",
       "<style scoped>\n",
       "    .dataframe tbody tr th:only-of-type {\n",
       "        vertical-align: middle;\n",
       "    }\n",
       "\n",
       "    .dataframe tbody tr th {\n",
       "        vertical-align: top;\n",
       "    }\n",
       "\n",
       "    .dataframe thead th {\n",
       "        text-align: right;\n",
       "    }\n",
       "</style>\n",
       "<table border=\"1\" class=\"dataframe\">\n",
       "  <thead>\n",
       "    <tr style=\"text-align: right;\">\n",
       "      <th></th>\n",
       "      <th>CPU_cores</th>\n",
       "      <th>RAM_size</th>\n",
       "      <th>SSD_size</th>\n",
       "      <th>Drive_size</th>\n",
       "      <th>CPU_type_AMD</th>\n",
       "      <th>CPU_type_Apple</th>\n",
       "      <th>CPU_type_Intel</th>\n",
       "      <th>OS_Chrome</th>\n",
       "      <th>OS_DOS</th>\n",
       "      <th>OS_Mac OS</th>\n",
       "      <th>OS_Windows</th>\n",
       "      <th>RAM_type_DDR4</th>\n",
       "      <th>RAM_type_DDR5</th>\n",
       "      <th>RAM_type_Unified Memory</th>\n",
       "      <th>SSD</th>\n",
       "      <th>HDD</th>\n",
       "    </tr>\n",
       "  </thead>\n",
       "  <tbody>\n",
       "    <tr>\n",
       "      <th>362</th>\n",
       "      <td>-1.183181</td>\n",
       "      <td>-0.567447</td>\n",
       "      <td>-0.368646</td>\n",
       "      <td>-1.369961</td>\n",
       "      <td>1.0</td>\n",
       "      <td>0.0</td>\n",
       "      <td>0.0</td>\n",
       "      <td>0.0</td>\n",
       "      <td>0.0</td>\n",
       "      <td>0.0</td>\n",
       "      <td>1.0</td>\n",
       "      <td>1.0</td>\n",
       "      <td>0.0</td>\n",
       "      <td>0.0</td>\n",
       "      <td>1</td>\n",
       "      <td>0</td>\n",
       "    </tr>\n",
       "    <tr>\n",
       "      <th>182</th>\n",
       "      <td>-1.183181</td>\n",
       "      <td>-0.567447</td>\n",
       "      <td>0.160746</td>\n",
       "      <td>-0.146241</td>\n",
       "      <td>0.0</td>\n",
       "      <td>0.0</td>\n",
       "      <td>1.0</td>\n",
       "      <td>0.0</td>\n",
       "      <td>0.0</td>\n",
       "      <td>0.0</td>\n",
       "      <td>1.0</td>\n",
       "      <td>1.0</td>\n",
       "      <td>0.0</td>\n",
       "      <td>0.0</td>\n",
       "      <td>1</td>\n",
       "      <td>0</td>\n",
       "    </tr>\n",
       "    <tr>\n",
       "      <th>263</th>\n",
       "      <td>-1.183181</td>\n",
       "      <td>-0.567447</td>\n",
       "      <td>-0.368646</td>\n",
       "      <td>-1.369961</td>\n",
       "      <td>0.0</td>\n",
       "      <td>0.0</td>\n",
       "      <td>1.0</td>\n",
       "      <td>0.0</td>\n",
       "      <td>0.0</td>\n",
       "      <td>0.0</td>\n",
       "      <td>1.0</td>\n",
       "      <td>1.0</td>\n",
       "      <td>0.0</td>\n",
       "      <td>0.0</td>\n",
       "      <td>1</td>\n",
       "      <td>0</td>\n",
       "    </tr>\n",
       "    <tr>\n",
       "      <th>68</th>\n",
       "      <td>0.522874</td>\n",
       "      <td>-0.567447</td>\n",
       "      <td>0.672737</td>\n",
       "      <td>1.037253</td>\n",
       "      <td>1.0</td>\n",
       "      <td>0.0</td>\n",
       "      <td>0.0</td>\n",
       "      <td>0.0</td>\n",
       "      <td>0.0</td>\n",
       "      <td>0.0</td>\n",
       "      <td>1.0</td>\n",
       "      <td>1.0</td>\n",
       "      <td>0.0</td>\n",
       "      <td>0.0</td>\n",
       "      <td>1</td>\n",
       "      <td>0</td>\n",
       "    </tr>\n",
       "    <tr>\n",
       "      <th>274</th>\n",
       "      <td>0.522874</td>\n",
       "      <td>1.054341</td>\n",
       "      <td>0.160746</td>\n",
       "      <td>-0.146241</td>\n",
       "      <td>1.0</td>\n",
       "      <td>0.0</td>\n",
       "      <td>0.0</td>\n",
       "      <td>0.0</td>\n",
       "      <td>0.0</td>\n",
       "      <td>0.0</td>\n",
       "      <td>1.0</td>\n",
       "      <td>1.0</td>\n",
       "      <td>0.0</td>\n",
       "      <td>0.0</td>\n",
       "      <td>1</td>\n",
       "      <td>0</td>\n",
       "    </tr>\n",
       "  </tbody>\n",
       "</table>\n",
       "</div>"
      ],
      "text/plain": [
       "     CPU_cores  RAM_size  SSD_size  Drive_size  CPU_type_AMD  CPU_type_Apple  \\\n",
       "362  -1.183181 -0.567447 -0.368646   -1.369961           1.0             0.0   \n",
       "182  -1.183181 -0.567447  0.160746   -0.146241           0.0             0.0   \n",
       "263  -1.183181 -0.567447 -0.368646   -1.369961           0.0             0.0   \n",
       "68    0.522874 -0.567447  0.672737    1.037253           1.0             0.0   \n",
       "274   0.522874  1.054341  0.160746   -0.146241           1.0             0.0   \n",
       "\n",
       "     CPU_type_Intel  OS_Chrome  OS_DOS  OS_Mac OS  OS_Windows  RAM_type_DDR4  \\\n",
       "362             0.0        0.0     0.0        0.0         1.0            1.0   \n",
       "182             1.0        0.0     0.0        0.0         1.0            1.0   \n",
       "263             1.0        0.0     0.0        0.0         1.0            1.0   \n",
       "68              0.0        0.0     0.0        0.0         1.0            1.0   \n",
       "274             0.0        0.0     0.0        0.0         1.0            1.0   \n",
       "\n",
       "     RAM_type_DDR5  RAM_type_Unified Memory  SSD  HDD  \n",
       "362            0.0                      0.0    1    0  \n",
       "182            0.0                      0.0    1    0  \n",
       "263            0.0                      0.0    1    0  \n",
       "68             0.0                      0.0    1    0  \n",
       "274            0.0                      0.0    1    0  "
      ]
     },
     "execution_count": 119,
     "metadata": {},
     "output_type": "execute_result"
    }
   ],
   "source": [
    "X_test_cat = X_test.select_dtypes('object')\n",
    "X_test_num = X_test.select_dtypes('number').drop(['SSD', 'HDD'], axis=1)\n",
    "X_test_num[['RAM_size', 'Drive_size', 'SSD_size']] = np.log2(X_test_num[['RAM_size', 'Drive_size', 'SSD_size']]+1)\n",
    "X_test_num_sc = pd.DataFrame(scaler.transform(X_test_num),\n",
    "                              columns = X_test_num.columns,\n",
    "                              index = X_test_num.index)\n",
    "X_test_cat_enc = pd.DataFrame(encoder.transform(X_test_cat), \n",
    "                               columns=encoder.get_feature_names_out(X_test_cat.columns), \n",
    "                               index = X_test_cat.index)\n",
    "X_test_tr = pd.concat([X_test_num_sc, X_test_cat_enc, X_test.SSD, X_test.HDD], axis=1)\n",
    "X_test_tr.head()"
   ]
  },
  {
   "cell_type": "code",
   "execution_count": 120,
   "metadata": {
    "colab": {
     "base_uri": "https://localhost:8080/",
     "height": 75
    },
    "id": "Ca7JwFElfi3j",
    "outputId": "b25f3624-0a88-40cc-f534-de518ba17a7a"
   },
   "outputs": [
    {
     "data": {
      "text/plain": [
       "LinearRegression()"
      ]
     },
     "execution_count": 120,
     "metadata": {},
     "output_type": "execute_result"
    }
   ],
   "source": [
    "from sklearn.linear_model import LinearRegression\n",
    "regressor = LinearRegression()\n",
    "regressor.fit(X_train_tr, y_train)"
   ]
  },
  {
   "cell_type": "code",
   "execution_count": 121,
   "metadata": {
    "colab": {
     "base_uri": "https://localhost:8080/",
     "height": 466
    },
    "id": "BdPVEyCIhqVY",
    "outputId": "1499dadb-8d93-4354-da6f-4a5e8a6fcd26"
   },
   "outputs": [
    {
     "data": {
      "text/plain": [
       "<AxesSubplot:xlabel='MRP', ylabel='Count'>"
      ]
     },
     "execution_count": 121,
     "metadata": {},
     "output_type": "execute_result"
    },
    {
     "data": {
      "image/png": "[encoded data removed]",
      "text/plain": [
       "<Figure size 432x288 with 1 Axes>"
      ]
     },
     "metadata": {
      "needs_background": "light"
     },
     "output_type": "display_data"
    }
   ],
   "source": [
    "y_test_pr = regressor.predict(X_test_tr)\n",
    "\n",
    "sns.histplot(y_test, color='blue', alpha=0.5)\n",
    "sns.histplot(y_test_pr, color='red', alpha=0.5)"
   ]
  },
  {
   "cell_type": "code",
   "execution_count": 122,
   "metadata": {
    "colab": {
     "base_uri": "https://localhost:8080/"
    },
    "id": "r2-qbnUyjMbt",
    "outputId": "43cdf110-6aa6-4f89-b073-93d523dd5956"
   },
   "outputs": [
    {
     "name": "stdout",
     "output_type": "stream",
     "text": [
      "Mean Absolute Error:  18221.816666666666\n",
      "Mean Squared Error:  557343825.9055556\n",
      "Root Mean Squared Error:  23608.130504246954\n",
      "Coefficient of Determination:  0.8454674184872664\n"
     ]
    }
   ],
   "source": [
    "from sklearn import metrics\n",
    "\n",
    "print('Mean Absolute Error: ', metrics.mean_absolute_error(y_test, y_test_pr))\n",
    "print('Mean Squared Error: ', metrics.mean_squared_error(y_test, y_test_pr))\n",
    "print('Root Mean Squared Error: ', np.sqrt(metrics.mean_squared_error(y_test, y_test_pr)))\n",
    "print('Coefficient of Determination: ', metrics.r2_score(y_test, y_test_pr))"
   ]
  },
  {
   "cell_type": "code",
   "execution_count": 123,
   "metadata": {
    "colab": {
     "base_uri": "https://localhost:8080/",
     "height": 536
    },
    "id": "i8t-6NFcjf2j",
    "outputId": "82592c7b-5af9-4991-dc57-e2584818e666"
   },
   "outputs": [
    {
     "name": "stdout",
     "output_type": "stream",
     "text": [
      "Mean Absolute Error:  12701.462222222222\n",
      "Mean Squared Error:  390939224.45377773\n",
      "Root Mean Squared Error:  19772.18309782149\n",
      "Coefficient of Determination:  0.8916057830706723\n"
     ]
    },
    {
     "data": {
      "text/plain": [
       "<AxesSubplot:xlabel='MRP', ylabel='Count'>"
      ]
     },
     "execution_count": 123,
     "metadata": {},
     "output_type": "execute_result"
    },
    {
     "data": {
      "image/png": "[encoded data removed]",
      "text/plain": [
       "<Figure size 432x288 with 1 Axes>"
      ]
     },
     "metadata": {
      "needs_background": "light"
     },
     "output_type": "display_data"
    }
   ],
   "source": [
    "from sklearn.neighbors import KNeighborsRegressor\n",
    "\n",
    "regressor = KNeighborsRegressor()\n",
    "regressor.fit(X_train_tr, y_train)\n",
    "y_test_pr = regressor.predict(X_test_tr)\n",
    "\n",
    "print('Mean Absolute Error: ', metrics.mean_absolute_error(y_test, y_test_pr))\n",
    "print('Mean Squared Error: ', metrics.mean_squared_error(y_test, y_test_pr))\n",
    "print('Root Mean Squared Error: ', np.sqrt(metrics.mean_squared_error(y_test, y_test_pr)))\n",
    "print('Coefficient of Determination: ', metrics.r2_score(y_test, y_test_pr))\n",
    "\n",
    "sns.histplot(y_test, color='blue', alpha=0.5)\n",
    "sns.histplot(y_test_pr, color='red', alpha=0.5)"
   ]
  },
  {
   "cell_type": "code",
   "execution_count": 125,
   "metadata": {
    "colab": {
     "base_uri": "https://localhost:8080/",
     "height": 536
    },
    "id": "BqvIGkAYkYvl",
    "outputId": "24a87022-1fae-4dfd-b09e-05b382fff5f2"
   },
   "outputs": [
    {
     "name": "stdout",
     "output_type": "stream",
     "text": [
      "Mean Absolute Error:  13408.195269245738\n",
      "Mean Squared Error:  426263167.2618968\n",
      "Root Mean Squared Error:  20646.141704006026\n",
      "Coefficient of Determination:  0.8818116491489809\n"
     ]
    },
    {
     "data": {
      "text/plain": [
       "<AxesSubplot:xlabel='MRP', ylabel='Count'>"
      ]
     },
     "execution_count": 125,
     "metadata": {},
     "output_type": "execute_result"
    },
    {
     "data": {
      "image/png": "[encoded data removed]",
      "text/plain": [
       "<Figure size 432x288 with 1 Axes>"
      ]
     },
     "metadata": {
      "needs_background": "light"
     },
     "output_type": "display_data"
    }
   ],
   "source": [
    "from sklearn.tree import DecisionTreeRegressor\n",
    "\n",
    "regressor = DecisionTreeRegressor()\n",
    "regressor.fit(X_train_tr, y_train)\n",
    "y_test_pr = regressor.predict(X_test_tr)\n",
    "\n",
    "print('Mean Absolute Error: ', metrics.mean_absolute_error(y_test, y_test_pr))\n",
    "print('Mean Squared Error: ', metrics.mean_squared_error(y_test, y_test_pr))\n",
    "print('Root Mean Squared Error: ', np.sqrt(metrics.mean_squared_error(y_test, y_test_pr)))\n",
    "print('Coefficient of Determination: ', metrics.r2_score(y_test, y_test_pr))\n",
    "\n",
    "sns.histplot(y_test, color='blue', alpha=0.5)\n",
    "sns.histplot(y_test_pr, color='red', alpha=0.5)"
   ]
  },
  {
   "cell_type": "code",
   "execution_count": 126,
   "metadata": {
    "colab": {
     "base_uri": "https://localhost:8080/",
     "height": 536
    },
    "id": "OVsnFyGhkEV2",
    "outputId": "dc4d1936-90bc-4e17-ff73-207c4166e1f2"
   },
   "outputs": [
    {
     "name": "stdout",
     "output_type": "stream",
     "text": [
      "Mean Absolute Error:  13789.504370806155\n",
      "Mean Squared Error:  431278760.3933348\n",
      "Root Mean Squared Error:  20767.252114647592\n",
      "Coefficient of Determination:  0.8804209949093662\n"
     ]
    },
    {
     "data": {
      "text/plain": [
       "<AxesSubplot:xlabel='MRP', ylabel='Count'>"
      ]
     },
     "execution_count": 126,
     "metadata": {},
     "output_type": "execute_result"
    },
    {
     "data": {
      "image/png": "[encoded data removed]",
      "text/plain": [
       "<Figure size 432x288 with 1 Axes>"
      ]
     },
     "metadata": {
      "needs_background": "light"
     },
     "output_type": "display_data"
    }
   ],
   "source": [
    "from sklearn.ensemble import RandomForestRegressor\n",
    "\n",
    "regressor = RandomForestRegressor()\n",
    "regressor.fit(X_train_tr, y_train)\n",
    "y_test_pr = regressor.predict(X_test_tr)\n",
    "\n",
    "print('Mean Absolute Error: ', metrics.mean_absolute_error(y_test, y_test_pr))\n",
    "print('Mean Squared Error: ', metrics.mean_squared_error(y_test, y_test_pr))\n",
    "print('Root Mean Squared Error: ', np.sqrt(metrics.mean_squared_error(y_test, y_test_pr)))\n",
    "print('Coefficient of Determination: ', metrics.r2_score(y_test, y_test_pr))\n",
    "\n",
    "sns.histplot(y_test, color='blue', alpha=0.5)\n",
    "sns.histplot(y_test_pr, color='red', alpha=0.5)"
   ]
  },
  {
   "cell_type": "code",
   "execution_count": 127,
   "metadata": {
    "colab": {
     "base_uri": "https://localhost:8080/",
     "height": 536
    },
    "id": "pYsLBXaKnjbb",
    "outputId": "85d82184-fd66-4e28-e4e9-26773d54564e"
   },
   "outputs": [
    {
     "name": "stdout",
     "output_type": "stream",
     "text": [
      "Mean Absolute Error:  14089.888419272505\n",
      "Mean Squared Error:  405168612.7270676\n",
      "Root Mean Squared Error:  20128.800578451453\n",
      "Coefficient of Determination:  0.8876604552478587\n"
     ]
    },
    {
     "data": {
      "text/plain": [
       "<AxesSubplot:xlabel='MRP', ylabel='Count'>"
      ]
     },
     "execution_count": 127,
     "metadata": {},
     "output_type": "execute_result"
    },
    {
     "data": {
      "image/png": "[encoded data removed]",
      "text/plain": [
       "<Figure size 432x288 with 1 Axes>"
      ]
     },
     "metadata": {
      "needs_background": "light"
     },
     "output_type": "display_data"
    }
   ],
   "source": [
    "y_train_ln = np.log(y_train)\n",
    "\n",
    "regressor = LinearRegression()\n",
    "regressor.fit(X_train_tr, y_train_ln)\n",
    "y_test_pr = np.exp(regressor.predict(X_test_tr))\n",
    "\n",
    "print('Mean Absolute Error: ', metrics.mean_absolute_error(y_test, y_test_pr))\n",
    "print('Mean Squared Error: ', metrics.mean_squared_error(y_test, y_test_pr))\n",
    "print('Root Mean Squared Error: ', np.sqrt(metrics.mean_squared_error(y_test, y_test_pr)))\n",
    "print('Coefficient of Determination: ', metrics.r2_score(y_test, y_test_pr))\n",
    "\n",
    "sns.histplot(y_test, color='blue', alpha=0.5)\n",
    "sns.histplot(y_test_pr, color='red', alpha=0.5)"
   ]
  },
  {
   "cell_type": "code",
   "execution_count": 128,
   "metadata": {
    "colab": {
     "base_uri": "https://localhost:8080/",
     "height": 536
    },
    "id": "aqgYRa1rpmpp",
    "outputId": "b0fe9621-39b8-41b6-a851-4f818ae01cfd"
   },
   "outputs": [
    {
     "name": "stdout",
     "output_type": "stream",
     "text": [
      "Mean Absolute Error:  12642.300291882822\n",
      "Mean Squared Error:  384320689.6403813\n",
      "Root Mean Squared Error:  19604.09879694502\n",
      "Coefficient of Determination:  0.8934408787925712\n"
     ]
    },
    {
     "data": {
      "text/plain": [
       "<AxesSubplot:xlabel='MRP', ylabel='Count'>"
      ]
     },
     "execution_count": 128,
     "metadata": {},
     "output_type": "execute_result"
    },
    {
     "data": {
      "image/png": "[encoded data removed]",
      "text/plain": [
       "<Figure size 432x288 with 1 Axes>"
      ]
     },
     "metadata": {
      "needs_background": "light"
     },
     "output_type": "display_data"
    }
   ],
   "source": [
    "y_train_ln = np.log(y_train)\n",
    "\n",
    "regressor = KNeighborsRegressor()\n",
    "regressor.fit(X_train_tr, y_train_ln)\n",
    "y_test_pr = np.exp(regressor.predict(X_test_tr))\n",
    "\n",
    "print('Mean Absolute Error: ', metrics.mean_absolute_error(y_test, y_test_pr))\n",
    "print('Mean Squared Error: ', metrics.mean_squared_error(y_test, y_test_pr))\n",
    "print('Root Mean Squared Error: ', np.sqrt(metrics.mean_squared_error(y_test, y_test_pr)))\n",
    "print('Coefficient of Determination: ', metrics.r2_score(y_test, y_test_pr))\n",
    "\n",
    "sns.histplot(y_test, color='blue', alpha=0.5)\n",
    "sns.histplot(y_test_pr, color='red', alpha=0.5)"
   ]
  },
  {
   "cell_type": "code",
   "execution_count": 129,
   "metadata": {
    "colab": {
     "base_uri": "https://localhost:8080/",
     "height": 536
    },
    "id": "8srUkWNxptI9",
    "outputId": "69c325a8-1866-4e2f-abd1-76c76fc09a03"
   },
   "outputs": [
    {
     "name": "stdout",
     "output_type": "stream",
     "text": [
      "Mean Absolute Error:  13209.651007064338\n",
      "Mean Squared Error:  408314970.0701513\n",
      "Root Mean Squared Error:  20206.8050436023\n",
      "Coefficient of Determination:  0.8867880768344112\n"
     ]
    },
    {
     "data": {
      "text/plain": [
       "<AxesSubplot:xlabel='MRP', ylabel='Count'>"
      ]
     },
     "execution_count": 129,
     "metadata": {},
     "output_type": "execute_result"
    },
    {
     "data": {
      "image/png": "[encoded data removed]",
      "text/plain": [
       "<Figure size 432x288 with 1 Axes>"
      ]
     },
     "metadata": {
      "needs_background": "light"
     },
     "output_type": "display_data"
    }
   ],
   "source": [
    "y_train_ln = np.log(y_train)\n",
    "\n",
    "regressor = DecisionTreeRegressor()\n",
    "regressor.fit(X_train_tr, y_train_ln)\n",
    "y_test_pr = np.exp(regressor.predict(X_test_tr))\n",
    "\n",
    "print('Mean Absolute Error: ', metrics.mean_absolute_error(y_test, y_test_pr))\n",
    "print('Mean Squared Error: ', metrics.mean_squared_error(y_test, y_test_pr))\n",
    "print('Root Mean Squared Error: ', np.sqrt(metrics.mean_squared_error(y_test, y_test_pr)))\n",
    "print('Coefficient of Determination: ', metrics.r2_score(y_test, y_test_pr))\n",
    "\n",
    "sns.histplot(y_test, color='blue', alpha=0.5)\n",
    "sns.histplot(y_test_pr, color='red', alpha=0.5)"
   ]
  },
  {
   "cell_type": "code",
   "execution_count": 130,
   "metadata": {
    "colab": {
     "base_uri": "https://localhost:8080/",
     "height": 536
    },
    "id": "YTLyqA8spONZ",
    "outputId": "f1f85f36-dba8-49e1-d1f1-c92bb68b25bf"
   },
   "outputs": [
    {
     "name": "stdout",
     "output_type": "stream",
     "text": [
      "Mean Absolute Error:  13211.616368221554\n",
      "Mean Squared Error:  401355550.9325753\n",
      "Root Mean Squared Error:  20033.860110637073\n",
      "Coefficient of Determination:  0.8887176882433316\n"
     ]
    },
    {
     "data": {
      "text/plain": [
       "<AxesSubplot:xlabel='MRP', ylabel='Count'>"
      ]
     },
     "execution_count": 130,
     "metadata": {},
     "output_type": "execute_result"
    },
    {
     "data": {
      "image/png": "[encoded data removed]",
      "text/plain": [
       "<Figure size 432x288 with 1 Axes>"
      ]
     },
     "metadata": {
      "needs_background": "light"
     },
     "output_type": "display_data"
    }
   ],
   "source": [
    "y_train_ln = np.log(y_train)\n",
    "\n",
    "regressor = RandomForestRegressor()\n",
    "regressor.fit(X_train_tr, y_train_ln)\n",
    "y_test_pr = np.exp(regressor.predict(X_test_tr))\n",
    "\n",
    "print('Mean Absolute Error: ', metrics.mean_absolute_error(y_test, y_test_pr))\n",
    "print('Mean Squared Error: ', metrics.mean_squared_error(y_test, y_test_pr))\n",
    "print('Root Mean Squared Error: ', np.sqrt(metrics.mean_squared_error(y_test, y_test_pr)))\n",
    "print('Coefficient of Determination: ', metrics.r2_score(y_test, y_test_pr))\n",
    "\n",
    "sns.histplot(y_test, color='blue', alpha=0.5)\n",
    "sns.histplot(y_test_pr, color='red', alpha=0.5)"
   ]
  },
  {
   "cell_type": "code",
   "execution_count": 131,
   "metadata": {
    "colab": {
     "base_uri": "https://localhost:8080/",
     "height": 206
    },
    "id": "n2Pg_bdlqhAc",
    "outputId": "8d4b2170-ac65-4783-b950-f1b302c3efe8"
   },
   "outputs": [
    {
     "data": {
      "text/html": [
       "<div>\n",
       "<style scoped>\n",
       "    .dataframe tbody tr th:only-of-type {\n",
       "        vertical-align: middle;\n",
       "    }\n",
       "\n",
       "    .dataframe tbody tr th {\n",
       "        vertical-align: top;\n",
       "    }\n",
       "\n",
       "    .dataframe thead th {\n",
       "        text-align: right;\n",
       "    }\n",
       "</style>\n",
       "<table border=\"1\" class=\"dataframe\">\n",
       "  <thead>\n",
       "    <tr style=\"text-align: right;\">\n",
       "      <th></th>\n",
       "      <th>Actual</th>\n",
       "      <th>Predicted</th>\n",
       "    </tr>\n",
       "  </thead>\n",
       "  <tbody>\n",
       "    <tr>\n",
       "      <th>362</th>\n",
       "      <td>33990.0</td>\n",
       "      <td>32456.945800</td>\n",
       "    </tr>\n",
       "    <tr>\n",
       "      <th>182</th>\n",
       "      <td>37490.0</td>\n",
       "      <td>41053.367202</td>\n",
       "    </tr>\n",
       "    <tr>\n",
       "      <th>263</th>\n",
       "      <td>29990.0</td>\n",
       "      <td>37475.755916</td>\n",
       "    </tr>\n",
       "    <tr>\n",
       "      <th>68</th>\n",
       "      <td>59990.0</td>\n",
       "      <td>75250.501842</td>\n",
       "    </tr>\n",
       "    <tr>\n",
       "      <th>274</th>\n",
       "      <td>81990.0</td>\n",
       "      <td>63569.023980</td>\n",
       "    </tr>\n",
       "  </tbody>\n",
       "</table>\n",
       "</div>"
      ],
      "text/plain": [
       "      Actual     Predicted\n",
       "362  33990.0  32456.945800\n",
       "182  37490.0  41053.367202\n",
       "263  29990.0  37475.755916\n",
       "68   59990.0  75250.501842\n",
       "274  81990.0  63569.023980"
      ]
     },
     "execution_count": 131,
     "metadata": {},
     "output_type": "execute_result"
    }
   ],
   "source": [
    "temp_df = pd.DataFrame({'Actual': y_test, 'Predicted': y_test_pr})\n",
    "temp_df.head()"
   ]
  },
  {
   "cell_type": "code",
   "execution_count": 132,
   "metadata": {
    "colab": {
     "base_uri": "https://localhost:8080/"
    },
    "id": "t_SfSZjh2Ow3",
    "outputId": "4add58e0-0535-483a-8797-c92180d92f41"
   },
   "outputs": [
    {
     "name": "stdout",
     "output_type": "stream",
     "text": [
      "Mean Absolute Error:  13349.98692045574\n",
      "Mean Squared Error:  409360401.31735873\n",
      "Root Mean Squared Error:  20232.65680323172\n",
      "Coefficient of Determination:  0.8864982141286343\n"
     ]
    }
   ],
   "source": [
    "from sklearn.compose import ColumnTransformer\n",
    "\n",
    "X = new_data.drop('MRP', axis=1)\n",
    "y = new_data['MRP']\n",
    "X_train, X_test, y_train, y_test = train_test_split(X, y, random_state=87)\n",
    "X_train[['RAM_size', 'Drive_size', 'SSD_size']] = np.log2(X_train[['RAM_size', 'Drive_size', 'SSD_size']]+1)\n",
    "X_test[['RAM_size', 'Drive_size', 'SSD_size']] = np.log2(X_test[['RAM_size', 'Drive_size', 'SSD_size']]+1)\n",
    "\n",
    "\n",
    "preprocessor = ColumnTransformer(\n",
    "    [\n",
    "        ('onehot', OneHotEncoder(handle_unknown='ignore'), ['CPU_type', 'OS', 'RAM_type']),\n",
    "        ('scaler', StandardScaler(), ['CPU_cores', 'RAM_size', 'SSD_size', 'Drive_size'])\n",
    "    ],\n",
    "    remainder = 'passthrough'\n",
    ")\n",
    "\n",
    "rfr = RandomForestRegressor(random_state=87)\n",
    "X_train_pr = preprocessor.fit_transform(X_train)\n",
    "X_test_pr = preprocessor.transform(X_test)\n",
    "\n",
    "rfr.fit(X_train_pr, np.log(y_train))\n",
    "y_test_pr = np.exp(rfr.predict(X_test_pr))\n",
    "\n",
    "print('Mean Absolute Error: ', metrics.mean_absolute_error(y_test, y_test_pr))\n",
    "print('Mean Squared Error: ', metrics.mean_squared_error(y_test, y_test_pr))\n",
    "print('Root Mean Squared Error: ', np.sqrt(metrics.mean_squared_error(y_test, y_test_pr)))\n",
    "print('Coefficient of Determination: ', metrics.r2_score(y_test, y_test_pr))"
   ]
  },
  {
   "cell_type": "code",
   "execution_count": 133,
   "metadata": {
    "colab": {
     "base_uri": "https://localhost:8080/"
    },
    "id": "Vky0f7VUtTjJ",
    "outputId": "1ffa5061-686f-4e7b-ee3d-074ea55cbe95"
   },
   "outputs": [
    {
     "name": "stdout",
     "output_type": "stream",
     "text": [
      "Model Performance\n",
      "Accuracy = 84.65%\n"
     ]
    }
   ],
   "source": [
    "errors = abs(y_test_pr - y_test)\n",
    "mape = 100 * np.mean(errors / y_test)\n",
    "accuracy = 100 - mape\n",
    "print('Model Performance')\n",
    "print(f'Accuracy = {accuracy:0.2f}%')"
   ]
  },
  {
   "cell_type": "code",
   "execution_count": null,
   "metadata": {},
   "outputs": [],
   "source": []
  }
 ],
 "metadata": {
  "colab": {
   "authorship_tag": "ABX9TyO5QKRfOZSAblrWnPTosBuX",
   "include_colab_link": true,
   "mount_file_id": "12LLTj4b_FzrYkUteNCBoyBeOKjV9Alhq",
   "provenance": []
  },
  "kernelspec": {
   "display_name": "Python 3 (ipykernel)",
   "language": "python",
   "name": "python3"
  },
  "language_info": {
   "codemirror_mode": {
    "name": "ipython",
    "version": 3
   },
   "file_extension": ".py",
   "mimetype": "text/x-python",
   "name": "python",
   "nbconvert_exporter": "python",
   "pygments_lexer": "ipython3",
   "version": "3.9.12"
  }
 },
 "nbformat": 4,
 "nbformat_minor": 1
}
