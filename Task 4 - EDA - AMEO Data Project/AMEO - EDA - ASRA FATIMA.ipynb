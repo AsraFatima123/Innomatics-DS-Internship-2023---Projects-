{
 "cells": [
  {
   "cell_type": "markdown",
   "id": "1cf0ed0e",
   "metadata": {},
   "source": [
    "# <h1 style='color:blue' align='center'> AMEO Data EDA and Visualization <h1>"
   ]
  },
  {
   "cell_type": "markdown",
   "id": "6539550d",
   "metadata": {},
   "source": [
    "<h3 style='color:brown'> STEP 1: INTRODUCTION <h3>"
   ]
  },
  {
   "cell_type": "markdown",
   "id": "fa7244ce",
   "metadata": {},
   "source": [
    "## Dataset Description:\n",
    "The dataset was released by Aspiring Minds from the Aspiring Mind Employment Outcome 2015 (AMEO).\n",
    "The study is primarily limited  only to students with engineering disciplines. The dataset contains the employment outcomes of engineering graduates as dependent variables (Salary, Job Titles, and Job Locations) along with the standardized scores from three different areas – cognitive skills, technical skills and personality skills. The dataset also contains demographic features. The dataset  contains  around  40 independent variables and 4000 data points. The independent variables are both continuous and categorical in nature. The dataset contains a unique identifier for each candidate."
   ]
  },
  {
   "cell_type": "markdown",
   "id": "a6b664bb",
   "metadata": {},
   "source": [
    "## Detailed Dataset description Link:\n",
    "#### https://docs.google.com/document/d/14d4n90nryAUgA-IdNSXJAFzmynn6WTT4XfS7N4tum7s/edit"
   ]
  },
  {
   "cell_type": "markdown",
   "id": "e549de80",
   "metadata": {},
   "source": [
    "## Below mentioned table contains the details for the original dataset."
   ]
  },
  {
   "cell_type": "markdown",
   "id": "5e154779",
   "metadata": {},
   "source": [
    "| VARIABLE               | TYPE            | DESCRIPTION                                        |\n",
    "|------------------------|-----------------|-----------------------------------------------------------|\n",
    "| ID                     | UID             | A unique ID to identify a candidate                      |\n",
    "| Salary                 | Continuous      | Annual CTC oﬀered to the candidate (in INR)               |\n",
    "| DOJ                    | Date            | Date of joining the company                               |\n",
    "| DOL                    | Date            | Date of leaving the company                               |\n",
    "| Designation            | Categorical     | Designation oﬀered in the job                             |\n",
    "| JobCity                | Categorical     | Location of the job (city)                                |\n",
    "| Gender                 | Categorical     | Candidate’s gender                                        |\n",
    "| DOB                    | Date            | Date of birth of candidate                                |\n",
    "| 10percentage           | Continuous      | Overall marks obtained in grade 10 examinations           |\n",
    "| 10board                | Continuous      | The school board whose curriculum the candidate followed in grade 10 |\n",
    "| 12graduation           | Date            | Year of graduation - senior year high school              |\n",
    "| 12percentage           | Continuous      | Overall marks obtained in grade 12 examinations           |\n",
    "| 12board                | Date            | The school board whose curriculum the candidate followed in grade 12 |\n",
    "| CollegeID              | NA/ID           | Unique ID identifying the college which the candidate attended |\n",
    "| CollegeTier            | Categorical     | Tier of college                                           |\n",
    "| Degree                 | Categorical     | Degree obtained/pursued by the candidate                  |\n",
    "| Specialization         | Categorical     | Specialization pursued by the candidate                   |\n",
    "| CollegeGPA             | Continuous      | Aggregate GPA at graduation                              |\n",
    "| CollegeCityID          | NA/ID           | A unique ID to identify the city in which the college is located in |\n",
    "| CollegeCityTier        | Categorical     | The tier of the city in which the college is located      |\n",
    "| CollegeState           | Categorical     | Name of States                                            |\n",
    "| GraduationYear         | Date            | Year of graduation (Bachelor’s degree)                     |\n",
    "| English                | Continuous      | Scores in AMCAT English section                           |\n",
    "| Logical                | Continuous      | Scores in AMCAT Logical section                           |\n",
    "| Quant                  | Continuous      | Scores in AMCAT Quantitative section                      |\n",
    "| Domain                 | Continuous/Standardized | Scores in AMCAT’s domain module                      |\n",
    "| ComputerProgramming    | Continuous      | Score in AMCAT’s Computer programming section             |\n",
    "| ElectronicsAndSemicon  | Continuous      | Score in AMCAT’s Electronics & Semiconductor Engineering section |\n",
    "| ComputerScience        | Continuous      | Score in AMCAT’s Computer Science section                 |\n",
    "| MechanicalEngg         | Continuous      | Score in AMCAT’s Mechanical Engineering section           |\n",
    "| ElectricalEngg         | Continuous      | Score in AMCAT’s Electrical Engineering section           |\n",
    "| TelecomEngg            | Continuous      | Score in AMCAT’s Telecommunication Engineering section    |\n",
    "| CivilEngg              | Continuous      | Score in AMCAT’s Civil Engineering section                |\n",
    "| conscientiousness      | Continuous/Standardized | Scores in one of the sections of AMCAT’s personality test |\n",
    "| agreeableness          | Continuous/Standardized | Scores in one of the sections of AMCAT’s personality test |\n",
    "| extraversion           | Continuous/Standardized | Scores in one of the sections of AMCAT’s personality test |\n",
    "| neuroticism            | Continuous/Standardized | Scores in one of the sections of AMCAT’s personality test |\n",
    "| openness_to_experience | Continuous/Standardized | Scores in one of the sections of AMCAT’s personality test |\n"
   ]
  },
  {
   "cell_type": "code",
   "execution_count": null,
   "id": "3ac24ef6",
   "metadata": {},
   "outputs": [],
   "source": []
  },
  {
   "cell_type": "markdown",
   "id": "49c2c5f7",
   "metadata": {},
   "source": [
    "<h3 style='color:brown'> STEP 2: Import the data and display the head, shape and description of the data <h3>"
   ]
  },
  {
   "cell_type": "code",
   "execution_count": 1,
   "id": "fa7bd0d7",
   "metadata": {},
   "outputs": [],
   "source": [
    "import pandas as pd\n",
    "import numpy as np\n",
    "import matplotlib.pyplot as plt\n",
    "import seaborn as sns\n",
    "from scipy import stats\n",
    "import datetime as dt\n",
    "import os\n",
    "\n",
    "import warnings\n",
    "warnings.filterwarnings('ignore')"
   ]
  },
  {
   "cell_type": "code",
   "execution_count": 2,
   "id": "39aa8bae",
   "metadata": {},
   "outputs": [],
   "source": [
    "df=pd.read_excel(\"C:\\\\DS INTERNSHIP - Feb 2023\\\\DATA ANALYSIS\\\\Task 4 - Project - Exploratory Data Analysis (AMEO Data)\\\\aspiring_minds_employability_outcomes_2015.xlsx\")"
   ]
  },
  {
   "cell_type": "code",
   "execution_count": 3,
   "id": "3bc5774e",
   "metadata": {},
   "outputs": [
    {
     "data": {
      "text/html": [
       "<div>\n",
       "<style scoped>\n",
       "    .dataframe tbody tr th:only-of-type {\n",
       "        vertical-align: middle;\n",
       "    }\n",
       "\n",
       "    .dataframe tbody tr th {\n",
       "        vertical-align: top;\n",
       "    }\n",
       "\n",
       "    .dataframe thead th {\n",
       "        text-align: right;\n",
       "    }\n",
       "</style>\n",
       "<table border=\"1\" class=\"dataframe\">\n",
       "  <thead>\n",
       "    <tr style=\"text-align: right;\">\n",
       "      <th></th>\n",
       "      <th>Unnamed: 0</th>\n",
       "      <th>ID</th>\n",
       "      <th>Salary</th>\n",
       "      <th>DOJ</th>\n",
       "      <th>DOL</th>\n",
       "      <th>Designation</th>\n",
       "      <th>JobCity</th>\n",
       "      <th>Gender</th>\n",
       "      <th>DOB</th>\n",
       "      <th>10percentage</th>\n",
       "      <th>...</th>\n",
       "      <th>ComputerScience</th>\n",
       "      <th>MechanicalEngg</th>\n",
       "      <th>ElectricalEngg</th>\n",
       "      <th>TelecomEngg</th>\n",
       "      <th>CivilEngg</th>\n",
       "      <th>conscientiousness</th>\n",
       "      <th>agreeableness</th>\n",
       "      <th>extraversion</th>\n",
       "      <th>nueroticism</th>\n",
       "      <th>openess_to_experience</th>\n",
       "    </tr>\n",
       "  </thead>\n",
       "  <tbody>\n",
       "    <tr>\n",
       "      <th>0</th>\n",
       "      <td>train</td>\n",
       "      <td>203097</td>\n",
       "      <td>420000</td>\n",
       "      <td>2012-06-01</td>\n",
       "      <td>present</td>\n",
       "      <td>senior quality engineer</td>\n",
       "      <td>Bangalore</td>\n",
       "      <td>f</td>\n",
       "      <td>1990-02-19</td>\n",
       "      <td>84.3</td>\n",
       "      <td>...</td>\n",
       "      <td>-1</td>\n",
       "      <td>-1</td>\n",
       "      <td>-1</td>\n",
       "      <td>-1</td>\n",
       "      <td>-1</td>\n",
       "      <td>0.9737</td>\n",
       "      <td>0.8128</td>\n",
       "      <td>0.5269</td>\n",
       "      <td>1.35490</td>\n",
       "      <td>-0.4455</td>\n",
       "    </tr>\n",
       "    <tr>\n",
       "      <th>1</th>\n",
       "      <td>train</td>\n",
       "      <td>579905</td>\n",
       "      <td>500000</td>\n",
       "      <td>2013-09-01</td>\n",
       "      <td>present</td>\n",
       "      <td>assistant manager</td>\n",
       "      <td>Indore</td>\n",
       "      <td>m</td>\n",
       "      <td>1989-10-04</td>\n",
       "      <td>85.4</td>\n",
       "      <td>...</td>\n",
       "      <td>-1</td>\n",
       "      <td>-1</td>\n",
       "      <td>-1</td>\n",
       "      <td>-1</td>\n",
       "      <td>-1</td>\n",
       "      <td>-0.7335</td>\n",
       "      <td>0.3789</td>\n",
       "      <td>1.2396</td>\n",
       "      <td>-0.10760</td>\n",
       "      <td>0.8637</td>\n",
       "    </tr>\n",
       "    <tr>\n",
       "      <th>2</th>\n",
       "      <td>train</td>\n",
       "      <td>810601</td>\n",
       "      <td>325000</td>\n",
       "      <td>2014-06-01</td>\n",
       "      <td>present</td>\n",
       "      <td>systems engineer</td>\n",
       "      <td>Chennai</td>\n",
       "      <td>f</td>\n",
       "      <td>1992-08-03</td>\n",
       "      <td>85.0</td>\n",
       "      <td>...</td>\n",
       "      <td>-1</td>\n",
       "      <td>-1</td>\n",
       "      <td>-1</td>\n",
       "      <td>-1</td>\n",
       "      <td>-1</td>\n",
       "      <td>0.2718</td>\n",
       "      <td>1.7109</td>\n",
       "      <td>0.1637</td>\n",
       "      <td>-0.86820</td>\n",
       "      <td>0.6721</td>\n",
       "    </tr>\n",
       "    <tr>\n",
       "      <th>3</th>\n",
       "      <td>train</td>\n",
       "      <td>267447</td>\n",
       "      <td>1100000</td>\n",
       "      <td>2011-07-01</td>\n",
       "      <td>present</td>\n",
       "      <td>senior software engineer</td>\n",
       "      <td>Gurgaon</td>\n",
       "      <td>m</td>\n",
       "      <td>1989-12-05</td>\n",
       "      <td>85.6</td>\n",
       "      <td>...</td>\n",
       "      <td>-1</td>\n",
       "      <td>-1</td>\n",
       "      <td>-1</td>\n",
       "      <td>-1</td>\n",
       "      <td>-1</td>\n",
       "      <td>0.0464</td>\n",
       "      <td>0.3448</td>\n",
       "      <td>-0.3440</td>\n",
       "      <td>-0.40780</td>\n",
       "      <td>-0.9194</td>\n",
       "    </tr>\n",
       "    <tr>\n",
       "      <th>4</th>\n",
       "      <td>train</td>\n",
       "      <td>343523</td>\n",
       "      <td>200000</td>\n",
       "      <td>2014-03-01</td>\n",
       "      <td>2015-03-01 00:00:00</td>\n",
       "      <td>get</td>\n",
       "      <td>Manesar</td>\n",
       "      <td>m</td>\n",
       "      <td>1991-02-27</td>\n",
       "      <td>78.0</td>\n",
       "      <td>...</td>\n",
       "      <td>-1</td>\n",
       "      <td>-1</td>\n",
       "      <td>-1</td>\n",
       "      <td>-1</td>\n",
       "      <td>-1</td>\n",
       "      <td>-0.8810</td>\n",
       "      <td>-0.2793</td>\n",
       "      <td>-1.0697</td>\n",
       "      <td>0.09163</td>\n",
       "      <td>-0.1295</td>\n",
       "    </tr>\n",
       "  </tbody>\n",
       "</table>\n",
       "<p>5 rows × 39 columns</p>\n",
       "</div>"
      ],
      "text/plain": [
       "  Unnamed: 0      ID   Salary        DOJ                  DOL  \\\n",
       "0      train  203097   420000 2012-06-01              present   \n",
       "1      train  579905   500000 2013-09-01              present   \n",
       "2      train  810601   325000 2014-06-01              present   \n",
       "3      train  267447  1100000 2011-07-01              present   \n",
       "4      train  343523   200000 2014-03-01  2015-03-01 00:00:00   \n",
       "\n",
       "                Designation    JobCity Gender        DOB  10percentage  ...  \\\n",
       "0   senior quality engineer  Bangalore      f 1990-02-19          84.3  ...   \n",
       "1         assistant manager     Indore      m 1989-10-04          85.4  ...   \n",
       "2          systems engineer    Chennai      f 1992-08-03          85.0  ...   \n",
       "3  senior software engineer    Gurgaon      m 1989-12-05          85.6  ...   \n",
       "4                       get    Manesar      m 1991-02-27          78.0  ...   \n",
       "\n",
       "  ComputerScience  MechanicalEngg  ElectricalEngg TelecomEngg  CivilEngg  \\\n",
       "0              -1              -1              -1          -1         -1   \n",
       "1              -1              -1              -1          -1         -1   \n",
       "2              -1              -1              -1          -1         -1   \n",
       "3              -1              -1              -1          -1         -1   \n",
       "4              -1              -1              -1          -1         -1   \n",
       "\n",
       "   conscientiousness agreeableness extraversion  nueroticism  \\\n",
       "0             0.9737        0.8128       0.5269      1.35490   \n",
       "1            -0.7335        0.3789       1.2396     -0.10760   \n",
       "2             0.2718        1.7109       0.1637     -0.86820   \n",
       "3             0.0464        0.3448      -0.3440     -0.40780   \n",
       "4            -0.8810       -0.2793      -1.0697      0.09163   \n",
       "\n",
       "   openess_to_experience  \n",
       "0                -0.4455  \n",
       "1                 0.8637  \n",
       "2                 0.6721  \n",
       "3                -0.9194  \n",
       "4                -0.1295  \n",
       "\n",
       "[5 rows x 39 columns]"
      ]
     },
     "execution_count": 3,
     "metadata": {},
     "output_type": "execute_result"
    }
   ],
   "source": [
    "df.head()"
   ]
  },
  {
   "cell_type": "code",
   "execution_count": 4,
   "id": "413ad616",
   "metadata": {},
   "outputs": [
    {
     "data": {
      "text/plain": [
       "(3998, 39)"
      ]
     },
     "execution_count": 4,
     "metadata": {},
     "output_type": "execute_result"
    }
   ],
   "source": [
    "df.shape"
   ]
  },
  {
   "cell_type": "code",
   "execution_count": 5,
   "id": "40f737ee",
   "metadata": {},
   "outputs": [
    {
     "data": {
      "text/html": [
       "<div>\n",
       "<style scoped>\n",
       "    .dataframe tbody tr th:only-of-type {\n",
       "        vertical-align: middle;\n",
       "    }\n",
       "\n",
       "    .dataframe tbody tr th {\n",
       "        vertical-align: top;\n",
       "    }\n",
       "\n",
       "    .dataframe thead th {\n",
       "        text-align: right;\n",
       "    }\n",
       "</style>\n",
       "<table border=\"1\" class=\"dataframe\">\n",
       "  <thead>\n",
       "    <tr style=\"text-align: right;\">\n",
       "      <th></th>\n",
       "      <th>count</th>\n",
       "      <th>unique</th>\n",
       "      <th>top</th>\n",
       "      <th>freq</th>\n",
       "      <th>first</th>\n",
       "      <th>last</th>\n",
       "      <th>mean</th>\n",
       "      <th>std</th>\n",
       "      <th>min</th>\n",
       "      <th>25%</th>\n",
       "      <th>50%</th>\n",
       "      <th>75%</th>\n",
       "      <th>max</th>\n",
       "    </tr>\n",
       "  </thead>\n",
       "  <tbody>\n",
       "    <tr>\n",
       "      <th>Unnamed: 0</th>\n",
       "      <td>3998</td>\n",
       "      <td>1</td>\n",
       "      <td>train</td>\n",
       "      <td>3998</td>\n",
       "      <td>NaT</td>\n",
       "      <td>NaT</td>\n",
       "      <td>NaN</td>\n",
       "      <td>NaN</td>\n",
       "      <td>NaN</td>\n",
       "      <td>NaN</td>\n",
       "      <td>NaN</td>\n",
       "      <td>NaN</td>\n",
       "      <td>NaN</td>\n",
       "    </tr>\n",
       "    <tr>\n",
       "      <th>ID</th>\n",
       "      <td>3998.0</td>\n",
       "      <td>NaN</td>\n",
       "      <td>NaN</td>\n",
       "      <td>NaN</td>\n",
       "      <td>NaT</td>\n",
       "      <td>NaT</td>\n",
       "      <td>663794.54052</td>\n",
       "      <td>363218.245829</td>\n",
       "      <td>11244.0</td>\n",
       "      <td>334284.25</td>\n",
       "      <td>639600.0</td>\n",
       "      <td>990480.0</td>\n",
       "      <td>1298275.0</td>\n",
       "    </tr>\n",
       "    <tr>\n",
       "      <th>Salary</th>\n",
       "      <td>3998.0</td>\n",
       "      <td>NaN</td>\n",
       "      <td>NaN</td>\n",
       "      <td>NaN</td>\n",
       "      <td>NaT</td>\n",
       "      <td>NaT</td>\n",
       "      <td>307699.849925</td>\n",
       "      <td>212737.499957</td>\n",
       "      <td>35000.0</td>\n",
       "      <td>180000.0</td>\n",
       "      <td>300000.0</td>\n",
       "      <td>370000.0</td>\n",
       "      <td>4000000.0</td>\n",
       "    </tr>\n",
       "    <tr>\n",
       "      <th>DOJ</th>\n",
       "      <td>3998</td>\n",
       "      <td>81</td>\n",
       "      <td>2014-07-01 00:00:00</td>\n",
       "      <td>199</td>\n",
       "      <td>1991-06-01</td>\n",
       "      <td>2015-12-01</td>\n",
       "      <td>NaN</td>\n",
       "      <td>NaN</td>\n",
       "      <td>NaN</td>\n",
       "      <td>NaN</td>\n",
       "      <td>NaN</td>\n",
       "      <td>NaN</td>\n",
       "      <td>NaN</td>\n",
       "    </tr>\n",
       "    <tr>\n",
       "      <th>DOL</th>\n",
       "      <td>3998</td>\n",
       "      <td>67</td>\n",
       "      <td>present</td>\n",
       "      <td>1875</td>\n",
       "      <td>NaT</td>\n",
       "      <td>NaT</td>\n",
       "      <td>NaN</td>\n",
       "      <td>NaN</td>\n",
       "      <td>NaN</td>\n",
       "      <td>NaN</td>\n",
       "      <td>NaN</td>\n",
       "      <td>NaN</td>\n",
       "      <td>NaN</td>\n",
       "    </tr>\n",
       "    <tr>\n",
       "      <th>Designation</th>\n",
       "      <td>3998</td>\n",
       "      <td>419</td>\n",
       "      <td>software engineer</td>\n",
       "      <td>539</td>\n",
       "      <td>NaT</td>\n",
       "      <td>NaT</td>\n",
       "      <td>NaN</td>\n",
       "      <td>NaN</td>\n",
       "      <td>NaN</td>\n",
       "      <td>NaN</td>\n",
       "      <td>NaN</td>\n",
       "      <td>NaN</td>\n",
       "      <td>NaN</td>\n",
       "    </tr>\n",
       "    <tr>\n",
       "      <th>JobCity</th>\n",
       "      <td>3998</td>\n",
       "      <td>339</td>\n",
       "      <td>Bangalore</td>\n",
       "      <td>627</td>\n",
       "      <td>NaT</td>\n",
       "      <td>NaT</td>\n",
       "      <td>NaN</td>\n",
       "      <td>NaN</td>\n",
       "      <td>NaN</td>\n",
       "      <td>NaN</td>\n",
       "      <td>NaN</td>\n",
       "      <td>NaN</td>\n",
       "      <td>NaN</td>\n",
       "    </tr>\n",
       "    <tr>\n",
       "      <th>Gender</th>\n",
       "      <td>3998</td>\n",
       "      <td>2</td>\n",
       "      <td>m</td>\n",
       "      <td>3041</td>\n",
       "      <td>NaT</td>\n",
       "      <td>NaT</td>\n",
       "      <td>NaN</td>\n",
       "      <td>NaN</td>\n",
       "      <td>NaN</td>\n",
       "      <td>NaN</td>\n",
       "      <td>NaN</td>\n",
       "      <td>NaN</td>\n",
       "      <td>NaN</td>\n",
       "    </tr>\n",
       "    <tr>\n",
       "      <th>DOB</th>\n",
       "      <td>3998</td>\n",
       "      <td>1872</td>\n",
       "      <td>1991-01-01 00:00:00</td>\n",
       "      <td>11</td>\n",
       "      <td>1977-10-30</td>\n",
       "      <td>1997-05-27</td>\n",
       "      <td>NaN</td>\n",
       "      <td>NaN</td>\n",
       "      <td>NaN</td>\n",
       "      <td>NaN</td>\n",
       "      <td>NaN</td>\n",
       "      <td>NaN</td>\n",
       "      <td>NaN</td>\n",
       "    </tr>\n",
       "    <tr>\n",
       "      <th>10percentage</th>\n",
       "      <td>3998.0</td>\n",
       "      <td>NaN</td>\n",
       "      <td>NaN</td>\n",
       "      <td>NaN</td>\n",
       "      <td>NaT</td>\n",
       "      <td>NaT</td>\n",
       "      <td>77.925443</td>\n",
       "      <td>9.850162</td>\n",
       "      <td>43.0</td>\n",
       "      <td>71.68</td>\n",
       "      <td>79.15</td>\n",
       "      <td>85.67</td>\n",
       "      <td>97.76</td>\n",
       "    </tr>\n",
       "    <tr>\n",
       "      <th>10board</th>\n",
       "      <td>3998</td>\n",
       "      <td>275</td>\n",
       "      <td>cbse</td>\n",
       "      <td>1395</td>\n",
       "      <td>NaT</td>\n",
       "      <td>NaT</td>\n",
       "      <td>NaN</td>\n",
       "      <td>NaN</td>\n",
       "      <td>NaN</td>\n",
       "      <td>NaN</td>\n",
       "      <td>NaN</td>\n",
       "      <td>NaN</td>\n",
       "      <td>NaN</td>\n",
       "    </tr>\n",
       "    <tr>\n",
       "      <th>12graduation</th>\n",
       "      <td>3998.0</td>\n",
       "      <td>NaN</td>\n",
       "      <td>NaN</td>\n",
       "      <td>NaN</td>\n",
       "      <td>NaT</td>\n",
       "      <td>NaT</td>\n",
       "      <td>2008.087544</td>\n",
       "      <td>1.653599</td>\n",
       "      <td>1995.0</td>\n",
       "      <td>2007.0</td>\n",
       "      <td>2008.0</td>\n",
       "      <td>2009.0</td>\n",
       "      <td>2013.0</td>\n",
       "    </tr>\n",
       "    <tr>\n",
       "      <th>12percentage</th>\n",
       "      <td>3998.0</td>\n",
       "      <td>NaN</td>\n",
       "      <td>NaN</td>\n",
       "      <td>NaN</td>\n",
       "      <td>NaT</td>\n",
       "      <td>NaT</td>\n",
       "      <td>74.466366</td>\n",
       "      <td>10.999933</td>\n",
       "      <td>40.0</td>\n",
       "      <td>66.0</td>\n",
       "      <td>74.4</td>\n",
       "      <td>82.6</td>\n",
       "      <td>98.7</td>\n",
       "    </tr>\n",
       "    <tr>\n",
       "      <th>12board</th>\n",
       "      <td>3998</td>\n",
       "      <td>340</td>\n",
       "      <td>cbse</td>\n",
       "      <td>1400</td>\n",
       "      <td>NaT</td>\n",
       "      <td>NaT</td>\n",
       "      <td>NaN</td>\n",
       "      <td>NaN</td>\n",
       "      <td>NaN</td>\n",
       "      <td>NaN</td>\n",
       "      <td>NaN</td>\n",
       "      <td>NaN</td>\n",
       "      <td>NaN</td>\n",
       "    </tr>\n",
       "    <tr>\n",
       "      <th>CollegeID</th>\n",
       "      <td>3998.0</td>\n",
       "      <td>NaN</td>\n",
       "      <td>NaN</td>\n",
       "      <td>NaN</td>\n",
       "      <td>NaT</td>\n",
       "      <td>NaT</td>\n",
       "      <td>5156.851426</td>\n",
       "      <td>4802.261482</td>\n",
       "      <td>2.0</td>\n",
       "      <td>494.0</td>\n",
       "      <td>3879.0</td>\n",
       "      <td>8818.0</td>\n",
       "      <td>18409.0</td>\n",
       "    </tr>\n",
       "    <tr>\n",
       "      <th>CollegeTier</th>\n",
       "      <td>3998.0</td>\n",
       "      <td>NaN</td>\n",
       "      <td>NaN</td>\n",
       "      <td>NaN</td>\n",
       "      <td>NaT</td>\n",
       "      <td>NaT</td>\n",
       "      <td>1.925713</td>\n",
       "      <td>0.26227</td>\n",
       "      <td>1.0</td>\n",
       "      <td>2.0</td>\n",
       "      <td>2.0</td>\n",
       "      <td>2.0</td>\n",
       "      <td>2.0</td>\n",
       "    </tr>\n",
       "    <tr>\n",
       "      <th>Degree</th>\n",
       "      <td>3998</td>\n",
       "      <td>4</td>\n",
       "      <td>B.Tech/B.E.</td>\n",
       "      <td>3700</td>\n",
       "      <td>NaT</td>\n",
       "      <td>NaT</td>\n",
       "      <td>NaN</td>\n",
       "      <td>NaN</td>\n",
       "      <td>NaN</td>\n",
       "      <td>NaN</td>\n",
       "      <td>NaN</td>\n",
       "      <td>NaN</td>\n",
       "      <td>NaN</td>\n",
       "    </tr>\n",
       "    <tr>\n",
       "      <th>Specialization</th>\n",
       "      <td>3998</td>\n",
       "      <td>46</td>\n",
       "      <td>electronics and communication engineering</td>\n",
       "      <td>880</td>\n",
       "      <td>NaT</td>\n",
       "      <td>NaT</td>\n",
       "      <td>NaN</td>\n",
       "      <td>NaN</td>\n",
       "      <td>NaN</td>\n",
       "      <td>NaN</td>\n",
       "      <td>NaN</td>\n",
       "      <td>NaN</td>\n",
       "      <td>NaN</td>\n",
       "    </tr>\n",
       "    <tr>\n",
       "      <th>collegeGPA</th>\n",
       "      <td>3998.0</td>\n",
       "      <td>NaN</td>\n",
       "      <td>NaN</td>\n",
       "      <td>NaN</td>\n",
       "      <td>NaT</td>\n",
       "      <td>NaT</td>\n",
       "      <td>71.486171</td>\n",
       "      <td>8.167338</td>\n",
       "      <td>6.45</td>\n",
       "      <td>66.4075</td>\n",
       "      <td>71.72</td>\n",
       "      <td>76.3275</td>\n",
       "      <td>99.93</td>\n",
       "    </tr>\n",
       "    <tr>\n",
       "      <th>CollegeCityID</th>\n",
       "      <td>3998.0</td>\n",
       "      <td>NaN</td>\n",
       "      <td>NaN</td>\n",
       "      <td>NaN</td>\n",
       "      <td>NaT</td>\n",
       "      <td>NaT</td>\n",
       "      <td>5156.851426</td>\n",
       "      <td>4802.261482</td>\n",
       "      <td>2.0</td>\n",
       "      <td>494.0</td>\n",
       "      <td>3879.0</td>\n",
       "      <td>8818.0</td>\n",
       "      <td>18409.0</td>\n",
       "    </tr>\n",
       "    <tr>\n",
       "      <th>CollegeCityTier</th>\n",
       "      <td>3998.0</td>\n",
       "      <td>NaN</td>\n",
       "      <td>NaN</td>\n",
       "      <td>NaN</td>\n",
       "      <td>NaT</td>\n",
       "      <td>NaT</td>\n",
       "      <td>0.3004</td>\n",
       "      <td>0.458489</td>\n",
       "      <td>0.0</td>\n",
       "      <td>0.0</td>\n",
       "      <td>0.0</td>\n",
       "      <td>1.0</td>\n",
       "      <td>1.0</td>\n",
       "    </tr>\n",
       "    <tr>\n",
       "      <th>CollegeState</th>\n",
       "      <td>3998</td>\n",
       "      <td>26</td>\n",
       "      <td>Uttar Pradesh</td>\n",
       "      <td>915</td>\n",
       "      <td>NaT</td>\n",
       "      <td>NaT</td>\n",
       "      <td>NaN</td>\n",
       "      <td>NaN</td>\n",
       "      <td>NaN</td>\n",
       "      <td>NaN</td>\n",
       "      <td>NaN</td>\n",
       "      <td>NaN</td>\n",
       "      <td>NaN</td>\n",
       "    </tr>\n",
       "    <tr>\n",
       "      <th>GraduationYear</th>\n",
       "      <td>3998.0</td>\n",
       "      <td>NaN</td>\n",
       "      <td>NaN</td>\n",
       "      <td>NaN</td>\n",
       "      <td>NaT</td>\n",
       "      <td>NaT</td>\n",
       "      <td>2012.105803</td>\n",
       "      <td>31.857271</td>\n",
       "      <td>0.0</td>\n",
       "      <td>2012.0</td>\n",
       "      <td>2013.0</td>\n",
       "      <td>2014.0</td>\n",
       "      <td>2017.0</td>\n",
       "    </tr>\n",
       "    <tr>\n",
       "      <th>English</th>\n",
       "      <td>3998.0</td>\n",
       "      <td>NaN</td>\n",
       "      <td>NaN</td>\n",
       "      <td>NaN</td>\n",
       "      <td>NaT</td>\n",
       "      <td>NaT</td>\n",
       "      <td>501.649075</td>\n",
       "      <td>104.940021</td>\n",
       "      <td>180.0</td>\n",
       "      <td>425.0</td>\n",
       "      <td>500.0</td>\n",
       "      <td>570.0</td>\n",
       "      <td>875.0</td>\n",
       "    </tr>\n",
       "    <tr>\n",
       "      <th>Logical</th>\n",
       "      <td>3998.0</td>\n",
       "      <td>NaN</td>\n",
       "      <td>NaN</td>\n",
       "      <td>NaN</td>\n",
       "      <td>NaT</td>\n",
       "      <td>NaT</td>\n",
       "      <td>501.598799</td>\n",
       "      <td>86.783297</td>\n",
       "      <td>195.0</td>\n",
       "      <td>445.0</td>\n",
       "      <td>505.0</td>\n",
       "      <td>565.0</td>\n",
       "      <td>795.0</td>\n",
       "    </tr>\n",
       "    <tr>\n",
       "      <th>Quant</th>\n",
       "      <td>3998.0</td>\n",
       "      <td>NaN</td>\n",
       "      <td>NaN</td>\n",
       "      <td>NaN</td>\n",
       "      <td>NaT</td>\n",
       "      <td>NaT</td>\n",
       "      <td>513.378189</td>\n",
       "      <td>122.302332</td>\n",
       "      <td>120.0</td>\n",
       "      <td>430.0</td>\n",
       "      <td>515.0</td>\n",
       "      <td>595.0</td>\n",
       "      <td>900.0</td>\n",
       "    </tr>\n",
       "    <tr>\n",
       "      <th>Domain</th>\n",
       "      <td>3998.0</td>\n",
       "      <td>NaN</td>\n",
       "      <td>NaN</td>\n",
       "      <td>NaN</td>\n",
       "      <td>NaT</td>\n",
       "      <td>NaT</td>\n",
       "      <td>0.51049</td>\n",
       "      <td>0.468671</td>\n",
       "      <td>-1.0</td>\n",
       "      <td>0.342315</td>\n",
       "      <td>0.622643</td>\n",
       "      <td>0.842248</td>\n",
       "      <td>0.99991</td>\n",
       "    </tr>\n",
       "    <tr>\n",
       "      <th>ComputerProgramming</th>\n",
       "      <td>3998.0</td>\n",
       "      <td>NaN</td>\n",
       "      <td>NaN</td>\n",
       "      <td>NaN</td>\n",
       "      <td>NaT</td>\n",
       "      <td>NaT</td>\n",
       "      <td>353.102801</td>\n",
       "      <td>205.355519</td>\n",
       "      <td>-1.0</td>\n",
       "      <td>295.0</td>\n",
       "      <td>415.0</td>\n",
       "      <td>495.0</td>\n",
       "      <td>840.0</td>\n",
       "    </tr>\n",
       "    <tr>\n",
       "      <th>ElectronicsAndSemicon</th>\n",
       "      <td>3998.0</td>\n",
       "      <td>NaN</td>\n",
       "      <td>NaN</td>\n",
       "      <td>NaN</td>\n",
       "      <td>NaT</td>\n",
       "      <td>NaT</td>\n",
       "      <td>95.328414</td>\n",
       "      <td>158.241218</td>\n",
       "      <td>-1.0</td>\n",
       "      <td>-1.0</td>\n",
       "      <td>-1.0</td>\n",
       "      <td>233.0</td>\n",
       "      <td>612.0</td>\n",
       "    </tr>\n",
       "    <tr>\n",
       "      <th>ComputerScience</th>\n",
       "      <td>3998.0</td>\n",
       "      <td>NaN</td>\n",
       "      <td>NaN</td>\n",
       "      <td>NaN</td>\n",
       "      <td>NaT</td>\n",
       "      <td>NaT</td>\n",
       "      <td>90.742371</td>\n",
       "      <td>175.273083</td>\n",
       "      <td>-1.0</td>\n",
       "      <td>-1.0</td>\n",
       "      <td>-1.0</td>\n",
       "      <td>-1.0</td>\n",
       "      <td>715.0</td>\n",
       "    </tr>\n",
       "    <tr>\n",
       "      <th>MechanicalEngg</th>\n",
       "      <td>3998.0</td>\n",
       "      <td>NaN</td>\n",
       "      <td>NaN</td>\n",
       "      <td>NaN</td>\n",
       "      <td>NaT</td>\n",
       "      <td>NaT</td>\n",
       "      <td>22.974737</td>\n",
       "      <td>98.123311</td>\n",
       "      <td>-1.0</td>\n",
       "      <td>-1.0</td>\n",
       "      <td>-1.0</td>\n",
       "      <td>-1.0</td>\n",
       "      <td>623.0</td>\n",
       "    </tr>\n",
       "    <tr>\n",
       "      <th>ElectricalEngg</th>\n",
       "      <td>3998.0</td>\n",
       "      <td>NaN</td>\n",
       "      <td>NaN</td>\n",
       "      <td>NaN</td>\n",
       "      <td>NaT</td>\n",
       "      <td>NaT</td>\n",
       "      <td>16.478739</td>\n",
       "      <td>87.585634</td>\n",
       "      <td>-1.0</td>\n",
       "      <td>-1.0</td>\n",
       "      <td>-1.0</td>\n",
       "      <td>-1.0</td>\n",
       "      <td>676.0</td>\n",
       "    </tr>\n",
       "    <tr>\n",
       "      <th>TelecomEngg</th>\n",
       "      <td>3998.0</td>\n",
       "      <td>NaN</td>\n",
       "      <td>NaN</td>\n",
       "      <td>NaN</td>\n",
       "      <td>NaT</td>\n",
       "      <td>NaT</td>\n",
       "      <td>31.851176</td>\n",
       "      <td>104.852845</td>\n",
       "      <td>-1.0</td>\n",
       "      <td>-1.0</td>\n",
       "      <td>-1.0</td>\n",
       "      <td>-1.0</td>\n",
       "      <td>548.0</td>\n",
       "    </tr>\n",
       "    <tr>\n",
       "      <th>CivilEngg</th>\n",
       "      <td>3998.0</td>\n",
       "      <td>NaN</td>\n",
       "      <td>NaN</td>\n",
       "      <td>NaN</td>\n",
       "      <td>NaT</td>\n",
       "      <td>NaT</td>\n",
       "      <td>2.683842</td>\n",
       "      <td>36.658505</td>\n",
       "      <td>-1.0</td>\n",
       "      <td>-1.0</td>\n",
       "      <td>-1.0</td>\n",
       "      <td>-1.0</td>\n",
       "      <td>516.0</td>\n",
       "    </tr>\n",
       "    <tr>\n",
       "      <th>conscientiousness</th>\n",
       "      <td>3998.0</td>\n",
       "      <td>NaN</td>\n",
       "      <td>NaN</td>\n",
       "      <td>NaN</td>\n",
       "      <td>NaT</td>\n",
       "      <td>NaT</td>\n",
       "      <td>-0.037831</td>\n",
       "      <td>1.028666</td>\n",
       "      <td>-4.1267</td>\n",
       "      <td>-0.713525</td>\n",
       "      <td>0.0464</td>\n",
       "      <td>0.7027</td>\n",
       "      <td>1.9953</td>\n",
       "    </tr>\n",
       "    <tr>\n",
       "      <th>agreeableness</th>\n",
       "      <td>3998.0</td>\n",
       "      <td>NaN</td>\n",
       "      <td>NaN</td>\n",
       "      <td>NaN</td>\n",
       "      <td>NaT</td>\n",
       "      <td>NaT</td>\n",
       "      <td>0.146496</td>\n",
       "      <td>0.941782</td>\n",
       "      <td>-5.7816</td>\n",
       "      <td>-0.2871</td>\n",
       "      <td>0.2124</td>\n",
       "      <td>0.8128</td>\n",
       "      <td>1.9048</td>\n",
       "    </tr>\n",
       "    <tr>\n",
       "      <th>extraversion</th>\n",
       "      <td>3998.0</td>\n",
       "      <td>NaN</td>\n",
       "      <td>NaN</td>\n",
       "      <td>NaN</td>\n",
       "      <td>NaT</td>\n",
       "      <td>NaT</td>\n",
       "      <td>0.002763</td>\n",
       "      <td>0.951471</td>\n",
       "      <td>-4.6009</td>\n",
       "      <td>-0.6048</td>\n",
       "      <td>0.0914</td>\n",
       "      <td>0.672</td>\n",
       "      <td>2.5354</td>\n",
       "    </tr>\n",
       "    <tr>\n",
       "      <th>nueroticism</th>\n",
       "      <td>3998.0</td>\n",
       "      <td>NaN</td>\n",
       "      <td>NaN</td>\n",
       "      <td>NaN</td>\n",
       "      <td>NaT</td>\n",
       "      <td>NaT</td>\n",
       "      <td>-0.169033</td>\n",
       "      <td>1.00758</td>\n",
       "      <td>-2.643</td>\n",
       "      <td>-0.8682</td>\n",
       "      <td>-0.2344</td>\n",
       "      <td>0.5262</td>\n",
       "      <td>3.3525</td>\n",
       "    </tr>\n",
       "    <tr>\n",
       "      <th>openess_to_experience</th>\n",
       "      <td>3998.0</td>\n",
       "      <td>NaN</td>\n",
       "      <td>NaN</td>\n",
       "      <td>NaN</td>\n",
       "      <td>NaT</td>\n",
       "      <td>NaT</td>\n",
       "      <td>-0.13811</td>\n",
       "      <td>1.008075</td>\n",
       "      <td>-7.3757</td>\n",
       "      <td>-0.6692</td>\n",
       "      <td>-0.0943</td>\n",
       "      <td>0.5024</td>\n",
       "      <td>1.8224</td>\n",
       "    </tr>\n",
       "  </tbody>\n",
       "</table>\n",
       "</div>"
      ],
      "text/plain": [
       "                        count unique  \\\n",
       "Unnamed: 0               3998      1   \n",
       "ID                     3998.0    NaN   \n",
       "Salary                 3998.0    NaN   \n",
       "DOJ                      3998     81   \n",
       "DOL                      3998     67   \n",
       "Designation              3998    419   \n",
       "JobCity                  3998    339   \n",
       "Gender                   3998      2   \n",
       "DOB                      3998   1872   \n",
       "10percentage           3998.0    NaN   \n",
       "10board                  3998    275   \n",
       "12graduation           3998.0    NaN   \n",
       "12percentage           3998.0    NaN   \n",
       "12board                  3998    340   \n",
       "CollegeID              3998.0    NaN   \n",
       "CollegeTier            3998.0    NaN   \n",
       "Degree                   3998      4   \n",
       "Specialization           3998     46   \n",
       "collegeGPA             3998.0    NaN   \n",
       "CollegeCityID          3998.0    NaN   \n",
       "CollegeCityTier        3998.0    NaN   \n",
       "CollegeState             3998     26   \n",
       "GraduationYear         3998.0    NaN   \n",
       "English                3998.0    NaN   \n",
       "Logical                3998.0    NaN   \n",
       "Quant                  3998.0    NaN   \n",
       "Domain                 3998.0    NaN   \n",
       "ComputerProgramming    3998.0    NaN   \n",
       "ElectronicsAndSemicon  3998.0    NaN   \n",
       "ComputerScience        3998.0    NaN   \n",
       "MechanicalEngg         3998.0    NaN   \n",
       "ElectricalEngg         3998.0    NaN   \n",
       "TelecomEngg            3998.0    NaN   \n",
       "CivilEngg              3998.0    NaN   \n",
       "conscientiousness      3998.0    NaN   \n",
       "agreeableness          3998.0    NaN   \n",
       "extraversion           3998.0    NaN   \n",
       "nueroticism            3998.0    NaN   \n",
       "openess_to_experience  3998.0    NaN   \n",
       "\n",
       "                                                             top  freq  \\\n",
       "Unnamed: 0                                                 train  3998   \n",
       "ID                                                           NaN   NaN   \n",
       "Salary                                                       NaN   NaN   \n",
       "DOJ                                          2014-07-01 00:00:00   199   \n",
       "DOL                                                      present  1875   \n",
       "Designation                                    software engineer   539   \n",
       "JobCity                                                Bangalore   627   \n",
       "Gender                                                         m  3041   \n",
       "DOB                                          1991-01-01 00:00:00    11   \n",
       "10percentage                                                 NaN   NaN   \n",
       "10board                                                     cbse  1395   \n",
       "12graduation                                                 NaN   NaN   \n",
       "12percentage                                                 NaN   NaN   \n",
       "12board                                                     cbse  1400   \n",
       "CollegeID                                                    NaN   NaN   \n",
       "CollegeTier                                                  NaN   NaN   \n",
       "Degree                                               B.Tech/B.E.  3700   \n",
       "Specialization         electronics and communication engineering   880   \n",
       "collegeGPA                                                   NaN   NaN   \n",
       "CollegeCityID                                                NaN   NaN   \n",
       "CollegeCityTier                                              NaN   NaN   \n",
       "CollegeState                                       Uttar Pradesh   915   \n",
       "GraduationYear                                               NaN   NaN   \n",
       "English                                                      NaN   NaN   \n",
       "Logical                                                      NaN   NaN   \n",
       "Quant                                                        NaN   NaN   \n",
       "Domain                                                       NaN   NaN   \n",
       "ComputerProgramming                                          NaN   NaN   \n",
       "ElectronicsAndSemicon                                        NaN   NaN   \n",
       "ComputerScience                                              NaN   NaN   \n",
       "MechanicalEngg                                               NaN   NaN   \n",
       "ElectricalEngg                                               NaN   NaN   \n",
       "TelecomEngg                                                  NaN   NaN   \n",
       "CivilEngg                                                    NaN   NaN   \n",
       "conscientiousness                                            NaN   NaN   \n",
       "agreeableness                                                NaN   NaN   \n",
       "extraversion                                                 NaN   NaN   \n",
       "nueroticism                                                  NaN   NaN   \n",
       "openess_to_experience                                        NaN   NaN   \n",
       "\n",
       "                           first       last           mean            std  \\\n",
       "Unnamed: 0                   NaT        NaT            NaN            NaN   \n",
       "ID                           NaT        NaT   663794.54052  363218.245829   \n",
       "Salary                       NaT        NaT  307699.849925  212737.499957   \n",
       "DOJ                   1991-06-01 2015-12-01            NaN            NaN   \n",
       "DOL                          NaT        NaT            NaN            NaN   \n",
       "Designation                  NaT        NaT            NaN            NaN   \n",
       "JobCity                      NaT        NaT            NaN            NaN   \n",
       "Gender                       NaT        NaT            NaN            NaN   \n",
       "DOB                   1977-10-30 1997-05-27            NaN            NaN   \n",
       "10percentage                 NaT        NaT      77.925443       9.850162   \n",
       "10board                      NaT        NaT            NaN            NaN   \n",
       "12graduation                 NaT        NaT    2008.087544       1.653599   \n",
       "12percentage                 NaT        NaT      74.466366      10.999933   \n",
       "12board                      NaT        NaT            NaN            NaN   \n",
       "CollegeID                    NaT        NaT    5156.851426    4802.261482   \n",
       "CollegeTier                  NaT        NaT       1.925713        0.26227   \n",
       "Degree                       NaT        NaT            NaN            NaN   \n",
       "Specialization               NaT        NaT            NaN            NaN   \n",
       "collegeGPA                   NaT        NaT      71.486171       8.167338   \n",
       "CollegeCityID                NaT        NaT    5156.851426    4802.261482   \n",
       "CollegeCityTier              NaT        NaT         0.3004       0.458489   \n",
       "CollegeState                 NaT        NaT            NaN            NaN   \n",
       "GraduationYear               NaT        NaT    2012.105803      31.857271   \n",
       "English                      NaT        NaT     501.649075     104.940021   \n",
       "Logical                      NaT        NaT     501.598799      86.783297   \n",
       "Quant                        NaT        NaT     513.378189     122.302332   \n",
       "Domain                       NaT        NaT        0.51049       0.468671   \n",
       "ComputerProgramming          NaT        NaT     353.102801     205.355519   \n",
       "ElectronicsAndSemicon        NaT        NaT      95.328414     158.241218   \n",
       "ComputerScience              NaT        NaT      90.742371     175.273083   \n",
       "MechanicalEngg               NaT        NaT      22.974737      98.123311   \n",
       "ElectricalEngg               NaT        NaT      16.478739      87.585634   \n",
       "TelecomEngg                  NaT        NaT      31.851176     104.852845   \n",
       "CivilEngg                    NaT        NaT       2.683842      36.658505   \n",
       "conscientiousness            NaT        NaT      -0.037831       1.028666   \n",
       "agreeableness                NaT        NaT       0.146496       0.941782   \n",
       "extraversion                 NaT        NaT       0.002763       0.951471   \n",
       "nueroticism                  NaT        NaT      -0.169033        1.00758   \n",
       "openess_to_experience        NaT        NaT       -0.13811       1.008075   \n",
       "\n",
       "                           min        25%       50%       75%        max  \n",
       "Unnamed: 0                 NaN        NaN       NaN       NaN        NaN  \n",
       "ID                     11244.0  334284.25  639600.0  990480.0  1298275.0  \n",
       "Salary                 35000.0   180000.0  300000.0  370000.0  4000000.0  \n",
       "DOJ                        NaN        NaN       NaN       NaN        NaN  \n",
       "DOL                        NaN        NaN       NaN       NaN        NaN  \n",
       "Designation                NaN        NaN       NaN       NaN        NaN  \n",
       "JobCity                    NaN        NaN       NaN       NaN        NaN  \n",
       "Gender                     NaN        NaN       NaN       NaN        NaN  \n",
       "DOB                        NaN        NaN       NaN       NaN        NaN  \n",
       "10percentage              43.0      71.68     79.15     85.67      97.76  \n",
       "10board                    NaN        NaN       NaN       NaN        NaN  \n",
       "12graduation            1995.0     2007.0    2008.0    2009.0     2013.0  \n",
       "12percentage              40.0       66.0      74.4      82.6       98.7  \n",
       "12board                    NaN        NaN       NaN       NaN        NaN  \n",
       "CollegeID                  2.0      494.0    3879.0    8818.0    18409.0  \n",
       "CollegeTier                1.0        2.0       2.0       2.0        2.0  \n",
       "Degree                     NaN        NaN       NaN       NaN        NaN  \n",
       "Specialization             NaN        NaN       NaN       NaN        NaN  \n",
       "collegeGPA                6.45    66.4075     71.72   76.3275      99.93  \n",
       "CollegeCityID              2.0      494.0    3879.0    8818.0    18409.0  \n",
       "CollegeCityTier            0.0        0.0       0.0       1.0        1.0  \n",
       "CollegeState               NaN        NaN       NaN       NaN        NaN  \n",
       "GraduationYear             0.0     2012.0    2013.0    2014.0     2017.0  \n",
       "English                  180.0      425.0     500.0     570.0      875.0  \n",
       "Logical                  195.0      445.0     505.0     565.0      795.0  \n",
       "Quant                    120.0      430.0     515.0     595.0      900.0  \n",
       "Domain                    -1.0   0.342315  0.622643  0.842248    0.99991  \n",
       "ComputerProgramming       -1.0      295.0     415.0     495.0      840.0  \n",
       "ElectronicsAndSemicon     -1.0       -1.0      -1.0     233.0      612.0  \n",
       "ComputerScience           -1.0       -1.0      -1.0      -1.0      715.0  \n",
       "MechanicalEngg            -1.0       -1.0      -1.0      -1.0      623.0  \n",
       "ElectricalEngg            -1.0       -1.0      -1.0      -1.0      676.0  \n",
       "TelecomEngg               -1.0       -1.0      -1.0      -1.0      548.0  \n",
       "CivilEngg                 -1.0       -1.0      -1.0      -1.0      516.0  \n",
       "conscientiousness      -4.1267  -0.713525    0.0464    0.7027     1.9953  \n",
       "agreeableness          -5.7816    -0.2871    0.2124    0.8128     1.9048  \n",
       "extraversion           -4.6009    -0.6048    0.0914     0.672     2.5354  \n",
       "nueroticism             -2.643    -0.8682   -0.2344    0.5262     3.3525  \n",
       "openess_to_experience  -7.3757    -0.6692   -0.0943    0.5024     1.8224  "
      ]
     },
     "execution_count": 5,
     "metadata": {},
     "output_type": "execute_result"
    }
   ],
   "source": [
    "df.describe(include='all').T"
   ]
  },
  {
   "cell_type": "code",
   "execution_count": 6,
   "id": "a616aec4",
   "metadata": {},
   "outputs": [
    {
     "data": {
      "text/html": [
       "<div>\n",
       "<style scoped>\n",
       "    .dataframe tbody tr th:only-of-type {\n",
       "        vertical-align: middle;\n",
       "    }\n",
       "\n",
       "    .dataframe tbody tr th {\n",
       "        vertical-align: top;\n",
       "    }\n",
       "\n",
       "    .dataframe thead th {\n",
       "        text-align: right;\n",
       "    }\n",
       "</style>\n",
       "<table border=\"1\" class=\"dataframe\">\n",
       "  <thead>\n",
       "    <tr style=\"text-align: right;\">\n",
       "      <th></th>\n",
       "      <th>count</th>\n",
       "      <th>mean</th>\n",
       "      <th>std</th>\n",
       "      <th>min</th>\n",
       "      <th>25%</th>\n",
       "      <th>50%</th>\n",
       "      <th>75%</th>\n",
       "      <th>max</th>\n",
       "    </tr>\n",
       "  </thead>\n",
       "  <tbody>\n",
       "    <tr>\n",
       "      <th>ID</th>\n",
       "      <td>3998.0</td>\n",
       "      <td>663794.540520</td>\n",
       "      <td>363218.245829</td>\n",
       "      <td>11244.0000</td>\n",
       "      <td>334284.250000</td>\n",
       "      <td>639600.000000</td>\n",
       "      <td>990480.000000</td>\n",
       "      <td>1.298275e+06</td>\n",
       "    </tr>\n",
       "    <tr>\n",
       "      <th>Salary</th>\n",
       "      <td>3998.0</td>\n",
       "      <td>307699.849925</td>\n",
       "      <td>212737.499957</td>\n",
       "      <td>35000.0000</td>\n",
       "      <td>180000.000000</td>\n",
       "      <td>300000.000000</td>\n",
       "      <td>370000.000000</td>\n",
       "      <td>4.000000e+06</td>\n",
       "    </tr>\n",
       "    <tr>\n",
       "      <th>10percentage</th>\n",
       "      <td>3998.0</td>\n",
       "      <td>77.925443</td>\n",
       "      <td>9.850162</td>\n",
       "      <td>43.0000</td>\n",
       "      <td>71.680000</td>\n",
       "      <td>79.150000</td>\n",
       "      <td>85.670000</td>\n",
       "      <td>9.776000e+01</td>\n",
       "    </tr>\n",
       "    <tr>\n",
       "      <th>12graduation</th>\n",
       "      <td>3998.0</td>\n",
       "      <td>2008.087544</td>\n",
       "      <td>1.653599</td>\n",
       "      <td>1995.0000</td>\n",
       "      <td>2007.000000</td>\n",
       "      <td>2008.000000</td>\n",
       "      <td>2009.000000</td>\n",
       "      <td>2.013000e+03</td>\n",
       "    </tr>\n",
       "    <tr>\n",
       "      <th>12percentage</th>\n",
       "      <td>3998.0</td>\n",
       "      <td>74.466366</td>\n",
       "      <td>10.999933</td>\n",
       "      <td>40.0000</td>\n",
       "      <td>66.000000</td>\n",
       "      <td>74.400000</td>\n",
       "      <td>82.600000</td>\n",
       "      <td>9.870000e+01</td>\n",
       "    </tr>\n",
       "    <tr>\n",
       "      <th>CollegeID</th>\n",
       "      <td>3998.0</td>\n",
       "      <td>5156.851426</td>\n",
       "      <td>4802.261482</td>\n",
       "      <td>2.0000</td>\n",
       "      <td>494.000000</td>\n",
       "      <td>3879.000000</td>\n",
       "      <td>8818.000000</td>\n",
       "      <td>1.840900e+04</td>\n",
       "    </tr>\n",
       "    <tr>\n",
       "      <th>CollegeTier</th>\n",
       "      <td>3998.0</td>\n",
       "      <td>1.925713</td>\n",
       "      <td>0.262270</td>\n",
       "      <td>1.0000</td>\n",
       "      <td>2.000000</td>\n",
       "      <td>2.000000</td>\n",
       "      <td>2.000000</td>\n",
       "      <td>2.000000e+00</td>\n",
       "    </tr>\n",
       "    <tr>\n",
       "      <th>collegeGPA</th>\n",
       "      <td>3998.0</td>\n",
       "      <td>71.486171</td>\n",
       "      <td>8.167338</td>\n",
       "      <td>6.4500</td>\n",
       "      <td>66.407500</td>\n",
       "      <td>71.720000</td>\n",
       "      <td>76.327500</td>\n",
       "      <td>9.993000e+01</td>\n",
       "    </tr>\n",
       "    <tr>\n",
       "      <th>CollegeCityID</th>\n",
       "      <td>3998.0</td>\n",
       "      <td>5156.851426</td>\n",
       "      <td>4802.261482</td>\n",
       "      <td>2.0000</td>\n",
       "      <td>494.000000</td>\n",
       "      <td>3879.000000</td>\n",
       "      <td>8818.000000</td>\n",
       "      <td>1.840900e+04</td>\n",
       "    </tr>\n",
       "    <tr>\n",
       "      <th>CollegeCityTier</th>\n",
       "      <td>3998.0</td>\n",
       "      <td>0.300400</td>\n",
       "      <td>0.458489</td>\n",
       "      <td>0.0000</td>\n",
       "      <td>0.000000</td>\n",
       "      <td>0.000000</td>\n",
       "      <td>1.000000</td>\n",
       "      <td>1.000000e+00</td>\n",
       "    </tr>\n",
       "    <tr>\n",
       "      <th>GraduationYear</th>\n",
       "      <td>3998.0</td>\n",
       "      <td>2012.105803</td>\n",
       "      <td>31.857271</td>\n",
       "      <td>0.0000</td>\n",
       "      <td>2012.000000</td>\n",
       "      <td>2013.000000</td>\n",
       "      <td>2014.000000</td>\n",
       "      <td>2.017000e+03</td>\n",
       "    </tr>\n",
       "    <tr>\n",
       "      <th>English</th>\n",
       "      <td>3998.0</td>\n",
       "      <td>501.649075</td>\n",
       "      <td>104.940021</td>\n",
       "      <td>180.0000</td>\n",
       "      <td>425.000000</td>\n",
       "      <td>500.000000</td>\n",
       "      <td>570.000000</td>\n",
       "      <td>8.750000e+02</td>\n",
       "    </tr>\n",
       "    <tr>\n",
       "      <th>Logical</th>\n",
       "      <td>3998.0</td>\n",
       "      <td>501.598799</td>\n",
       "      <td>86.783297</td>\n",
       "      <td>195.0000</td>\n",
       "      <td>445.000000</td>\n",
       "      <td>505.000000</td>\n",
       "      <td>565.000000</td>\n",
       "      <td>7.950000e+02</td>\n",
       "    </tr>\n",
       "    <tr>\n",
       "      <th>Quant</th>\n",
       "      <td>3998.0</td>\n",
       "      <td>513.378189</td>\n",
       "      <td>122.302332</td>\n",
       "      <td>120.0000</td>\n",
       "      <td>430.000000</td>\n",
       "      <td>515.000000</td>\n",
       "      <td>595.000000</td>\n",
       "      <td>9.000000e+02</td>\n",
       "    </tr>\n",
       "    <tr>\n",
       "      <th>Domain</th>\n",
       "      <td>3998.0</td>\n",
       "      <td>0.510490</td>\n",
       "      <td>0.468671</td>\n",
       "      <td>-1.0000</td>\n",
       "      <td>0.342315</td>\n",
       "      <td>0.622643</td>\n",
       "      <td>0.842248</td>\n",
       "      <td>9.999104e-01</td>\n",
       "    </tr>\n",
       "    <tr>\n",
       "      <th>ComputerProgramming</th>\n",
       "      <td>3998.0</td>\n",
       "      <td>353.102801</td>\n",
       "      <td>205.355519</td>\n",
       "      <td>-1.0000</td>\n",
       "      <td>295.000000</td>\n",
       "      <td>415.000000</td>\n",
       "      <td>495.000000</td>\n",
       "      <td>8.400000e+02</td>\n",
       "    </tr>\n",
       "    <tr>\n",
       "      <th>ElectronicsAndSemicon</th>\n",
       "      <td>3998.0</td>\n",
       "      <td>95.328414</td>\n",
       "      <td>158.241218</td>\n",
       "      <td>-1.0000</td>\n",
       "      <td>-1.000000</td>\n",
       "      <td>-1.000000</td>\n",
       "      <td>233.000000</td>\n",
       "      <td>6.120000e+02</td>\n",
       "    </tr>\n",
       "    <tr>\n",
       "      <th>ComputerScience</th>\n",
       "      <td>3998.0</td>\n",
       "      <td>90.742371</td>\n",
       "      <td>175.273083</td>\n",
       "      <td>-1.0000</td>\n",
       "      <td>-1.000000</td>\n",
       "      <td>-1.000000</td>\n",
       "      <td>-1.000000</td>\n",
       "      <td>7.150000e+02</td>\n",
       "    </tr>\n",
       "    <tr>\n",
       "      <th>MechanicalEngg</th>\n",
       "      <td>3998.0</td>\n",
       "      <td>22.974737</td>\n",
       "      <td>98.123311</td>\n",
       "      <td>-1.0000</td>\n",
       "      <td>-1.000000</td>\n",
       "      <td>-1.000000</td>\n",
       "      <td>-1.000000</td>\n",
       "      <td>6.230000e+02</td>\n",
       "    </tr>\n",
       "    <tr>\n",
       "      <th>ElectricalEngg</th>\n",
       "      <td>3998.0</td>\n",
       "      <td>16.478739</td>\n",
       "      <td>87.585634</td>\n",
       "      <td>-1.0000</td>\n",
       "      <td>-1.000000</td>\n",
       "      <td>-1.000000</td>\n",
       "      <td>-1.000000</td>\n",
       "      <td>6.760000e+02</td>\n",
       "    </tr>\n",
       "    <tr>\n",
       "      <th>TelecomEngg</th>\n",
       "      <td>3998.0</td>\n",
       "      <td>31.851176</td>\n",
       "      <td>104.852845</td>\n",
       "      <td>-1.0000</td>\n",
       "      <td>-1.000000</td>\n",
       "      <td>-1.000000</td>\n",
       "      <td>-1.000000</td>\n",
       "      <td>5.480000e+02</td>\n",
       "    </tr>\n",
       "    <tr>\n",
       "      <th>CivilEngg</th>\n",
       "      <td>3998.0</td>\n",
       "      <td>2.683842</td>\n",
       "      <td>36.658505</td>\n",
       "      <td>-1.0000</td>\n",
       "      <td>-1.000000</td>\n",
       "      <td>-1.000000</td>\n",
       "      <td>-1.000000</td>\n",
       "      <td>5.160000e+02</td>\n",
       "    </tr>\n",
       "    <tr>\n",
       "      <th>conscientiousness</th>\n",
       "      <td>3998.0</td>\n",
       "      <td>-0.037831</td>\n",
       "      <td>1.028666</td>\n",
       "      <td>-4.1267</td>\n",
       "      <td>-0.713525</td>\n",
       "      <td>0.046400</td>\n",
       "      <td>0.702700</td>\n",
       "      <td>1.995300e+00</td>\n",
       "    </tr>\n",
       "    <tr>\n",
       "      <th>agreeableness</th>\n",
       "      <td>3998.0</td>\n",
       "      <td>0.146496</td>\n",
       "      <td>0.941782</td>\n",
       "      <td>-5.7816</td>\n",
       "      <td>-0.287100</td>\n",
       "      <td>0.212400</td>\n",
       "      <td>0.812800</td>\n",
       "      <td>1.904800e+00</td>\n",
       "    </tr>\n",
       "    <tr>\n",
       "      <th>extraversion</th>\n",
       "      <td>3998.0</td>\n",
       "      <td>0.002763</td>\n",
       "      <td>0.951471</td>\n",
       "      <td>-4.6009</td>\n",
       "      <td>-0.604800</td>\n",
       "      <td>0.091400</td>\n",
       "      <td>0.672000</td>\n",
       "      <td>2.535400e+00</td>\n",
       "    </tr>\n",
       "    <tr>\n",
       "      <th>nueroticism</th>\n",
       "      <td>3998.0</td>\n",
       "      <td>-0.169033</td>\n",
       "      <td>1.007580</td>\n",
       "      <td>-2.6430</td>\n",
       "      <td>-0.868200</td>\n",
       "      <td>-0.234400</td>\n",
       "      <td>0.526200</td>\n",
       "      <td>3.352500e+00</td>\n",
       "    </tr>\n",
       "    <tr>\n",
       "      <th>openess_to_experience</th>\n",
       "      <td>3998.0</td>\n",
       "      <td>-0.138110</td>\n",
       "      <td>1.008075</td>\n",
       "      <td>-7.3757</td>\n",
       "      <td>-0.669200</td>\n",
       "      <td>-0.094300</td>\n",
       "      <td>0.502400</td>\n",
       "      <td>1.822400e+00</td>\n",
       "    </tr>\n",
       "  </tbody>\n",
       "</table>\n",
       "</div>"
      ],
      "text/plain": [
       "                        count           mean            std         min  \\\n",
       "ID                     3998.0  663794.540520  363218.245829  11244.0000   \n",
       "Salary                 3998.0  307699.849925  212737.499957  35000.0000   \n",
       "10percentage           3998.0      77.925443       9.850162     43.0000   \n",
       "12graduation           3998.0    2008.087544       1.653599   1995.0000   \n",
       "12percentage           3998.0      74.466366      10.999933     40.0000   \n",
       "CollegeID              3998.0    5156.851426    4802.261482      2.0000   \n",
       "CollegeTier            3998.0       1.925713       0.262270      1.0000   \n",
       "collegeGPA             3998.0      71.486171       8.167338      6.4500   \n",
       "CollegeCityID          3998.0    5156.851426    4802.261482      2.0000   \n",
       "CollegeCityTier        3998.0       0.300400       0.458489      0.0000   \n",
       "GraduationYear         3998.0    2012.105803      31.857271      0.0000   \n",
       "English                3998.0     501.649075     104.940021    180.0000   \n",
       "Logical                3998.0     501.598799      86.783297    195.0000   \n",
       "Quant                  3998.0     513.378189     122.302332    120.0000   \n",
       "Domain                 3998.0       0.510490       0.468671     -1.0000   \n",
       "ComputerProgramming    3998.0     353.102801     205.355519     -1.0000   \n",
       "ElectronicsAndSemicon  3998.0      95.328414     158.241218     -1.0000   \n",
       "ComputerScience        3998.0      90.742371     175.273083     -1.0000   \n",
       "MechanicalEngg         3998.0      22.974737      98.123311     -1.0000   \n",
       "ElectricalEngg         3998.0      16.478739      87.585634     -1.0000   \n",
       "TelecomEngg            3998.0      31.851176     104.852845     -1.0000   \n",
       "CivilEngg              3998.0       2.683842      36.658505     -1.0000   \n",
       "conscientiousness      3998.0      -0.037831       1.028666     -4.1267   \n",
       "agreeableness          3998.0       0.146496       0.941782     -5.7816   \n",
       "extraversion           3998.0       0.002763       0.951471     -4.6009   \n",
       "nueroticism            3998.0      -0.169033       1.007580     -2.6430   \n",
       "openess_to_experience  3998.0      -0.138110       1.008075     -7.3757   \n",
       "\n",
       "                                 25%            50%            75%  \\\n",
       "ID                     334284.250000  639600.000000  990480.000000   \n",
       "Salary                 180000.000000  300000.000000  370000.000000   \n",
       "10percentage               71.680000      79.150000      85.670000   \n",
       "12graduation             2007.000000    2008.000000    2009.000000   \n",
       "12percentage               66.000000      74.400000      82.600000   \n",
       "CollegeID                 494.000000    3879.000000    8818.000000   \n",
       "CollegeTier                 2.000000       2.000000       2.000000   \n",
       "collegeGPA                 66.407500      71.720000      76.327500   \n",
       "CollegeCityID             494.000000    3879.000000    8818.000000   \n",
       "CollegeCityTier             0.000000       0.000000       1.000000   \n",
       "GraduationYear           2012.000000    2013.000000    2014.000000   \n",
       "English                   425.000000     500.000000     570.000000   \n",
       "Logical                   445.000000     505.000000     565.000000   \n",
       "Quant                     430.000000     515.000000     595.000000   \n",
       "Domain                      0.342315       0.622643       0.842248   \n",
       "ComputerProgramming       295.000000     415.000000     495.000000   \n",
       "ElectronicsAndSemicon      -1.000000      -1.000000     233.000000   \n",
       "ComputerScience            -1.000000      -1.000000      -1.000000   \n",
       "MechanicalEngg             -1.000000      -1.000000      -1.000000   \n",
       "ElectricalEngg             -1.000000      -1.000000      -1.000000   \n",
       "TelecomEngg                -1.000000      -1.000000      -1.000000   \n",
       "CivilEngg                  -1.000000      -1.000000      -1.000000   \n",
       "conscientiousness          -0.713525       0.046400       0.702700   \n",
       "agreeableness              -0.287100       0.212400       0.812800   \n",
       "extraversion               -0.604800       0.091400       0.672000   \n",
       "nueroticism                -0.868200      -0.234400       0.526200   \n",
       "openess_to_experience      -0.669200      -0.094300       0.502400   \n",
       "\n",
       "                                max  \n",
       "ID                     1.298275e+06  \n",
       "Salary                 4.000000e+06  \n",
       "10percentage           9.776000e+01  \n",
       "12graduation           2.013000e+03  \n",
       "12percentage           9.870000e+01  \n",
       "CollegeID              1.840900e+04  \n",
       "CollegeTier            2.000000e+00  \n",
       "collegeGPA             9.993000e+01  \n",
       "CollegeCityID          1.840900e+04  \n",
       "CollegeCityTier        1.000000e+00  \n",
       "GraduationYear         2.017000e+03  \n",
       "English                8.750000e+02  \n",
       "Logical                7.950000e+02  \n",
       "Quant                  9.000000e+02  \n",
       "Domain                 9.999104e-01  \n",
       "ComputerProgramming    8.400000e+02  \n",
       "ElectronicsAndSemicon  6.120000e+02  \n",
       "ComputerScience        7.150000e+02  \n",
       "MechanicalEngg         6.230000e+02  \n",
       "ElectricalEngg         6.760000e+02  \n",
       "TelecomEngg            5.480000e+02  \n",
       "CivilEngg              5.160000e+02  \n",
       "conscientiousness      1.995300e+00  \n",
       "agreeableness          1.904800e+00  \n",
       "extraversion           2.535400e+00  \n",
       "nueroticism            3.352500e+00  \n",
       "openess_to_experience  1.822400e+00  "
      ]
     },
     "execution_count": 6,
     "metadata": {},
     "output_type": "execute_result"
    }
   ],
   "source": [
    "df.describe().T"
   ]
  },
  {
   "cell_type": "code",
   "execution_count": 7,
   "id": "a27144b2",
   "metadata": {},
   "outputs": [
    {
     "data": {
      "text/html": [
       "<div>\n",
       "<style scoped>\n",
       "    .dataframe tbody tr th:only-of-type {\n",
       "        vertical-align: middle;\n",
       "    }\n",
       "\n",
       "    .dataframe tbody tr th {\n",
       "        vertical-align: top;\n",
       "    }\n",
       "\n",
       "    .dataframe thead th {\n",
       "        text-align: right;\n",
       "    }\n",
       "</style>\n",
       "<table border=\"1\" class=\"dataframe\">\n",
       "  <thead>\n",
       "    <tr style=\"text-align: right;\">\n",
       "      <th></th>\n",
       "      <th>Unnamed: 0</th>\n",
       "      <th>ID</th>\n",
       "      <th>Salary</th>\n",
       "      <th>DOJ</th>\n",
       "      <th>DOL</th>\n",
       "      <th>Designation</th>\n",
       "      <th>JobCity</th>\n",
       "      <th>Gender</th>\n",
       "      <th>DOB</th>\n",
       "      <th>10percentage</th>\n",
       "      <th>...</th>\n",
       "      <th>ComputerScience</th>\n",
       "      <th>MechanicalEngg</th>\n",
       "      <th>ElectricalEngg</th>\n",
       "      <th>TelecomEngg</th>\n",
       "      <th>CivilEngg</th>\n",
       "      <th>conscientiousness</th>\n",
       "      <th>agreeableness</th>\n",
       "      <th>extraversion</th>\n",
       "      <th>nueroticism</th>\n",
       "      <th>openess_to_experience</th>\n",
       "    </tr>\n",
       "  </thead>\n",
       "  <tbody>\n",
       "    <tr>\n",
       "      <th>3993</th>\n",
       "      <td>train</td>\n",
       "      <td>47916</td>\n",
       "      <td>280000</td>\n",
       "      <td>2011-10-01</td>\n",
       "      <td>2012-10-01 00:00:00</td>\n",
       "      <td>software engineer</td>\n",
       "      <td>New Delhi</td>\n",
       "      <td>m</td>\n",
       "      <td>1987-04-15</td>\n",
       "      <td>52.09</td>\n",
       "      <td>...</td>\n",
       "      <td>-1</td>\n",
       "      <td>-1</td>\n",
       "      <td>-1</td>\n",
       "      <td>-1</td>\n",
       "      <td>-1</td>\n",
       "      <td>-0.1082</td>\n",
       "      <td>0.3448</td>\n",
       "      <td>0.2366</td>\n",
       "      <td>0.64980</td>\n",
       "      <td>-0.9194</td>\n",
       "    </tr>\n",
       "    <tr>\n",
       "      <th>3994</th>\n",
       "      <td>train</td>\n",
       "      <td>752781</td>\n",
       "      <td>100000</td>\n",
       "      <td>2013-07-01</td>\n",
       "      <td>2013-07-01 00:00:00</td>\n",
       "      <td>technical writer</td>\n",
       "      <td>Hyderabad</td>\n",
       "      <td>f</td>\n",
       "      <td>1992-08-27</td>\n",
       "      <td>90.00</td>\n",
       "      <td>...</td>\n",
       "      <td>-1</td>\n",
       "      <td>-1</td>\n",
       "      <td>-1</td>\n",
       "      <td>-1</td>\n",
       "      <td>-1</td>\n",
       "      <td>-0.3027</td>\n",
       "      <td>0.8784</td>\n",
       "      <td>0.9322</td>\n",
       "      <td>0.77980</td>\n",
       "      <td>-0.0943</td>\n",
       "    </tr>\n",
       "    <tr>\n",
       "      <th>3995</th>\n",
       "      <td>train</td>\n",
       "      <td>355888</td>\n",
       "      <td>320000</td>\n",
       "      <td>2013-07-01</td>\n",
       "      <td>present</td>\n",
       "      <td>associate software engineer</td>\n",
       "      <td>Bangalore</td>\n",
       "      <td>m</td>\n",
       "      <td>1991-07-03</td>\n",
       "      <td>81.86</td>\n",
       "      <td>...</td>\n",
       "      <td>-1</td>\n",
       "      <td>-1</td>\n",
       "      <td>-1</td>\n",
       "      <td>-1</td>\n",
       "      <td>-1</td>\n",
       "      <td>-1.5765</td>\n",
       "      <td>-1.5273</td>\n",
       "      <td>-1.5051</td>\n",
       "      <td>-1.31840</td>\n",
       "      <td>-0.7615</td>\n",
       "    </tr>\n",
       "    <tr>\n",
       "      <th>3996</th>\n",
       "      <td>train</td>\n",
       "      <td>947111</td>\n",
       "      <td>200000</td>\n",
       "      <td>2014-07-01</td>\n",
       "      <td>2015-01-01 00:00:00</td>\n",
       "      <td>software developer</td>\n",
       "      <td>Asifabadbanglore</td>\n",
       "      <td>f</td>\n",
       "      <td>1992-03-20</td>\n",
       "      <td>78.72</td>\n",
       "      <td>...</td>\n",
       "      <td>438</td>\n",
       "      <td>-1</td>\n",
       "      <td>-1</td>\n",
       "      <td>-1</td>\n",
       "      <td>-1</td>\n",
       "      <td>-0.1590</td>\n",
       "      <td>0.0459</td>\n",
       "      <td>-0.4511</td>\n",
       "      <td>-0.36120</td>\n",
       "      <td>-0.0943</td>\n",
       "    </tr>\n",
       "    <tr>\n",
       "      <th>3997</th>\n",
       "      <td>train</td>\n",
       "      <td>324966</td>\n",
       "      <td>400000</td>\n",
       "      <td>2013-02-01</td>\n",
       "      <td>present</td>\n",
       "      <td>senior systems engineer</td>\n",
       "      <td>Chennai</td>\n",
       "      <td>f</td>\n",
       "      <td>1991-02-26</td>\n",
       "      <td>70.60</td>\n",
       "      <td>...</td>\n",
       "      <td>-1</td>\n",
       "      <td>-1</td>\n",
       "      <td>-1</td>\n",
       "      <td>-1</td>\n",
       "      <td>-1</td>\n",
       "      <td>-1.1128</td>\n",
       "      <td>-0.2793</td>\n",
       "      <td>-0.6343</td>\n",
       "      <td>1.32553</td>\n",
       "      <td>-0.6035</td>\n",
       "    </tr>\n",
       "  </tbody>\n",
       "</table>\n",
       "<p>5 rows × 39 columns</p>\n",
       "</div>"
      ],
      "text/plain": [
       "     Unnamed: 0      ID  Salary        DOJ                  DOL  \\\n",
       "3993      train   47916  280000 2011-10-01  2012-10-01 00:00:00   \n",
       "3994      train  752781  100000 2013-07-01  2013-07-01 00:00:00   \n",
       "3995      train  355888  320000 2013-07-01              present   \n",
       "3996      train  947111  200000 2014-07-01  2015-01-01 00:00:00   \n",
       "3997      train  324966  400000 2013-02-01              present   \n",
       "\n",
       "                      Designation           JobCity Gender        DOB  \\\n",
       "3993            software engineer        New Delhi       m 1987-04-15   \n",
       "3994             technical writer         Hyderabad      f 1992-08-27   \n",
       "3995  associate software engineer         Bangalore      m 1991-07-03   \n",
       "3996           software developer  Asifabadbanglore      f 1992-03-20   \n",
       "3997      senior systems engineer           Chennai      f 1991-02-26   \n",
       "\n",
       "      10percentage  ... ComputerScience  MechanicalEngg  ElectricalEngg  \\\n",
       "3993         52.09  ...              -1              -1              -1   \n",
       "3994         90.00  ...              -1              -1              -1   \n",
       "3995         81.86  ...              -1              -1              -1   \n",
       "3996         78.72  ...             438              -1              -1   \n",
       "3997         70.60  ...              -1              -1              -1   \n",
       "\n",
       "     TelecomEngg  CivilEngg  conscientiousness agreeableness extraversion  \\\n",
       "3993          -1         -1            -0.1082        0.3448       0.2366   \n",
       "3994          -1         -1            -0.3027        0.8784       0.9322   \n",
       "3995          -1         -1            -1.5765       -1.5273      -1.5051   \n",
       "3996          -1         -1            -0.1590        0.0459      -0.4511   \n",
       "3997          -1         -1            -1.1128       -0.2793      -0.6343   \n",
       "\n",
       "      nueroticism  openess_to_experience  \n",
       "3993      0.64980                -0.9194  \n",
       "3994      0.77980                -0.0943  \n",
       "3995     -1.31840                -0.7615  \n",
       "3996     -0.36120                -0.0943  \n",
       "3997      1.32553                -0.6035  \n",
       "\n",
       "[5 rows x 39 columns]"
      ]
     },
     "execution_count": 7,
     "metadata": {},
     "output_type": "execute_result"
    }
   ],
   "source": [
    "df.tail()"
   ]
  },
  {
   "cell_type": "code",
   "execution_count": 8,
   "id": "2e22b9a8",
   "metadata": {},
   "outputs": [
    {
     "name": "stdout",
     "output_type": "stream",
     "text": [
      "<class 'pandas.core.frame.DataFrame'>\n",
      "RangeIndex: 3998 entries, 0 to 3997\n",
      "Data columns (total 39 columns):\n",
      " #   Column                 Non-Null Count  Dtype         \n",
      "---  ------                 --------------  -----         \n",
      " 0   Unnamed: 0             3998 non-null   object        \n",
      " 1   ID                     3998 non-null   int64         \n",
      " 2   Salary                 3998 non-null   int64         \n",
      " 3   DOJ                    3998 non-null   datetime64[ns]\n",
      " 4   DOL                    3998 non-null   object        \n",
      " 5   Designation            3998 non-null   object        \n",
      " 6   JobCity                3998 non-null   object        \n",
      " 7   Gender                 3998 non-null   object        \n",
      " 8   DOB                    3998 non-null   datetime64[ns]\n",
      " 9   10percentage           3998 non-null   float64       \n",
      " 10  10board                3998 non-null   object        \n",
      " 11  12graduation           3998 non-null   int64         \n",
      " 12  12percentage           3998 non-null   float64       \n",
      " 13  12board                3998 non-null   object        \n",
      " 14  CollegeID              3998 non-null   int64         \n",
      " 15  CollegeTier            3998 non-null   int64         \n",
      " 16  Degree                 3998 non-null   object        \n",
      " 17  Specialization         3998 non-null   object        \n",
      " 18  collegeGPA             3998 non-null   float64       \n",
      " 19  CollegeCityID          3998 non-null   int64         \n",
      " 20  CollegeCityTier        3998 non-null   int64         \n",
      " 21  CollegeState           3998 non-null   object        \n",
      " 22  GraduationYear         3998 non-null   int64         \n",
      " 23  English                3998 non-null   int64         \n",
      " 24  Logical                3998 non-null   int64         \n",
      " 25  Quant                  3998 non-null   int64         \n",
      " 26  Domain                 3998 non-null   float64       \n",
      " 27  ComputerProgramming    3998 non-null   int64         \n",
      " 28  ElectronicsAndSemicon  3998 non-null   int64         \n",
      " 29  ComputerScience        3998 non-null   int64         \n",
      " 30  MechanicalEngg         3998 non-null   int64         \n",
      " 31  ElectricalEngg         3998 non-null   int64         \n",
      " 32  TelecomEngg            3998 non-null   int64         \n",
      " 33  CivilEngg              3998 non-null   int64         \n",
      " 34  conscientiousness      3998 non-null   float64       \n",
      " 35  agreeableness          3998 non-null   float64       \n",
      " 36  extraversion           3998 non-null   float64       \n",
      " 37  nueroticism            3998 non-null   float64       \n",
      " 38  openess_to_experience  3998 non-null   float64       \n",
      "dtypes: datetime64[ns](2), float64(9), int64(18), object(10)\n",
      "memory usage: 1.2+ MB\n"
     ]
    }
   ],
   "source": [
    "df.info()"
   ]
  },
  {
   "cell_type": "code",
   "execution_count": 9,
   "id": "6a02f364",
   "metadata": {},
   "outputs": [
    {
     "data": {
      "text/plain": [
       "Unnamed: 0               0\n",
       "ID                       0\n",
       "Salary                   0\n",
       "DOJ                      0\n",
       "DOL                      0\n",
       "Designation              0\n",
       "JobCity                  0\n",
       "Gender                   0\n",
       "DOB                      0\n",
       "10percentage             0\n",
       "10board                  0\n",
       "12graduation             0\n",
       "12percentage             0\n",
       "12board                  0\n",
       "CollegeID                0\n",
       "CollegeTier              0\n",
       "Degree                   0\n",
       "Specialization           0\n",
       "collegeGPA               0\n",
       "CollegeCityID            0\n",
       "CollegeCityTier          0\n",
       "CollegeState             0\n",
       "GraduationYear           0\n",
       "English                  0\n",
       "Logical                  0\n",
       "Quant                    0\n",
       "Domain                   0\n",
       "ComputerProgramming      0\n",
       "ElectronicsAndSemicon    0\n",
       "ComputerScience          0\n",
       "MechanicalEngg           0\n",
       "ElectricalEngg           0\n",
       "TelecomEngg              0\n",
       "CivilEngg                0\n",
       "conscientiousness        0\n",
       "agreeableness            0\n",
       "extraversion             0\n",
       "nueroticism              0\n",
       "openess_to_experience    0\n",
       "dtype: int64"
      ]
     },
     "execution_count": 9,
     "metadata": {},
     "output_type": "execute_result"
    }
   ],
   "source": [
    "df.isnull().sum()"
   ]
  },
  {
   "cell_type": "code",
   "execution_count": null,
   "id": "adcea733",
   "metadata": {},
   "outputs": [],
   "source": []
  },
  {
   "cell_type": "markdown",
   "id": "456813e4",
   "metadata": {},
   "source": [
    "<h3 style='color:brown'> STEP 3: UNIVARIATE ANALYSIS (Analysis for single column) </h3>\n",
    "    \n",
    "    - Analysing single columns separately.\n",
    "    - Trying to see their distribution and getting insights from them.\n",
    "    - Identifying and treating outliers"
   ]
  },
  {
   "cell_type": "code",
   "execution_count": 10,
   "id": "c23fa4cd",
   "metadata": {},
   "outputs": [
    {
     "data": {
      "text/plain": [
       "Index(['Unnamed: 0', 'ID', 'Salary', 'DOJ', 'DOL', 'Designation', 'JobCity',\n",
       "       'Gender', 'DOB', '10percentage', '10board', '12graduation',\n",
       "       '12percentage', '12board', 'CollegeID', 'CollegeTier', 'Degree',\n",
       "       'Specialization', 'collegeGPA', 'CollegeCityID', 'CollegeCityTier',\n",
       "       'CollegeState', 'GraduationYear', 'English', 'Logical', 'Quant',\n",
       "       'Domain', 'ComputerProgramming', 'ElectronicsAndSemicon',\n",
       "       'ComputerScience', 'MechanicalEngg', 'ElectricalEngg', 'TelecomEngg',\n",
       "       'CivilEngg', 'conscientiousness', 'agreeableness', 'extraversion',\n",
       "       'nueroticism', 'openess_to_experience'],\n",
       "      dtype='object')"
      ]
     },
     "execution_count": 10,
     "metadata": {},
     "output_type": "execute_result"
    }
   ],
   "source": [
    "df.columns"
   ]
  },
  {
   "cell_type": "code",
   "execution_count": 11,
   "id": "5974e061",
   "metadata": {},
   "outputs": [
    {
     "data": {
      "text/plain": [
       "177"
      ]
     },
     "execution_count": 11,
     "metadata": {},
     "output_type": "execute_result"
    }
   ],
   "source": [
    "# Lets analyze the Salary Column\n",
    "df['Salary'].nunique()"
   ]
  },
  {
   "cell_type": "code",
   "execution_count": 12,
   "id": "049c6ee3",
   "metadata": {},
   "outputs": [
    {
     "data": {
      "text/plain": [
       "count       3998.00\n",
       "mean      307699.85\n",
       "std       212737.50\n",
       "min        35000.00\n",
       "25%       180000.00\n",
       "50%       300000.00\n",
       "75%       370000.00\n",
       "max      4000000.00\n",
       "Name: Salary, dtype: float64"
      ]
     },
     "execution_count": 12,
     "metadata": {},
     "output_type": "execute_result"
    }
   ],
   "source": [
    "np.round(df['Salary'].describe(),2)"
   ]
  },
  {
   "cell_type": "markdown",
   "id": "17d3d580",
   "metadata": {},
   "source": [
    "##### From above descriptive statistics of Salary column, we can see that:\n",
    "  - Maximum annual salary =  4000000.00\n",
    "  - Minimum annual salary =  35000.00"
   ]
  },
  {
   "cell_type": "code",
   "execution_count": 13,
   "id": "4011fefa",
   "metadata": {},
   "outputs": [
    {
     "data": {
      "image/png": "[encoded data removed]",
      "text/plain": [
       "<Figure size 432x288 with 1 Axes>"
      ]
     },
     "metadata": {
      "needs_background": "light"
     },
     "output_type": "display_data"
    }
   ],
   "source": [
    "sns.distplot(df['Salary'], label='Salary Distribution')\n",
    "plt.show()"
   ]
  },
  {
   "cell_type": "code",
   "execution_count": 14,
   "id": "bafec2bc",
   "metadata": {},
   "outputs": [
    {
     "data": {
      "text/plain": [
       "<AxesSubplot:xlabel='Salary'>"
      ]
     },
     "execution_count": 14,
     "metadata": {},
     "output_type": "execute_result"
    },
    {
     "data": {
      "image/png": "[encoded data removed]",
      "text/plain": [
       "<Figure size 432x288 with 1 Axes>"
      ]
     },
     "metadata": {
      "needs_background": "light"
     },
     "output_type": "display_data"
    }
   ],
   "source": [
    "sns.boxplot(df['Salary'])"
   ]
  },
  {
   "cell_type": "markdown",
   "id": "7d16a838",
   "metadata": {},
   "source": [
    "##### The above plot shows that the salary column has many outliers"
   ]
  },
  {
   "cell_type": "code",
   "execution_count": 15,
   "id": "f087d065",
   "metadata": {},
   "outputs": [],
   "source": [
    "df_num=df.select_dtypes('number')\n",
    "df_cat=df.select_dtypes('object')"
   ]
  },
  {
   "cell_type": "code",
   "execution_count": 16,
   "id": "c0247739",
   "metadata": {},
   "outputs": [
    {
     "data": {
      "text/plain": [
       "Index(['ID', 'Salary', '10percentage', '12graduation', '12percentage',\n",
       "       'CollegeID', 'CollegeTier', 'collegeGPA', 'CollegeCityID',\n",
       "       'CollegeCityTier', 'GraduationYear', 'English', 'Logical', 'Quant',\n",
       "       'Domain', 'ComputerProgramming', 'ElectronicsAndSemicon',\n",
       "       'ComputerScience', 'MechanicalEngg', 'ElectricalEngg', 'TelecomEngg',\n",
       "       'CivilEngg', 'conscientiousness', 'agreeableness', 'extraversion',\n",
       "       'nueroticism', 'openess_to_experience'],\n",
       "      dtype='object')"
      ]
     },
     "execution_count": 16,
     "metadata": {},
     "output_type": "execute_result"
    }
   ],
   "source": [
    "df_num.columns"
   ]
  },
  {
   "cell_type": "code",
   "execution_count": 17,
   "id": "4de47be5",
   "metadata": {},
   "outputs": [
    {
     "data": {
      "text/plain": [
       "Index(['Unnamed: 0', 'DOL', 'Designation', 'JobCity', 'Gender', '10board',\n",
       "       '12board', 'Degree', 'Specialization', 'CollegeState'],\n",
       "      dtype='object')"
      ]
     },
     "execution_count": 17,
     "metadata": {},
     "output_type": "execute_result"
    }
   ],
   "source": [
    "df_cat.columns"
   ]
  },
  {
   "cell_type": "markdown",
   "id": "04b2db61",
   "metadata": {},
   "source": [
    "### Creating interactive plots"
   ]
  },
  {
   "cell_type": "code",
   "execution_count": 18,
   "id": "55ea7a36",
   "metadata": {},
   "outputs": [],
   "source": [
    "from ipywidgets import interact, interact_manual"
   ]
  },
  {
   "cell_type": "markdown",
   "id": "de036d5d",
   "metadata": {},
   "source": [
    "- **Using the interact and interact_manual packages we are creating interactive plots as follows:**\n",
    "\n",
    "    - We can select the column we want to visualize"
   ]
  },
  {
   "cell_type": "code",
   "execution_count": 19,
   "id": "0a9435ae",
   "metadata": {},
   "outputs": [
    {
     "data": {
      "application/vnd.jupyter.widget-view+json": {
       "model_id": "484a4cd14132436db39a0ad7380f7425",
       "version_major": 2,
       "version_minor": 0
      },
      "text/plain": [
       "interactive(children=(Dropdown(description='col', options=('ID', 'Salary', '10percentage', '12graduation', '12…"
      ]
     },
     "metadata": {},
     "output_type": "display_data"
    }
   ],
   "source": [
    "@interact_manual\n",
    "def hist_plot(col = df_num.columns):\n",
    "    sns.histplot(df[col])"
   ]
  },
  {
   "cell_type": "code",
   "execution_count": 20,
   "id": "1c5c43d2",
   "metadata": {},
   "outputs": [
    {
     "data": {
      "application/vnd.jupyter.widget-view+json": {
       "model_id": "40e4f61754924e0590171b29d667de31",
       "version_major": 2,
       "version_minor": 0
      },
      "text/plain": [
       "interactive(children=(Dropdown(description='col', options=('ID', 'Salary', '10percentage', '12graduation', '12…"
      ]
     },
     "metadata": {},
     "output_type": "display_data"
    }
   ],
   "source": [
    "@interact_manual\n",
    "def distplot(col=df_num.columns):\n",
    "    sns.distplot(df[col])"
   ]
  },
  {
   "cell_type": "code",
   "execution_count": 21,
   "id": "388b5c7c",
   "metadata": {},
   "outputs": [
    {
     "data": {
      "application/vnd.jupyter.widget-view+json": {
       "model_id": "cdd763ac9d624bf39c7b3ee9d9366d74",
       "version_major": 2,
       "version_minor": 0
      },
      "text/plain": [
       "interactive(children=(Dropdown(description='col', options=('ID', 'Salary', '10percentage', '12graduation', '12…"
      ]
     },
     "metadata": {},
     "output_type": "display_data"
    }
   ],
   "source": [
    "@interact\n",
    "def boxplot(col=df_num.columns):\n",
    "    sns.boxplot(df[col])"
   ]
  },
  {
   "cell_type": "code",
   "execution_count": 22,
   "id": "de55d224",
   "metadata": {},
   "outputs": [
    {
     "data": {
      "application/vnd.jupyter.widget-view+json": {
       "model_id": "355107d8e39c4749a2b7619c8d8559c1",
       "version_major": 2,
       "version_minor": 0
      },
      "text/plain": [
       "interactive(children=(Dropdown(description='col', options=('Unnamed: 0', 'DOL', 'Designation', 'JobCity', 'Gen…"
      ]
     },
     "metadata": {},
     "output_type": "display_data"
    }
   ],
   "source": [
    "@interact\n",
    "def countplot(col=df_cat.columns):\n",
    "    sns.countplot(df[col])\n",
    "    plt.xticks(rotation=90)\n",
    "    plt.show()"
   ]
  },
  {
   "cell_type": "code",
   "execution_count": 23,
   "id": "199959f5",
   "metadata": {},
   "outputs": [
    {
     "data": {
      "text/html": [
       "<div>\n",
       "<style scoped>\n",
       "    .dataframe tbody tr th:only-of-type {\n",
       "        vertical-align: middle;\n",
       "    }\n",
       "\n",
       "    .dataframe tbody tr th {\n",
       "        vertical-align: top;\n",
       "    }\n",
       "\n",
       "    .dataframe thead th {\n",
       "        text-align: right;\n",
       "    }\n",
       "</style>\n",
       "<table border=\"1\" class=\"dataframe\">\n",
       "  <thead>\n",
       "    <tr style=\"text-align: right;\">\n",
       "      <th></th>\n",
       "      <th>Salary</th>\n",
       "    </tr>\n",
       "    <tr>\n",
       "      <th>Gender</th>\n",
       "      <th></th>\n",
       "    </tr>\n",
       "  </thead>\n",
       "  <tbody>\n",
       "    <tr>\n",
       "      <th>f</th>\n",
       "      <td>294937.304075</td>\n",
       "    </tr>\n",
       "    <tr>\n",
       "      <th>m</th>\n",
       "      <td>311716.211772</td>\n",
       "    </tr>\n",
       "  </tbody>\n",
       "</table>\n",
       "</div>"
      ],
      "text/plain": [
       "               Salary\n",
       "Gender               \n",
       "f       294937.304075\n",
       "m       311716.211772"
      ]
     },
     "execution_count": 23,
     "metadata": {},
     "output_type": "execute_result"
    }
   ],
   "source": [
    "a=pd.DataFrame(df.groupby('Gender')['Salary'].mean())\n",
    "a"
   ]
  },
  {
   "cell_type": "code",
   "execution_count": 24,
   "id": "9890e555",
   "metadata": {},
   "outputs": [
    {
     "data": {
      "image/png": "[encoded data removed]",
      "text/plain": [
       "<Figure size 432x288 with 1 Axes>"
      ]
     },
     "metadata": {},
     "output_type": "display_data"
    }
   ],
   "source": [
    "plt.pie(a['Salary'], labels=[\"f\",\"m\"])\n",
    "plt.show()"
   ]
  },
  {
   "cell_type": "markdown",
   "id": "56efa5ea",
   "metadata": {},
   "source": [
    "- The above plot shows that the average salary of males is slightly higher than the females."
   ]
  },
  {
   "cell_type": "code",
   "execution_count": 25,
   "id": "44584946",
   "metadata": {},
   "outputs": [
    {
     "data": {
      "text/plain": [
       "software engineer                    539\n",
       "software developer                   265\n",
       "system engineer                      205\n",
       "programmer analyst                   139\n",
       "systems engineer                     118\n",
       "                                    ... \n",
       "cad drafter                            1\n",
       "noc engineer                           1\n",
       "human resources intern                 1\n",
       "senior quality assurance engineer      1\n",
       "jr. software developer                 1\n",
       "Name: Designation, Length: 419, dtype: int64"
      ]
     },
     "execution_count": 25,
     "metadata": {},
     "output_type": "execute_result"
    }
   ],
   "source": [
    "df['Designation'].value_counts()"
   ]
  },
  {
   "cell_type": "code",
   "execution_count": 26,
   "id": "602cb86a",
   "metadata": {},
   "outputs": [
    {
     "data": {
      "text/plain": [
       "m    3041\n",
       "f     957\n",
       "Name: Gender, dtype: int64"
      ]
     },
     "execution_count": 26,
     "metadata": {},
     "output_type": "execute_result"
    }
   ],
   "source": [
    "df['Gender'].value_counts()"
   ]
  },
  {
   "cell_type": "code",
   "execution_count": 27,
   "id": "a8ec8617",
   "metadata": {},
   "outputs": [
    {
     "data": {
      "image/png": "[encoded data removed]",
      "text/plain": [
       "<Figure size 504x360 with 1 Axes>"
      ]
     },
     "metadata": {
      "needs_background": "light"
     },
     "output_type": "display_data"
    }
   ],
   "source": [
    "#plt.pie(df['Gender'])\n",
    "\n",
    "plt.figure(figsize=(7,5))\n",
    "sns.countplot(x=df['Gender'])\n",
    "plt.title(\"Gender CountPlot\")\n",
    "plt.xlabel(\"Gender\")\n",
    "plt.ylabel(\"Count\")\n",
    "plt.show()"
   ]
  },
  {
   "cell_type": "markdown",
   "id": "5142af54",
   "metadata": {},
   "source": [
    "- We can see from the above countplot that the dataset has higher number of male students than female students."
   ]
  },
  {
   "cell_type": "code",
   "execution_count": 28,
   "id": "b7373d55",
   "metadata": {},
   "outputs": [
    {
     "data": {
      "text/plain": [
       "Bangalore           627\n",
       "-1                  461\n",
       "Noida               368\n",
       "Hyderabad           335\n",
       "Pune                290\n",
       "                   ... \n",
       "Tirunelvelli          1\n",
       "Ernakulam             1\n",
       "Nanded                1\n",
       "Dharmapuri            1\n",
       "Asifabadbanglore      1\n",
       "Name: JobCity, Length: 339, dtype: int64"
      ]
     },
     "execution_count": 28,
     "metadata": {},
     "output_type": "execute_result"
    }
   ],
   "source": [
    "df['JobCity'].value_counts()"
   ]
  },
  {
   "cell_type": "markdown",
   "id": "6b2e5eca",
   "metadata": {},
   "source": [
    "- We can see that Job city has a value '-1', so replacing it with 'unknown'"
   ]
  },
  {
   "cell_type": "code",
   "execution_count": 29,
   "id": "0ad974d7",
   "metadata": {},
   "outputs": [],
   "source": [
    "df['JobCity'].replace(-1,'unknown',inplace=True)"
   ]
  },
  {
   "cell_type": "code",
   "execution_count": 30,
   "id": "68fa5df8",
   "metadata": {},
   "outputs": [
    {
     "data": {
      "text/plain": [
       "Bangalore           627\n",
       "unknown             461\n",
       "Noida               368\n",
       "Hyderabad           335\n",
       "Pune                290\n",
       "                   ... \n",
       "Tirunelvelli          1\n",
       "Ernakulam             1\n",
       "Nanded                1\n",
       "Dharmapuri            1\n",
       "Asifabadbanglore      1\n",
       "Name: JobCity, Length: 339, dtype: int64"
      ]
     },
     "execution_count": 30,
     "metadata": {},
     "output_type": "execute_result"
    }
   ],
   "source": [
    "df['JobCity'].value_counts(sort=True)"
   ]
  },
  {
   "cell_type": "code",
   "execution_count": 31,
   "id": "deb53090",
   "metadata": {},
   "outputs": [
    {
     "data": {
      "text/plain": [
       "(461, 39)"
      ]
     },
     "execution_count": 31,
     "metadata": {},
     "output_type": "execute_result"
    }
   ],
   "source": [
    "df[df['JobCity']=='unknown'].shape"
   ]
  },
  {
   "cell_type": "code",
   "execution_count": 32,
   "id": "f6c2fe1d",
   "metadata": {},
   "outputs": [
    {
     "data": {
      "text/html": [
       "<div>\n",
       "<style scoped>\n",
       "    .dataframe tbody tr th:only-of-type {\n",
       "        vertical-align: middle;\n",
       "    }\n",
       "\n",
       "    .dataframe tbody tr th {\n",
       "        vertical-align: top;\n",
       "    }\n",
       "\n",
       "    .dataframe thead th {\n",
       "        text-align: right;\n",
       "    }\n",
       "</style>\n",
       "<table border=\"1\" class=\"dataframe\">\n",
       "  <thead>\n",
       "    <tr style=\"text-align: right;\">\n",
       "      <th></th>\n",
       "      <th>Unnamed: 0</th>\n",
       "      <th>ID</th>\n",
       "      <th>Salary</th>\n",
       "      <th>DOJ</th>\n",
       "      <th>DOL</th>\n",
       "      <th>Designation</th>\n",
       "      <th>JobCity</th>\n",
       "      <th>Gender</th>\n",
       "      <th>DOB</th>\n",
       "      <th>10percentage</th>\n",
       "      <th>...</th>\n",
       "      <th>ComputerScience</th>\n",
       "      <th>MechanicalEngg</th>\n",
       "      <th>ElectricalEngg</th>\n",
       "      <th>TelecomEngg</th>\n",
       "      <th>CivilEngg</th>\n",
       "      <th>conscientiousness</th>\n",
       "      <th>agreeableness</th>\n",
       "      <th>extraversion</th>\n",
       "      <th>nueroticism</th>\n",
       "      <th>openess_to_experience</th>\n",
       "    </tr>\n",
       "  </thead>\n",
       "  <tbody>\n",
       "    <tr>\n",
       "      <th>15</th>\n",
       "      <td>train</td>\n",
       "      <td>536517</td>\n",
       "      <td>350000</td>\n",
       "      <td>2013-08-01</td>\n",
       "      <td>present</td>\n",
       "      <td>network engineer</td>\n",
       "      <td>unknown</td>\n",
       "      <td>f</td>\n",
       "      <td>1990-01-17</td>\n",
       "      <td>69.54</td>\n",
       "      <td>...</td>\n",
       "      <td>-1</td>\n",
       "      <td>-1</td>\n",
       "      <td>-1</td>\n",
       "      <td>-1</td>\n",
       "      <td>-1</td>\n",
       "      <td>1.7465</td>\n",
       "      <td>1.9048</td>\n",
       "      <td>0.6720</td>\n",
       "      <td>-0.29020</td>\n",
       "      <td>1.2528</td>\n",
       "    </tr>\n",
       "    <tr>\n",
       "      <th>21</th>\n",
       "      <td>train</td>\n",
       "      <td>339689</td>\n",
       "      <td>200000</td>\n",
       "      <td>2012-08-01</td>\n",
       "      <td>2013-12-01 00:00:00</td>\n",
       "      <td>software engineer</td>\n",
       "      <td>unknown</td>\n",
       "      <td>f</td>\n",
       "      <td>1991-08-20</td>\n",
       "      <td>75.67</td>\n",
       "      <td>...</td>\n",
       "      <td>-1</td>\n",
       "      <td>-1</td>\n",
       "      <td>-1</td>\n",
       "      <td>-1</td>\n",
       "      <td>-1</td>\n",
       "      <td>-1.0355</td>\n",
       "      <td>-0.5913</td>\n",
       "      <td>-1.3599</td>\n",
       "      <td>0.06223</td>\n",
       "      <td>-1.3539</td>\n",
       "    </tr>\n",
       "    <tr>\n",
       "      <th>39</th>\n",
       "      <td>train</td>\n",
       "      <td>533417</td>\n",
       "      <td>200000</td>\n",
       "      <td>2013-01-01</td>\n",
       "      <td>2013-06-01 00:00:00</td>\n",
       "      <td>management trainee</td>\n",
       "      <td>unknown</td>\n",
       "      <td>m</td>\n",
       "      <td>1991-02-28</td>\n",
       "      <td>88.00</td>\n",
       "      <td>...</td>\n",
       "      <td>-1</td>\n",
       "      <td>-1</td>\n",
       "      <td>-1</td>\n",
       "      <td>-1</td>\n",
       "      <td>-1</td>\n",
       "      <td>0.3941</td>\n",
       "      <td>1.2808</td>\n",
       "      <td>0.2366</td>\n",
       "      <td>-2.19980</td>\n",
       "      <td>-0.4455</td>\n",
       "    </tr>\n",
       "    <tr>\n",
       "      <th>77</th>\n",
       "      <td>train</td>\n",
       "      <td>754392</td>\n",
       "      <td>120000</td>\n",
       "      <td>2014-07-01</td>\n",
       "      <td>present</td>\n",
       "      <td>test engineer</td>\n",
       "      <td>unknown</td>\n",
       "      <td>m</td>\n",
       "      <td>1992-02-18</td>\n",
       "      <td>76.00</td>\n",
       "      <td>...</td>\n",
       "      <td>-1</td>\n",
       "      <td>-1</td>\n",
       "      <td>-1</td>\n",
       "      <td>-1</td>\n",
       "      <td>-1</td>\n",
       "      <td>-0.1590</td>\n",
       "      <td>-0.2871</td>\n",
       "      <td>0.4711</td>\n",
       "      <td>0.27270</td>\n",
       "      <td>-0.4776</td>\n",
       "    </tr>\n",
       "    <tr>\n",
       "      <th>79</th>\n",
       "      <td>train</td>\n",
       "      <td>1089852</td>\n",
       "      <td>100000</td>\n",
       "      <td>2013-08-01</td>\n",
       "      <td>2014-05-01 00:00:00</td>\n",
       "      <td>software developer</td>\n",
       "      <td>unknown</td>\n",
       "      <td>f</td>\n",
       "      <td>1992-05-17</td>\n",
       "      <td>86.00</td>\n",
       "      <td>...</td>\n",
       "      <td>-1</td>\n",
       "      <td>-1</td>\n",
       "      <td>-1</td>\n",
       "      <td>-1</td>\n",
       "      <td>-1</td>\n",
       "      <td>0.5591</td>\n",
       "      <td>-0.4536</td>\n",
       "      <td>0.0100</td>\n",
       "      <td>-0.48790</td>\n",
       "      <td>0.6721</td>\n",
       "    </tr>\n",
       "    <tr>\n",
       "      <th>...</th>\n",
       "      <td>...</td>\n",
       "      <td>...</td>\n",
       "      <td>...</td>\n",
       "      <td>...</td>\n",
       "      <td>...</td>\n",
       "      <td>...</td>\n",
       "      <td>...</td>\n",
       "      <td>...</td>\n",
       "      <td>...</td>\n",
       "      <td>...</td>\n",
       "      <td>...</td>\n",
       "      <td>...</td>\n",
       "      <td>...</td>\n",
       "      <td>...</td>\n",
       "      <td>...</td>\n",
       "      <td>...</td>\n",
       "      <td>...</td>\n",
       "      <td>...</td>\n",
       "      <td>...</td>\n",
       "      <td>...</td>\n",
       "      <td>...</td>\n",
       "    </tr>\n",
       "    <tr>\n",
       "      <th>3937</th>\n",
       "      <td>train</td>\n",
       "      <td>385546</td>\n",
       "      <td>205000</td>\n",
       "      <td>2012-10-01</td>\n",
       "      <td>2014-02-01 00:00:00</td>\n",
       "      <td>production engineer</td>\n",
       "      <td>unknown</td>\n",
       "      <td>m</td>\n",
       "      <td>1991-01-13</td>\n",
       "      <td>84.80</td>\n",
       "      <td>...</td>\n",
       "      <td>-1</td>\n",
       "      <td>-1</td>\n",
       "      <td>-1</td>\n",
       "      <td>233</td>\n",
       "      <td>-1</td>\n",
       "      <td>0.1623</td>\n",
       "      <td>0.0328</td>\n",
       "      <td>-0.3440</td>\n",
       "      <td>-1.05410</td>\n",
       "      <td>0.5024</td>\n",
       "    </tr>\n",
       "    <tr>\n",
       "      <th>3942</th>\n",
       "      <td>train</td>\n",
       "      <td>1067015</td>\n",
       "      <td>280000</td>\n",
       "      <td>2013-07-01</td>\n",
       "      <td>present</td>\n",
       "      <td>software engineer</td>\n",
       "      <td>unknown</td>\n",
       "      <td>m</td>\n",
       "      <td>1990-03-17</td>\n",
       "      <td>78.00</td>\n",
       "      <td>...</td>\n",
       "      <td>346</td>\n",
       "      <td>-1</td>\n",
       "      <td>-1</td>\n",
       "      <td>-1</td>\n",
       "      <td>-1</td>\n",
       "      <td>1.7081</td>\n",
       "      <td>-0.9531</td>\n",
       "      <td>0.1637</td>\n",
       "      <td>-1.62890</td>\n",
       "      <td>-0.8608</td>\n",
       "    </tr>\n",
       "    <tr>\n",
       "      <th>3954</th>\n",
       "      <td>train</td>\n",
       "      <td>531726</td>\n",
       "      <td>310000</td>\n",
       "      <td>2014-04-01</td>\n",
       "      <td>2015-04-01 00:00:00</td>\n",
       "      <td>business intelligence analyst</td>\n",
       "      <td>unknown</td>\n",
       "      <td>f</td>\n",
       "      <td>1992-11-15</td>\n",
       "      <td>88.40</td>\n",
       "      <td>...</td>\n",
       "      <td>-1</td>\n",
       "      <td>-1</td>\n",
       "      <td>-1</td>\n",
       "      <td>393</td>\n",
       "      <td>-1</td>\n",
       "      <td>0.8192</td>\n",
       "      <td>0.6568</td>\n",
       "      <td>0.9623</td>\n",
       "      <td>-0.29020</td>\n",
       "      <td>0.0679</td>\n",
       "    </tr>\n",
       "    <tr>\n",
       "      <th>3973</th>\n",
       "      <td>train</td>\n",
       "      <td>755067</td>\n",
       "      <td>335000</td>\n",
       "      <td>2013-08-01</td>\n",
       "      <td>present</td>\n",
       "      <td>programmer analyst</td>\n",
       "      <td>unknown</td>\n",
       "      <td>m</td>\n",
       "      <td>1990-05-20</td>\n",
       "      <td>66.85</td>\n",
       "      <td>...</td>\n",
       "      <td>-1</td>\n",
       "      <td>-1</td>\n",
       "      <td>-1</td>\n",
       "      <td>-1</td>\n",
       "      <td>-1</td>\n",
       "      <td>0.2718</td>\n",
       "      <td>-0.1206</td>\n",
       "      <td>-1.2196</td>\n",
       "      <td>-0.36120</td>\n",
       "      <td>-0.6692</td>\n",
       "    </tr>\n",
       "    <tr>\n",
       "      <th>3974</th>\n",
       "      <td>train</td>\n",
       "      <td>641821</td>\n",
       "      <td>180000</td>\n",
       "      <td>2013-06-01</td>\n",
       "      <td>2014-07-01 00:00:00</td>\n",
       "      <td>quality engineer</td>\n",
       "      <td>unknown</td>\n",
       "      <td>m</td>\n",
       "      <td>1991-06-09</td>\n",
       "      <td>70.80</td>\n",
       "      <td>...</td>\n",
       "      <td>-1</td>\n",
       "      <td>-1</td>\n",
       "      <td>-1</td>\n",
       "      <td>-1</td>\n",
       "      <td>-1</td>\n",
       "      <td>-0.0154</td>\n",
       "      <td>-1.1196</td>\n",
       "      <td>0.6248</td>\n",
       "      <td>-0.48790</td>\n",
       "      <td>-1.4356</td>\n",
       "    </tr>\n",
       "  </tbody>\n",
       "</table>\n",
       "<p>461 rows × 39 columns</p>\n",
       "</div>"
      ],
      "text/plain": [
       "     Unnamed: 0       ID  Salary        DOJ                  DOL  \\\n",
       "15        train   536517  350000 2013-08-01              present   \n",
       "21        train   339689  200000 2012-08-01  2013-12-01 00:00:00   \n",
       "39        train   533417  200000 2013-01-01  2013-06-01 00:00:00   \n",
       "77        train   754392  120000 2014-07-01              present   \n",
       "79        train  1089852  100000 2013-08-01  2014-05-01 00:00:00   \n",
       "...         ...      ...     ...        ...                  ...   \n",
       "3937      train   385546  205000 2012-10-01  2014-02-01 00:00:00   \n",
       "3942      train  1067015  280000 2013-07-01              present   \n",
       "3954      train   531726  310000 2014-04-01  2015-04-01 00:00:00   \n",
       "3973      train   755067  335000 2013-08-01              present   \n",
       "3974      train   641821  180000 2013-06-01  2014-07-01 00:00:00   \n",
       "\n",
       "                        Designation  JobCity Gender        DOB  10percentage  \\\n",
       "15                 network engineer  unknown      f 1990-01-17         69.54   \n",
       "21                software engineer  unknown      f 1991-08-20         75.67   \n",
       "39               management trainee  unknown      m 1991-02-28         88.00   \n",
       "77                    test engineer  unknown      m 1992-02-18         76.00   \n",
       "79               software developer  unknown      f 1992-05-17         86.00   \n",
       "...                             ...      ...    ...        ...           ...   \n",
       "3937            production engineer  unknown      m 1991-01-13         84.80   \n",
       "3942              software engineer  unknown      m 1990-03-17         78.00   \n",
       "3954  business intelligence analyst  unknown      f 1992-11-15         88.40   \n",
       "3973             programmer analyst  unknown      m 1990-05-20         66.85   \n",
       "3974               quality engineer  unknown      m 1991-06-09         70.80   \n",
       "\n",
       "      ... ComputerScience  MechanicalEngg  ElectricalEngg TelecomEngg  \\\n",
       "15    ...              -1              -1              -1          -1   \n",
       "21    ...              -1              -1              -1          -1   \n",
       "39    ...              -1              -1              -1          -1   \n",
       "77    ...              -1              -1              -1          -1   \n",
       "79    ...              -1              -1              -1          -1   \n",
       "...   ...             ...             ...             ...         ...   \n",
       "3937  ...              -1              -1              -1         233   \n",
       "3942  ...             346              -1              -1          -1   \n",
       "3954  ...              -1              -1              -1         393   \n",
       "3973  ...              -1              -1              -1          -1   \n",
       "3974  ...              -1              -1              -1          -1   \n",
       "\n",
       "      CivilEngg  conscientiousness agreeableness extraversion  nueroticism  \\\n",
       "15           -1             1.7465        1.9048       0.6720     -0.29020   \n",
       "21           -1            -1.0355       -0.5913      -1.3599      0.06223   \n",
       "39           -1             0.3941        1.2808       0.2366     -2.19980   \n",
       "77           -1            -0.1590       -0.2871       0.4711      0.27270   \n",
       "79           -1             0.5591       -0.4536       0.0100     -0.48790   \n",
       "...         ...                ...           ...          ...          ...   \n",
       "3937         -1             0.1623        0.0328      -0.3440     -1.05410   \n",
       "3942         -1             1.7081       -0.9531       0.1637     -1.62890   \n",
       "3954         -1             0.8192        0.6568       0.9623     -0.29020   \n",
       "3973         -1             0.2718       -0.1206      -1.2196     -0.36120   \n",
       "3974         -1            -0.0154       -1.1196       0.6248     -0.48790   \n",
       "\n",
       "      openess_to_experience  \n",
       "15                   1.2528  \n",
       "21                  -1.3539  \n",
       "39                  -0.4455  \n",
       "77                  -0.4776  \n",
       "79                   0.6721  \n",
       "...                     ...  \n",
       "3937                 0.5024  \n",
       "3942                -0.8608  \n",
       "3954                 0.0679  \n",
       "3973                -0.6692  \n",
       "3974                -1.4356  \n",
       "\n",
       "[461 rows x 39 columns]"
      ]
     },
     "execution_count": 32,
     "metadata": {},
     "output_type": "execute_result"
    }
   ],
   "source": [
    "df[df['JobCity']=='unknown']"
   ]
  },
  {
   "cell_type": "code",
   "execution_count": 101,
   "id": "b76e71d6",
   "metadata": {},
   "outputs": [],
   "source": [
    "value_counts = df['JobCity'].value_counts()\n",
    "other = value_counts[value_counts < 30].index.tolist()\n",
    "df['JobCity'] = df['JobCity'].apply(lambda x: 'Others' if x in other else x)"
   ]
  },
  {
   "cell_type": "code",
   "execution_count": null,
   "id": "18bd8383",
   "metadata": {},
   "outputs": [],
   "source": []
  },
  {
   "cell_type": "code",
   "execution_count": 102,
   "id": "da9d0fa0",
   "metadata": {},
   "outputs": [
    {
     "data": {
      "image/png": "[encoded data removed]",
      "text/plain": [
       "<Figure size 576x432 with 1 Axes>"
      ]
     },
     "metadata": {
      "needs_background": "light"
     },
     "output_type": "display_data"
    }
   ],
   "source": [
    "plt.figure(figsize=(8,6))\n",
    "sns.countplot(y=df['JobCity'])\n",
    "plt.title(\"Job City CountPlot\")\n",
    "plt.xlabel(\"\")\n",
    "plt.ylabel(\"\")\n",
    "plt.show()"
   ]
  },
  {
   "cell_type": "code",
   "execution_count": null,
   "id": "1df7e0d0",
   "metadata": {},
   "outputs": [],
   "source": []
  },
  {
   "cell_type": "code",
   "execution_count": null,
   "id": "1a964f69",
   "metadata": {},
   "outputs": [],
   "source": []
  },
  {
   "cell_type": "code",
   "execution_count": 33,
   "id": "d21d097d",
   "metadata": {},
   "outputs": [
    {
     "data": {
      "text/plain": [
       "software engineer                    539\n",
       "software developer                   265\n",
       "system engineer                      205\n",
       "programmer analyst                   139\n",
       "systems engineer                     118\n",
       "                                    ... \n",
       "cad drafter                            1\n",
       "noc engineer                           1\n",
       "human resources intern                 1\n",
       "senior quality assurance engineer      1\n",
       "jr. software developer                 1\n",
       "Name: Designation, Length: 419, dtype: int64"
      ]
     },
     "execution_count": 33,
     "metadata": {},
     "output_type": "execute_result"
    }
   ],
   "source": [
    "df['Designation'].value_counts(sort=True)"
   ]
  },
  {
   "cell_type": "markdown",
   "id": "69118f7d",
   "metadata": {},
   "source": [
    "### Working on the date columns:"
   ]
  },
  {
   "cell_type": "markdown",
   "id": "52e2a6c0",
   "metadata": {},
   "source": [
    "##### Year of Joining column"
   ]
  },
  {
   "cell_type": "code",
   "execution_count": 34,
   "id": "83dc5241",
   "metadata": {},
   "outputs": [
    {
     "data": {
      "text/plain": [
       "2014    1596\n",
       "2013    1004\n",
       "2012     590\n",
       "2011     381\n",
       "2015     248\n",
       "2010     166\n",
       "2009       5\n",
       "2007       4\n",
       "2004       1\n",
       "2008       1\n",
       "2006       1\n",
       "1991       1\n",
       "Name: DOJ, dtype: int64"
      ]
     },
     "execution_count": 34,
     "metadata": {},
     "output_type": "execute_result"
    }
   ],
   "source": [
    "YOJ = df.DOJ.dt.year\n",
    "YOJ.value_counts()"
   ]
  },
  {
   "cell_type": "markdown",
   "id": "b9d8c7c5",
   "metadata": {},
   "source": [
    "Replacing the year < 2010 with 2010"
   ]
  },
  {
   "cell_type": "code",
   "execution_count": 35,
   "id": "e25dab79",
   "metadata": {},
   "outputs": [],
   "source": [
    "YOJ= YOJ.apply(lambda x : 2010 if x<2010 else x)"
   ]
  },
  {
   "cell_type": "code",
   "execution_count": 36,
   "id": "9e83949a",
   "metadata": {},
   "outputs": [
    {
     "data": {
      "text/plain": [
       "2014    1596\n",
       "2013    1004\n",
       "2012     590\n",
       "2011     381\n",
       "2015     248\n",
       "2010     179\n",
       "Name: DOJ, dtype: int64"
      ]
     },
     "execution_count": 36,
     "metadata": {},
     "output_type": "execute_result"
    }
   ],
   "source": [
    "YOJ.value_counts()"
   ]
  },
  {
   "cell_type": "code",
   "execution_count": 37,
   "id": "c242e226",
   "metadata": {},
   "outputs": [],
   "source": [
    "df['YOJ']=YOJ"
   ]
  },
  {
   "cell_type": "code",
   "execution_count": 38,
   "id": "c913a361",
   "metadata": {},
   "outputs": [
    {
     "data": {
      "text/plain": [
       "2014    1596\n",
       "2013    1004\n",
       "2012     590\n",
       "2011     381\n",
       "2015     248\n",
       "2010     179\n",
       "Name: YOJ, dtype: int64"
      ]
     },
     "execution_count": 38,
     "metadata": {},
     "output_type": "execute_result"
    }
   ],
   "source": [
    "df['YOJ'].value_counts()"
   ]
  },
  {
   "cell_type": "code",
   "execution_count": 39,
   "id": "cec8608e",
   "metadata": {},
   "outputs": [
    {
     "data": {
      "image/png": "[encoded data removed]",
      "text/plain": [
       "<Figure size 1008x576 with 1 Axes>"
      ]
     },
     "metadata": {
      "needs_background": "light"
     },
     "output_type": "display_data"
    }
   ],
   "source": [
    "plt.figure(figsize=(14,8))\n",
    "sns.countplot(x=YOJ)\n",
    "plt.title(\"JOINING YEAR COUNTPLOT\")\n",
    "plt.xlabel(\"Year\")\n",
    "plt.ylabel(\"Count\")\n",
    "plt.show()"
   ]
  },
  {
   "cell_type": "markdown",
   "id": "8ab2753a",
   "metadata": {},
   "source": [
    "- The highest placements were recorded in the year 2014"
   ]
  },
  {
   "cell_type": "markdown",
   "id": "f6a22022",
   "metadata": {},
   "source": [
    "##### Month of Joining column"
   ]
  },
  {
   "cell_type": "code",
   "execution_count": 40,
   "id": "13d371b8",
   "metadata": {},
   "outputs": [
    {
     "data": {
      "text/plain": [
       "July         488\n",
       "August       451\n",
       "June         390\n",
       "January      372\n",
       "September    358\n",
       "October      332\n",
       "March        303\n",
       "February     297\n",
       "December     290\n",
       "November     273\n",
       "April        238\n",
       "May          206\n",
       "Name: DOJ, dtype: int64"
      ]
     },
     "execution_count": 40,
     "metadata": {},
     "output_type": "execute_result"
    }
   ],
   "source": [
    "MOJ = df.DOJ.dt.month_name()\n",
    "MOJ.value_counts()"
   ]
  },
  {
   "cell_type": "code",
   "execution_count": 41,
   "id": "3578c396",
   "metadata": {},
   "outputs": [],
   "source": [
    "df['MOJ'] = MOJ"
   ]
  },
  {
   "cell_type": "code",
   "execution_count": 42,
   "id": "7a3df4ea",
   "metadata": {},
   "outputs": [
    {
     "data": {
      "image/png": "[encoded data removed]",
      "text/plain": [
       "<Figure size 1008x576 with 1 Axes>"
      ]
     },
     "metadata": {
      "needs_background": "light"
     },
     "output_type": "display_data"
    }
   ],
   "source": [
    "plt.figure(figsize=(14,8))\n",
    "sns.countplot(x=MOJ)\n",
    "plt.title(\"JOINING MONTH COUNTPLOT\")\n",
    "plt.xlabel(\"Month\")\n",
    "plt.ylabel(\"Count\")\n",
    "plt.show()"
   ]
  },
  {
   "cell_type": "markdown",
   "id": "1f3203fb",
   "metadata": {},
   "source": [
    "- We can see that that highest number of joinings are in the month of July"
   ]
  },
  {
   "cell_type": "markdown",
   "id": "dfb01287",
   "metadata": {},
   "source": [
    "##### Date of Leaving Column"
   ]
  },
  {
   "cell_type": "code",
   "execution_count": 43,
   "id": "5f5101e6",
   "metadata": {},
   "outputs": [
    {
     "data": {
      "text/plain": [
       "0                   present\n",
       "1                   present\n",
       "2                   present\n",
       "3                   present\n",
       "4       2015-03-01 00:00:00\n",
       "               ...         \n",
       "3993    2012-10-01 00:00:00\n",
       "3994    2013-07-01 00:00:00\n",
       "3995                present\n",
       "3996    2015-01-01 00:00:00\n",
       "3997                present\n",
       "Name: DOL, Length: 3998, dtype: object"
      ]
     },
     "execution_count": 43,
     "metadata": {},
     "output_type": "execute_result"
    }
   ],
   "source": [
    "df['DOL']"
   ]
  },
  {
   "cell_type": "code",
   "execution_count": 44,
   "id": "4747cb0d",
   "metadata": {},
   "outputs": [],
   "source": [
    "DOL = df.DOL.replace('present',2015)"
   ]
  },
  {
   "cell_type": "code",
   "execution_count": 45,
   "id": "86d55da0",
   "metadata": {},
   "outputs": [],
   "source": [
    "DOL = pd.to_datetime(DOL, errors='coerce')"
   ]
  },
  {
   "cell_type": "code",
   "execution_count": 46,
   "id": "a8d1fe7e",
   "metadata": {},
   "outputs": [
    {
     "data": {
      "text/plain": [
       "0          NaN\n",
       "1          NaN\n",
       "2          NaN\n",
       "3          NaN\n",
       "4       2015.0\n",
       "         ...  \n",
       "3993    2012.0\n",
       "3994    2013.0\n",
       "3995       NaN\n",
       "3996    2015.0\n",
       "3997       NaN\n",
       "Name: DOL, Length: 3998, dtype: float64"
      ]
     },
     "execution_count": 46,
     "metadata": {},
     "output_type": "execute_result"
    }
   ],
   "source": [
    "DOL = DOL.dt.year\n",
    "DOL"
   ]
  },
  {
   "cell_type": "code",
   "execution_count": 47,
   "id": "aca619f6",
   "metadata": {},
   "outputs": [
    {
     "data": {
      "text/plain": [
       "2015    2934\n",
       "2014     646\n",
       "2013     255\n",
       "2012     116\n",
       "2011      40\n",
       "2010       4\n",
       "2005       1\n",
       "2009       1\n",
       "2008       1\n",
       "Name: DOL, dtype: int64"
      ]
     },
     "execution_count": 47,
     "metadata": {},
     "output_type": "execute_result"
    }
   ],
   "source": [
    "DOL = DOL.fillna(2015)\n",
    "YOL = DOL.astype('int32')\n",
    "YOL.value_counts()"
   ]
  },
  {
   "cell_type": "code",
   "execution_count": 48,
   "id": "3a26da6b",
   "metadata": {},
   "outputs": [],
   "source": [
    "df['YOL'] = YOL"
   ]
  },
  {
   "cell_type": "code",
   "execution_count": null,
   "id": "a77035f6",
   "metadata": {},
   "outputs": [],
   "source": []
  },
  {
   "cell_type": "code",
   "execution_count": null,
   "id": "a21e4ce2",
   "metadata": {},
   "outputs": [],
   "source": []
  },
  {
   "cell_type": "code",
   "execution_count": 49,
   "id": "493e43ec",
   "metadata": {},
   "outputs": [],
   "source": [
    "#df['DOL'].value_counts()"
   ]
  },
  {
   "cell_type": "code",
   "execution_count": 50,
   "id": "92609975",
   "metadata": {},
   "outputs": [],
   "source": [
    "#DOL = df['DOL'].replace('present',2015, inplace=True)"
   ]
  },
  {
   "cell_type": "code",
   "execution_count": 51,
   "id": "b18496ad",
   "metadata": {},
   "outputs": [],
   "source": [
    "#DOL.value_counts()"
   ]
  },
  {
   "cell_type": "code",
   "execution_count": 52,
   "id": "5bca241d",
   "metadata": {},
   "outputs": [
    {
     "data": {
      "text/plain": [
       "dtype('O')"
      ]
     },
     "execution_count": 52,
     "metadata": {},
     "output_type": "execute_result"
    }
   ],
   "source": [
    "df['DOL'].dtype\n",
    "\n",
    "#df['DOL']= df['DOL'].dt.year"
   ]
  },
  {
   "cell_type": "code",
   "execution_count": 53,
   "id": "c093b99d",
   "metadata": {},
   "outputs": [],
   "source": [
    "#pd.to_datetime(df['DOL'])  ## cannot do this due to type error"
   ]
  },
  {
   "cell_type": "code",
   "execution_count": 54,
   "id": "5ee00f1e",
   "metadata": {},
   "outputs": [
    {
     "data": {
      "image/png": "[encoded data removed]",
      "text/plain": [
       "<Figure size 864x432 with 1 Axes>"
      ]
     },
     "metadata": {
      "needs_background": "light"
     },
     "output_type": "display_data"
    }
   ],
   "source": [
    "plt.figure(figsize=(12,6))\n",
    "sns.countplot(x=YOL)\n",
    "plt.title(\"Year of Leaving Countplot\")\n",
    "plt.xlabel(\"Year\")\n",
    "plt.ylabel(\"Count\")\n",
    "plt.show()"
   ]
  },
  {
   "cell_type": "markdown",
   "id": "a5515d0a",
   "metadata": {},
   "source": [
    "- Year 2015 has the highest employers leaving their jobs"
   ]
  },
  {
   "cell_type": "markdown",
   "id": "ba71e16e",
   "metadata": {},
   "source": [
    "##### Designation Column"
   ]
  },
  {
   "cell_type": "code",
   "execution_count": 55,
   "id": "a26a24dc",
   "metadata": {},
   "outputs": [
    {
     "data": {
      "text/plain": [
       "0           senior quality engineer\n",
       "1                 assistant manager\n",
       "2                  systems engineer\n",
       "3          senior software engineer\n",
       "4                               get\n",
       "                   ...             \n",
       "3993              software engineer\n",
       "3994               technical writer\n",
       "3995    associate software engineer\n",
       "3996             software developer\n",
       "3997        senior systems engineer\n",
       "Name: Designation, Length: 3998, dtype: object"
      ]
     },
     "execution_count": 55,
     "metadata": {},
     "output_type": "execute_result"
    }
   ],
   "source": [
    "df['Designation']"
   ]
  },
  {
   "cell_type": "code",
   "execution_count": 56,
   "id": "2c146f5d",
   "metadata": {},
   "outputs": [
    {
     "data": {
      "text/plain": [
       "software engineer                    539\n",
       "software developer                   265\n",
       "system engineer                      205\n",
       "programmer analyst                   139\n",
       "systems engineer                     118\n",
       "                                    ... \n",
       "cad drafter                            1\n",
       "noc engineer                           1\n",
       "human resources intern                 1\n",
       "senior quality assurance engineer      1\n",
       "jr. software developer                 1\n",
       "Name: Designation, Length: 419, dtype: int64"
      ]
     },
     "execution_count": 56,
     "metadata": {},
     "output_type": "execute_result"
    }
   ],
   "source": [
    "df['Designation'].value_counts(sort=True)"
   ]
  },
  {
   "cell_type": "code",
   "execution_count": 57,
   "id": "699f99e4",
   "metadata": {},
   "outputs": [
    {
     "data": {
      "text/plain": [
       "software engineer             539\n",
       "software developer            265\n",
       "system engineer               205\n",
       "programmer analyst            139\n",
       "systems engineer              118\n",
       "java software engineer        111\n",
       "software test engineer        100\n",
       "project engineer               77\n",
       "technical support engineer     76\n",
       "senior software engineer       72\n",
       "java developer                 67\n",
       "test engineer                  57\n",
       "web developer                  54\n",
       "application developer          52\n",
       "assistant manager              52\n",
       "Name: Designation, dtype: int64"
      ]
     },
     "execution_count": 57,
     "metadata": {},
     "output_type": "execute_result"
    }
   ],
   "source": [
    "top15_jobs = df['Designation'].value_counts(sort=True)[:15]\n",
    "top15_jobs\n"
   ]
  },
  {
   "cell_type": "code",
   "execution_count": 58,
   "id": "ad582728",
   "metadata": {},
   "outputs": [
    {
     "data": {
      "text/html": [
       "<div>\n",
       "<style scoped>\n",
       "    .dataframe tbody tr th:only-of-type {\n",
       "        vertical-align: middle;\n",
       "    }\n",
       "\n",
       "    .dataframe tbody tr th {\n",
       "        vertical-align: top;\n",
       "    }\n",
       "\n",
       "    .dataframe thead th {\n",
       "        text-align: right;\n",
       "    }\n",
       "</style>\n",
       "<table border=\"1\" class=\"dataframe\">\n",
       "  <thead>\n",
       "    <tr style=\"text-align: right;\">\n",
       "      <th></th>\n",
       "      <th>index</th>\n",
       "      <th>Designation</th>\n",
       "    </tr>\n",
       "  </thead>\n",
       "  <tbody>\n",
       "    <tr>\n",
       "      <th>0</th>\n",
       "      <td>software engineer</td>\n",
       "      <td>539</td>\n",
       "    </tr>\n",
       "    <tr>\n",
       "      <th>1</th>\n",
       "      <td>software developer</td>\n",
       "      <td>265</td>\n",
       "    </tr>\n",
       "    <tr>\n",
       "      <th>2</th>\n",
       "      <td>system engineer</td>\n",
       "      <td>205</td>\n",
       "    </tr>\n",
       "    <tr>\n",
       "      <th>3</th>\n",
       "      <td>programmer analyst</td>\n",
       "      <td>139</td>\n",
       "    </tr>\n",
       "    <tr>\n",
       "      <th>4</th>\n",
       "      <td>systems engineer</td>\n",
       "      <td>118</td>\n",
       "    </tr>\n",
       "    <tr>\n",
       "      <th>5</th>\n",
       "      <td>java software engineer</td>\n",
       "      <td>111</td>\n",
       "    </tr>\n",
       "    <tr>\n",
       "      <th>6</th>\n",
       "      <td>software test engineer</td>\n",
       "      <td>100</td>\n",
       "    </tr>\n",
       "    <tr>\n",
       "      <th>7</th>\n",
       "      <td>project engineer</td>\n",
       "      <td>77</td>\n",
       "    </tr>\n",
       "    <tr>\n",
       "      <th>8</th>\n",
       "      <td>technical support engineer</td>\n",
       "      <td>76</td>\n",
       "    </tr>\n",
       "    <tr>\n",
       "      <th>9</th>\n",
       "      <td>senior software engineer</td>\n",
       "      <td>72</td>\n",
       "    </tr>\n",
       "    <tr>\n",
       "      <th>10</th>\n",
       "      <td>java developer</td>\n",
       "      <td>67</td>\n",
       "    </tr>\n",
       "    <tr>\n",
       "      <th>11</th>\n",
       "      <td>test engineer</td>\n",
       "      <td>57</td>\n",
       "    </tr>\n",
       "    <tr>\n",
       "      <th>12</th>\n",
       "      <td>web developer</td>\n",
       "      <td>54</td>\n",
       "    </tr>\n",
       "    <tr>\n",
       "      <th>13</th>\n",
       "      <td>application developer</td>\n",
       "      <td>52</td>\n",
       "    </tr>\n",
       "    <tr>\n",
       "      <th>14</th>\n",
       "      <td>assistant manager</td>\n",
       "      <td>52</td>\n",
       "    </tr>\n",
       "  </tbody>\n",
       "</table>\n",
       "</div>"
      ],
      "text/plain": [
       "                         index  Designation\n",
       "0            software engineer          539\n",
       "1           software developer          265\n",
       "2              system engineer          205\n",
       "3           programmer analyst          139\n",
       "4             systems engineer          118\n",
       "5       java software engineer          111\n",
       "6       software test engineer          100\n",
       "7             project engineer           77\n",
       "8   technical support engineer           76\n",
       "9     senior software engineer           72\n",
       "10              java developer           67\n",
       "11               test engineer           57\n",
       "12               web developer           54\n",
       "13       application developer           52\n",
       "14           assistant manager           52"
      ]
     },
     "execution_count": 58,
     "metadata": {},
     "output_type": "execute_result"
    }
   ],
   "source": [
    "top15_df=pd.DataFrame(top15_jobs)\n",
    "top15_df.reset_index(inplace = True)\n",
    "top15_df"
   ]
  },
  {
   "cell_type": "code",
   "execution_count": 59,
   "id": "fd16ce36",
   "metadata": {},
   "outputs": [
    {
     "data": {
      "text/plain": [
       "Index(['index', 'Designation'], dtype='object')"
      ]
     },
     "execution_count": 59,
     "metadata": {},
     "output_type": "execute_result"
    }
   ],
   "source": [
    "top15_df.columns"
   ]
  },
  {
   "cell_type": "code",
   "execution_count": 70,
   "id": "cfb75eb0",
   "metadata": {},
   "outputs": [
    {
     "data": {
      "text/html": [
       "<div>\n",
       "<style scoped>\n",
       "    .dataframe tbody tr th:only-of-type {\n",
       "        vertical-align: middle;\n",
       "    }\n",
       "\n",
       "    .dataframe tbody tr th {\n",
       "        vertical-align: top;\n",
       "    }\n",
       "\n",
       "    .dataframe thead th {\n",
       "        text-align: right;\n",
       "    }\n",
       "</style>\n",
       "<table border=\"1\" class=\"dataframe\">\n",
       "  <thead>\n",
       "    <tr style=\"text-align: right;\">\n",
       "      <th></th>\n",
       "      <th>Job_Desig</th>\n",
       "      <th>Count</th>\n",
       "    </tr>\n",
       "  </thead>\n",
       "  <tbody>\n",
       "    <tr>\n",
       "      <th>0</th>\n",
       "      <td>software engineer</td>\n",
       "      <td>539</td>\n",
       "    </tr>\n",
       "    <tr>\n",
       "      <th>1</th>\n",
       "      <td>software developer</td>\n",
       "      <td>265</td>\n",
       "    </tr>\n",
       "    <tr>\n",
       "      <th>2</th>\n",
       "      <td>system engineer</td>\n",
       "      <td>205</td>\n",
       "    </tr>\n",
       "    <tr>\n",
       "      <th>3</th>\n",
       "      <td>programmer analyst</td>\n",
       "      <td>139</td>\n",
       "    </tr>\n",
       "    <tr>\n",
       "      <th>4</th>\n",
       "      <td>systems engineer</td>\n",
       "      <td>118</td>\n",
       "    </tr>\n",
       "    <tr>\n",
       "      <th>5</th>\n",
       "      <td>java software engineer</td>\n",
       "      <td>111</td>\n",
       "    </tr>\n",
       "    <tr>\n",
       "      <th>6</th>\n",
       "      <td>software test engineer</td>\n",
       "      <td>100</td>\n",
       "    </tr>\n",
       "    <tr>\n",
       "      <th>7</th>\n",
       "      <td>project engineer</td>\n",
       "      <td>77</td>\n",
       "    </tr>\n",
       "    <tr>\n",
       "      <th>8</th>\n",
       "      <td>technical support engineer</td>\n",
       "      <td>76</td>\n",
       "    </tr>\n",
       "    <tr>\n",
       "      <th>9</th>\n",
       "      <td>senior software engineer</td>\n",
       "      <td>72</td>\n",
       "    </tr>\n",
       "    <tr>\n",
       "      <th>10</th>\n",
       "      <td>java developer</td>\n",
       "      <td>67</td>\n",
       "    </tr>\n",
       "    <tr>\n",
       "      <th>11</th>\n",
       "      <td>test engineer</td>\n",
       "      <td>57</td>\n",
       "    </tr>\n",
       "    <tr>\n",
       "      <th>12</th>\n",
       "      <td>web developer</td>\n",
       "      <td>54</td>\n",
       "    </tr>\n",
       "    <tr>\n",
       "      <th>13</th>\n",
       "      <td>application developer</td>\n",
       "      <td>52</td>\n",
       "    </tr>\n",
       "    <tr>\n",
       "      <th>14</th>\n",
       "      <td>assistant manager</td>\n",
       "      <td>52</td>\n",
       "    </tr>\n",
       "  </tbody>\n",
       "</table>\n",
       "</div>"
      ],
      "text/plain": [
       "                     Job_Desig  Count\n",
       "0            software engineer    539\n",
       "1           software developer    265\n",
       "2              system engineer    205\n",
       "3           programmer analyst    139\n",
       "4             systems engineer    118\n",
       "5       java software engineer    111\n",
       "6       software test engineer    100\n",
       "7             project engineer     77\n",
       "8   technical support engineer     76\n",
       "9     senior software engineer     72\n",
       "10              java developer     67\n",
       "11               test engineer     57\n",
       "12               web developer     54\n",
       "13       application developer     52\n",
       "14           assistant manager     52"
      ]
     },
     "execution_count": 70,
     "metadata": {},
     "output_type": "execute_result"
    }
   ],
   "source": [
    "top15_df.rename(columns = {'index' : 'Job_Desig', 'Designation' : 'Count'}, inplace= True)\n",
    "top15_df"
   ]
  },
  {
   "cell_type": "markdown",
   "id": "67272c0d",
   "metadata": {},
   "source": [
    "- The above table shows that the highest number of professionals are Software Engineers"
   ]
  },
  {
   "cell_type": "code",
   "execution_count": 80,
   "id": "9ab575d7",
   "metadata": {},
   "outputs": [
    {
     "data": {
      "text/plain": [
       "<AxesSubplot:ylabel='Density'>"
      ]
     },
     "execution_count": 80,
     "metadata": {},
     "output_type": "execute_result"
    },
    {
     "data": {
      "image/png": "[encoded data removed]",
      "text/plain": [
       "<Figure size 432x288 with 1 Axes>"
      ]
     },
     "metadata": {
      "needs_background": "light"
     },
     "output_type": "display_data"
    }
   ],
   "source": [
    "top15_jobs.plot(kind='kde')"
   ]
  },
  {
   "cell_type": "code",
   "execution_count": 79,
   "id": "ed2404d3",
   "metadata": {},
   "outputs": [
    {
     "data": {
      "image/png": "[encoded data removed]",
      "text/plain": [
       "<Figure size 648x432 with 1 Axes>"
      ]
     },
     "metadata": {
      "needs_background": "light"
     },
     "output_type": "display_data"
    }
   ],
   "source": [
    "#top15_df.plot(x=top15_df.Job_Desig, y=top15_df.Count, kind= 'bar')\n",
    "plt.figure(figsize=(9,6))\n",
    "sns.countplot(y = df['Designation'])\n",
    "plt.title(\"Designation Frequency Plot\")\n",
    "plt.xlabel(\"\")\n",
    "plt.ylabel(\"\")\n",
    "plt.show()"
   ]
  },
  {
   "cell_type": "code",
   "execution_count": 61,
   "id": "e9abaffc",
   "metadata": {},
   "outputs": [
    {
     "data": {
      "image/png": "[encoded data removed]",
      "text/plain": [
       "<Figure size 432x288 with 1 Axes>"
      ]
     },
     "metadata": {
      "needs_background": "light"
     },
     "output_type": "display_data"
    }
   ],
   "source": [
    "sns.countplot(top15_jobs)\n",
    "plt.show()"
   ]
  },
  {
   "cell_type": "code",
   "execution_count": 87,
   "id": "39877f61",
   "metadata": {},
   "outputs": [
    {
     "data": {
      "text/plain": [
       "sales support                        1\n",
       "administrative support               1\n",
       "territory sales manager              1\n",
       "project administrator                1\n",
       "environmental engineer               1\n",
       "web designer and seo                 1\n",
       "operational executive                1\n",
       "administrative coordinator           1\n",
       "senior risk consultant               1\n",
       "desktop support engineer             1\n",
       "cad drafter                          1\n",
       "noc engineer                         1\n",
       "human resources intern               1\n",
       "senior quality assurance engineer    1\n",
       "jr. software developer               1\n",
       "Name: Designation, dtype: int64"
      ]
     },
     "execution_count": 87,
     "metadata": {},
     "output_type": "execute_result"
    }
   ],
   "source": [
    "bottom15_jobs = df['Designation'].value_counts()[-15:]\n",
    "bottom15_jobs"
   ]
  },
  {
   "cell_type": "markdown",
   "id": "21f81321",
   "metadata": {},
   "source": [
    "- We can see from the above data the least number of professionals in the fields."
   ]
  },
  {
   "cell_type": "markdown",
   "id": "c18f72b2",
   "metadata": {},
   "source": [
    "##### DOB column"
   ]
  },
  {
   "cell_type": "code",
   "execution_count": 88,
   "id": "1cab40d9",
   "metadata": {},
   "outputs": [
    {
     "data": {
      "text/plain": [
       "0      1990-02-19\n",
       "1      1989-10-04\n",
       "2      1992-08-03\n",
       "3      1989-12-05\n",
       "4      1991-02-27\n",
       "          ...    \n",
       "3993   1987-04-15\n",
       "3994   1992-08-27\n",
       "3995   1991-07-03\n",
       "3996   1992-03-20\n",
       "3997   1991-02-26\n",
       "Name: DOB, Length: 3998, dtype: datetime64[ns]"
      ]
     },
     "execution_count": 88,
     "metadata": {},
     "output_type": "execute_result"
    }
   ],
   "source": [
    "df.DOB"
   ]
  },
  {
   "cell_type": "code",
   "execution_count": 89,
   "id": "1e127cb7",
   "metadata": {},
   "outputs": [],
   "source": [
    "Age = df.DOB.dt.year\n",
    "Age = abs(Age - 2015)"
   ]
  },
  {
   "cell_type": "code",
   "execution_count": 90,
   "id": "47732436",
   "metadata": {},
   "outputs": [],
   "source": [
    "Age = df.DOB.dt.year\n",
    "Age = abs(Age - 2015)"
   ]
  },
  {
   "cell_type": "code",
   "execution_count": 91,
   "id": "3a99a8be",
   "metadata": {},
   "outputs": [],
   "source": [
    "df['Age'] = Age"
   ]
  },
  {
   "cell_type": "code",
   "execution_count": 92,
   "id": "c9e120e7",
   "metadata": {},
   "outputs": [],
   "source": [
    "df['Age'] = df['Age'].astype('int32')"
   ]
  },
  {
   "cell_type": "code",
   "execution_count": 93,
   "id": "646fb68f",
   "metadata": {},
   "outputs": [
    {
     "data": {
      "text/plain": [
       "0       25\n",
       "1       26\n",
       "2       23\n",
       "3       26\n",
       "4       24\n",
       "        ..\n",
       "3993    28\n",
       "3994    23\n",
       "3995    24\n",
       "3996    23\n",
       "3997    24\n",
       "Name: Age, Length: 3998, dtype: int32"
      ]
     },
     "execution_count": 93,
     "metadata": {},
     "output_type": "execute_result"
    }
   ],
   "source": [
    "df['Age']"
   ]
  },
  {
   "cell_type": "code",
   "execution_count": 94,
   "id": "db4f3ef7",
   "metadata": {},
   "outputs": [
    {
     "data": {
      "image/png": "[encoded data removed]",
      "text/plain": [
       "<Figure size 648x432 with 1 Axes>"
      ]
     },
     "metadata": {
      "needs_background": "light"
     },
     "output_type": "display_data"
    }
   ],
   "source": [
    "plt.figure(figsize=(9,6))\n",
    "sns.countplot(x=df.Age)\n",
    "plt.title(\"Age Frequency Plot\")\n",
    "plt.xlabel(\"Age\")\n",
    "plt.ylabel(\"Frequency\")\n",
    "plt.show()"
   ]
  },
  {
   "cell_type": "markdown",
   "id": "9fb5c457",
   "metadata": {},
   "source": [
    "##### 10Percentage column"
   ]
  },
  {
   "cell_type": "code",
   "execution_count": 107,
   "id": "804bd373",
   "metadata": {},
   "outputs": [
    {
     "data": {
      "text/plain": [
       "0       84.30\n",
       "1       85.40\n",
       "2       85.00\n",
       "3       85.60\n",
       "4       78.00\n",
       "        ...  \n",
       "3993    52.09\n",
       "3994    90.00\n",
       "3995    81.86\n",
       "3996    78.72\n",
       "3997    70.60\n",
       "Name: 10percentage, Length: 3998, dtype: float64"
      ]
     },
     "execution_count": 107,
     "metadata": {},
     "output_type": "execute_result"
    }
   ],
   "source": [
    "df['10percentage']"
   ]
  },
  {
   "cell_type": "code",
   "execution_count": 108,
   "id": "eff65330",
   "metadata": {},
   "outputs": [
    {
     "data": {
      "image/png": "[encoded data removed]",
      "text/plain": [
       "<Figure size 720x504 with 1 Axes>"
      ]
     },
     "metadata": {
      "needs_background": "light"
     },
     "output_type": "display_data"
    }
   ],
   "source": [
    "df['10percentage'].plot(kind='kde', title=\"10percentage Distribution Plot\", figsize=(10,7))\n",
    "plt.show()"
   ]
  },
  {
   "cell_type": "code",
   "execution_count": 109,
   "id": "54ef5ded",
   "metadata": {},
   "outputs": [
    {
     "data": {
      "text/plain": [
       "count    3998.000000\n",
       "mean       77.925443\n",
       "std         9.850162\n",
       "min        43.000000\n",
       "25%        71.680000\n",
       "50%        79.150000\n",
       "75%        85.670000\n",
       "max        97.760000\n",
       "Name: 10percentage, dtype: float64"
      ]
     },
     "execution_count": 109,
     "metadata": {},
     "output_type": "execute_result"
    }
   ],
   "source": [
    "df['10percentage'].describe()"
   ]
  },
  {
   "cell_type": "markdown",
   "id": "b4c64701",
   "metadata": {},
   "source": [
    "- The above statistics show the max, min , avg marks of 10Percentage"
   ]
  },
  {
   "cell_type": "markdown",
   "id": "2fbc2a2e",
   "metadata": {},
   "source": [
    "##### College Tier Column"
   ]
  },
  {
   "cell_type": "code",
   "execution_count": 103,
   "id": "21995cf5",
   "metadata": {},
   "outputs": [
    {
     "data": {
      "text/plain": [
       "2    3701\n",
       "1     297\n",
       "Name: CollegeTier, dtype: int64"
      ]
     },
     "execution_count": 103,
     "metadata": {},
     "output_type": "execute_result"
    }
   ],
   "source": [
    "df['CollegeTier'].value_counts()"
   ]
  },
  {
   "cell_type": "code",
   "execution_count": 106,
   "id": "c90a1c51",
   "metadata": {},
   "outputs": [
    {
     "data": {
      "image/png": "[encoded data removed]",
      "text/plain": [
       "<Figure size 720x504 with 1 Axes>"
      ]
     },
     "metadata": {
      "needs_background": "light"
     },
     "output_type": "display_data"
    }
   ],
   "source": [
    "plt.figure(figsize=(10,7))\n",
    "sns.countplot(x = df['CollegeTier'])\n",
    "plt.title(\"CollegeTier Frequency Plot\")\n",
    "plt.xlabel(\"Tier\")\n",
    "plt.ylabel(\"Count\")\n",
    "plt.show()"
   ]
  },
  {
   "cell_type": "markdown",
   "id": "c0dcbac8",
   "metadata": {},
   "source": [
    "- Majority students belong to Tier2 colleges"
   ]
  },
  {
   "cell_type": "markdown",
   "id": "d3fcbec0",
   "metadata": {},
   "source": [
    "##### 10Board Column"
   ]
  },
  {
   "cell_type": "code",
   "execution_count": 112,
   "id": "0b279e5d",
   "metadata": {},
   "outputs": [
    {
     "data": {
      "text/plain": [
       "0       board ofsecondary education,ap\n",
       "1                                 cbse\n",
       "2                                 cbse\n",
       "3                                 cbse\n",
       "4                                 cbse\n",
       "                     ...              \n",
       "3993                              cbse\n",
       "3994                       state board\n",
       "3995                        bse,odisha\n",
       "3996                       state board\n",
       "3997                              cbse\n",
       "Name: 10board, Length: 3998, dtype: object"
      ]
     },
     "execution_count": 112,
     "metadata": {},
     "output_type": "execute_result"
    }
   ],
   "source": [
    "df['10board']"
   ]
  },
  {
   "cell_type": "code",
   "execution_count": 113,
   "id": "d8cb0575",
   "metadata": {},
   "outputs": [],
   "source": [
    "lst = []\n",
    "for i in df['10board']:\n",
    "    if isinstance(i, str):\n",
    "        if 'icse' in i.lower():\n",
    "            lst.append('ICSE')\n",
    "        elif 'cbse' in i.lower() or 'central board of secondary education' in i.lower() or 'delhi' in i.lower() or 'cbsc' in i.lower():\n",
    "            lst.append('CBSE')\n",
    "        else:\n",
    "            lst.append('State Board')\n",
    "    else:\n",
    "        lst.append('State Board')"
   ]
  },
  {
   "cell_type": "code",
   "execution_count": 114,
   "id": "2f408555",
   "metadata": {},
   "outputs": [
    {
     "data": {
      "text/plain": [
       "0       board ofsecondary education,ap\n",
       "1                                 cbse\n",
       "2                                 cbse\n",
       "3                                 cbse\n",
       "4                                 cbse\n",
       "                     ...              \n",
       "3993                              cbse\n",
       "3994                       state board\n",
       "3995                        bse,odisha\n",
       "3996                       state board\n",
       "3997                              cbse\n",
       "Name: 10board, Length: 3998, dtype: object"
      ]
     },
     "execution_count": 114,
     "metadata": {},
     "output_type": "execute_result"
    }
   ],
   "source": [
    "df['10board']"
   ]
  },
  {
   "cell_type": "code",
   "execution_count": 115,
   "id": "c325b47a",
   "metadata": {},
   "outputs": [
    {
     "data": {
      "text/plain": [
       "State Board    2298\n",
       "CBSE           1416\n",
       "ICSE            284\n",
       "Name: 10board, dtype: int64"
      ]
     },
     "execution_count": 115,
     "metadata": {},
     "output_type": "execute_result"
    }
   ],
   "source": [
    "df['10board'] = lst\n",
    "df['10board'].value_counts()"
   ]
  },
  {
   "cell_type": "code",
   "execution_count": 116,
   "id": "1aa60ca3",
   "metadata": {},
   "outputs": [
    {
     "data": {
      "image/png": "[encoded data removed]",
      "text/plain": [
       "<Figure size 792x648 with 1 Axes>"
      ]
     },
     "metadata": {
      "needs_background": "light"
     },
     "output_type": "display_data"
    }
   ],
   "source": [
    "plt.figure(figsize=(11,9))\n",
    "sns.countplot(x = df['10board'])\n",
    "plt.title(\"10board Frequency Plot\")\n",
    "plt.xlabel(\"Board\")\n",
    "plt.ylabel(\"Frequency\")\n",
    "plt.show()"
   ]
  },
  {
   "cell_type": "markdown",
   "id": "70f5e334",
   "metadata": {},
   "source": [
    "- Majority of students studied from the State Board in their 10th standard"
   ]
  },
  {
   "cell_type": "markdown",
   "id": "105f56c2",
   "metadata": {},
   "source": [
    "##### 12Percentage Column"
   ]
  },
  {
   "cell_type": "code",
   "execution_count": 118,
   "id": "8409c0e0",
   "metadata": {},
   "outputs": [
    {
     "data": {
      "text/plain": [
       "0       95.80\n",
       "1       85.00\n",
       "2       68.20\n",
       "3       83.60\n",
       "4       76.80\n",
       "        ...  \n",
       "3993    55.50\n",
       "3994    93.00\n",
       "3995    65.50\n",
       "3996    69.88\n",
       "3997    68.00\n",
       "Name: 12percentage, Length: 3998, dtype: float64"
      ]
     },
     "execution_count": 118,
     "metadata": {},
     "output_type": "execute_result"
    }
   ],
   "source": [
    "df['12percentage']"
   ]
  },
  {
   "cell_type": "code",
   "execution_count": 119,
   "id": "1764439b",
   "metadata": {},
   "outputs": [
    {
     "data": {
      "image/png": "[encoded data removed]",
      "text/plain": [
       "<Figure size 792x648 with 1 Axes>"
      ]
     },
     "metadata": {
      "needs_background": "light"
     },
     "output_type": "display_data"
    }
   ],
   "source": [
    "df['12percentage'].plot(kind='kde', title=\"12percentage Distribution Plot\", figsize=(11,9))\n",
    "plt.show()"
   ]
  },
  {
   "cell_type": "code",
   "execution_count": 120,
   "id": "fc034b4e",
   "metadata": {},
   "outputs": [
    {
     "data": {
      "text/plain": [
       "count    3998.000000\n",
       "mean       74.466366\n",
       "std        10.999933\n",
       "min        40.000000\n",
       "25%        66.000000\n",
       "50%        74.400000\n",
       "75%        82.600000\n",
       "max        98.700000\n",
       "Name: 12percentage, dtype: float64"
      ]
     },
     "execution_count": 120,
     "metadata": {},
     "output_type": "execute_result"
    }
   ],
   "source": [
    "df['12percentage'].describe()"
   ]
  },
  {
   "cell_type": "markdown",
   "id": "e6b97c2a",
   "metadata": {},
   "source": [
    "- - The above statistics show the max, min , avg marks of 10Percentage"
   ]
  },
  {
   "cell_type": "markdown",
   "id": "649d5f53",
   "metadata": {},
   "source": [
    "##### 12board Column"
   ]
  },
  {
   "cell_type": "code",
   "execution_count": 121,
   "id": "0f6b85e7",
   "metadata": {},
   "outputs": [
    {
     "data": {
      "text/plain": [
       "0       board of intermediate education,ap\n",
       "1                                     cbse\n",
       "2                                     cbse\n",
       "3                                     cbse\n",
       "4                                     cbse\n",
       "                       ...                \n",
       "3993                                  cbse\n",
       "3994                           state board\n",
       "3995                           chse,odisha\n",
       "3996                           state board\n",
       "3997                                  cbse\n",
       "Name: 12board, Length: 3998, dtype: object"
      ]
     },
     "execution_count": 121,
     "metadata": {},
     "output_type": "execute_result"
    }
   ],
   "source": [
    "df['12board']"
   ]
  },
  {
   "cell_type": "code",
   "execution_count": 122,
   "id": "8496eafe",
   "metadata": {},
   "outputs": [],
   "source": [
    "list1 = []\n",
    "for i in df['12board']:\n",
    "    if isinstance(i, str):\n",
    "        if 'isc' in i.lower():\n",
    "            list1.append('ISC')\n",
    "        elif 'cbse' in i.lower():\n",
    "            list1.append('CBSE')\n",
    "        elif 'nios' in i.lower():\n",
    "            list1.append('National Board')\n",
    "        elif 'diploma' in i.lower():\n",
    "            list1.append('Diploma')\n",
    "        elif 'technical' in i.lower():\n",
    "            list1.append('Technical')\n",
    "        elif 'university' in i.lower():\n",
    "            list1.append('University')\n",
    "        else:\n",
    "            list1.append('State Board')\n",
    "    else:\n",
    "        list1.append('State Board')"
   ]
  },
  {
   "cell_type": "code",
   "execution_count": 123,
   "id": "b75bb03c",
   "metadata": {},
   "outputs": [
    {
     "data": {
      "text/plain": [
       "State Board       2486\n",
       "CBSE              1402\n",
       "ISC                 48\n",
       "University          32\n",
       "Technical           15\n",
       "Diploma              8\n",
       "National Board       7\n",
       "Name: 12board, dtype: int64"
      ]
     },
     "execution_count": 123,
     "metadata": {},
     "output_type": "execute_result"
    }
   ],
   "source": [
    "df['12board']=list1\n",
    "df['12board'].value_counts()"
   ]
  },
  {
   "cell_type": "code",
   "execution_count": 125,
   "id": "84a1b45d",
   "metadata": {},
   "outputs": [
    {
     "data": {
      "image/png": "[encoded data removed]",
      "text/plain": [
       "<Figure size 792x648 with 1 Axes>"
      ]
     },
     "metadata": {
      "needs_background": "light"
     },
     "output_type": "display_data"
    }
   ],
   "source": [
    "plt.figure(figsize=(11,9))\n",
    "sns.countplot(x = df['12board'])\n",
    "plt.title(\"12board Frequency Plot\")\n",
    "plt.xlabel(\"12th Board\")\n",
    "plt.ylabel(\"Frequency\")\n",
    "plt.show()"
   ]
  },
  {
   "cell_type": "markdown",
   "id": "9a88c469",
   "metadata": {},
   "source": [
    "- Highest number of students in the State Board and Least in National Board"
   ]
  },
  {
   "cell_type": "markdown",
   "id": "3870cba7",
   "metadata": {},
   "source": [
    "##### Degree Column"
   ]
  },
  {
   "cell_type": "code",
   "execution_count": 126,
   "id": "c25d634a",
   "metadata": {},
   "outputs": [
    {
     "data": {
      "text/plain": [
       "B.Tech/B.E.      3700\n",
       "MCA               243\n",
       "M.Tech./M.E.       53\n",
       "M.Sc. (Tech.)       2\n",
       "Name: Degree, dtype: int64"
      ]
     },
     "execution_count": 126,
     "metadata": {},
     "output_type": "execute_result"
    }
   ],
   "source": [
    "df['Degree'].value_counts()"
   ]
  },
  {
   "cell_type": "code",
   "execution_count": 127,
   "id": "fc685078",
   "metadata": {},
   "outputs": [
    {
     "data": {
      "image/png": "[encoded data removed]",
      "text/plain": [
       "<Figure size 792x648 with 1 Axes>"
      ]
     },
     "metadata": {
      "needs_background": "light"
     },
     "output_type": "display_data"
    }
   ],
   "source": [
    "plt.figure(figsize=(11,9))\n",
    "sns.countplot(x = df['Degree'])\n",
    "plt.title(\"Degree Frequency Plot\")\n",
    "plt.xlabel(\"Degree\")\n",
    "plt.ylabel(\"Frequency\")\n",
    "plt.show()"
   ]
  },
  {
   "cell_type": "markdown",
   "id": "5e04788b",
   "metadata": {},
   "source": [
    "- Majority students pursued B.Tech/B.E. Degree"
   ]
  },
  {
   "cell_type": "markdown",
   "id": "7e72e577",
   "metadata": {},
   "source": [
    "##### Specialization Column"
   ]
  },
  {
   "cell_type": "code",
   "execution_count": 128,
   "id": "973a0918",
   "metadata": {},
   "outputs": [
    {
     "data": {
      "text/plain": [
       "electronics and communication engineering      880\n",
       "computer science & engineering                 744\n",
       "information technology                         660\n",
       "computer engineering                           600\n",
       "computer application                           244\n",
       "mechanical engineering                         201\n",
       "electronics and electrical engineering         196\n",
       "electronics & telecommunications               121\n",
       "electrical engineering                          82\n",
       "electronics & instrumentation eng               32\n",
       "civil engineering                               29\n",
       "electronics and instrumentation engineering     27\n",
       "information science engineering                 27\n",
       "instrumentation and control engineering         20\n",
       "electronics engineering                         19\n",
       "biotechnology                                   15\n",
       "other                                           13\n",
       "industrial & production engineering             10\n",
       "applied electronics and instrumentation          9\n",
       "chemical engineering                             9\n",
       "computer science and technology                  6\n",
       "telecommunication engineering                    6\n",
       "mechanical and automation                        5\n",
       "automobile/automotive engineering                5\n",
       "instrumentation engineering                      4\n",
       "mechatronics                                     4\n",
       "aeronautical engineering                         3\n",
       "electronics and computer engineering             3\n",
       "electrical and power engineering                 2\n",
       "biomedical engineering                           2\n",
       "information & communication technology           2\n",
       "industrial engineering                           2\n",
       "computer science                                 2\n",
       "metallurgical engineering                        2\n",
       "power systems and automation                     1\n",
       "control and instrumentation engineering          1\n",
       "mechanical & production engineering              1\n",
       "embedded systems technology                      1\n",
       "polymer technology                               1\n",
       "computer and communication engineering           1\n",
       "information science                              1\n",
       "internal combustion engine                       1\n",
       "computer networking                              1\n",
       "ceramic engineering                              1\n",
       "electronics                                      1\n",
       "industrial & management engineering              1\n",
       "Name: Specialization, dtype: int64"
      ]
     },
     "execution_count": 128,
     "metadata": {},
     "output_type": "execute_result"
    }
   ],
   "source": [
    "df.Specialization.value_counts()"
   ]
  },
  {
   "cell_type": "code",
   "execution_count": 132,
   "id": "c933d62d",
   "metadata": {},
   "outputs": [],
   "source": [
    "# Trying to merge similar specializations into one. ~ Feature Engineering\n",
    "df.Specialization = df.Specialization.str.replace('computer engineering' ,'computers')\n",
    "df.Specialization = df.Specialization.str.replace('information technology' ,'computers')\n",
    "df.Specialization = df.Specialization.str.replace('computer science & engineering' ,'computers')\n",
    "df.Specialization = df.Specialization.str.replace('computer application' ,'computers')\n",
    "df.Specialization = df.Specialization.str.replace('electronics and computer engineering' ,'computers')\n",
    "df.Specialization = df.Specialization.str.replace('information technology' ,'computers')\n",
    "df.Specialization = df.Specialization.str.replace('information science engineering' ,'computers')\n",
    "df.Specialization = df.Specialization.str.replace('computer science and technology' ,'computers')\n",
    "df.Specialization = df.Specialization.str.replace('computer and communication engineering' ,'computers')\n",
    "df.Specialization = df.Specialization.str.replace('information & communication technology' ,'computers')\n",
    "df.Specialization = df.Specialization.str.replace('information science' ,'computers')\n",
    "df.Specialization = df.Specialization.str.replace('computer networking' ,'computers')\n",
    "df.Specialization = df.Specialization.str.replace('computer science' ,'computers')\n",
    "\n",
    "df.Specialization = df.Specialization.str.replace('electronics and communication engineering' ,'etrx')\n",
    "df.Specialization = df.Specialization.str.replace('electronics and electrical engineering' ,'etrx')\n",
    "df.Specialization = df.Specialization.str.replace('electronics & telecommunications' ,'etrx')\n",
    "df.Specialization = df.Specialization.str.replace('electrical engineering' ,'etrx')\n",
    "df.Specialization = df.Specialization.str.replace('applied electronics and instrumentation' ,'etrx')\n",
    "df.Specialization = df.Specialization.str.replace('electronics & instrumentation eng' ,'etrx')\n",
    "df.Specialization = df.Specialization.str.replace('electronics and instrumentation engineering' ,'etrx')\n",
    "df.Specialization = df.Specialization.str.replace('electronics engineering' ,'etrx')\n",
    "df.Specialization = df.Specialization.str.replace('embedded systems technology' ,'etrx')\n",
    "df.Specialization = df.Specialization.str.replace('electrical and power engineering' ,'etrx')\n",
    "df.Specialization = df.Specialization.str.replace('mechatronics' ,'etrx')\n",
    "df.Specialization = df.Specialization.str.replace('telecommunication engineering','etrx')\n",
    "df.Specialization = df.Specialization.str.replace('electronics' ,'etrx')\n",
    "\n",
    "df.Specialization = df.Specialization.str.replace('mechanical engineering','mech')\n",
    "df.Specialization = df.Specialization.str.replace('mechanical and automation','mech')\n",
    "df.Specialization = df.Specialization.str.replace('metallurgical engineering','mech')\n",
    "df.Specialization = df.Specialization.str.replace('ceramic engineering','mech')\n",
    "df.Specialization = df.Specialization.str.replace('mechatronics','mech')\n",
    "df.Specialization = df.Specialization.str.replace('mechanical & production engineering','mech')\n",
    "df.Specialization = df.Specialization.str.replace('internal combustion engine','mech')\n",
    "df.Specialization = df.Specialization.str.replace('industrial & production engineering','mech')\n",
    "df.Specialization = df.Specialization.str.replace('automobile/automotive engineering','mech')\n",
    "df.Specialization = df.Specialization.str.replace('industrial engineering','mech')\n",
    "df.Specialization = df.Specialization.str.replace('power systems and automation','mech')\n",
    "df.Specialization = df.Specialization.str.replace('industrial & management engineering','mech')\n",
    "\n",
    "df.Specialization = df.Specialization.str.replace('control and instrumentation engineering','instrumentation engineering')\n",
    "df.Specialization = df.Specialization.str.replace('polymer technology','chemical engineering')\n",
    "df.Specialization = df.Specialization.str.replace('etrx and computers' ,'etrx')"
   ]
  },
  {
   "cell_type": "code",
   "execution_count": 130,
   "id": "f289e7c1",
   "metadata": {},
   "outputs": [
    {
     "data": {
      "text/plain": [
       "computers                                  2288\n",
       "etrx                                       1383\n",
       "mech                                        230\n",
       "civil engineering                            29\n",
       "instrumentation and control engineering      20\n",
       "biotechnology                                15\n",
       "other                                        13\n",
       "chemical engineering                         10\n",
       "instrumentation engineering                   5\n",
       "aeronautical engineering                      3\n",
       "biomedical engineering                        2\n",
       "Name: Specialization, dtype: int64"
      ]
     },
     "execution_count": 130,
     "metadata": {},
     "output_type": "execute_result"
    }
   ],
   "source": [
    "df.Specialization.value_counts()"
   ]
  },
  {
   "cell_type": "code",
   "execution_count": 131,
   "id": "b8ad3422",
   "metadata": {},
   "outputs": [
    {
     "data": {
      "image/png": "[encoded data removed]",
      "text/plain": [
       "<Figure size 792x648 with 1 Axes>"
      ]
     },
     "metadata": {
      "needs_background": "light"
     },
     "output_type": "display_data"
    }
   ],
   "source": [
    "plt.figure(figsize=(11,9))\n",
    "sns.countplot(y = df['Specialization'])\n",
    "plt.title(\"Specialization Frequency Plot\")\n",
    "plt.xlabel(\"Specialization\")\n",
    "plt.ylabel(\"Frequency\")\n",
    "plt.show()"
   ]
  },
  {
   "cell_type": "markdown",
   "id": "dd514ec7",
   "metadata": {},
   "source": [
    "- Majority students study Computers as their degree specialization"
   ]
  },
  {
   "cell_type": "markdown",
   "id": "cd25eb8a",
   "metadata": {},
   "source": [
    "##### CollegeState Column"
   ]
  },
  {
   "cell_type": "code",
   "execution_count": 133,
   "id": "2af3938f",
   "metadata": {},
   "outputs": [
    {
     "data": {
      "text/plain": [
       "Uttar Pradesh        915\n",
       "Karnataka            370\n",
       "Tamil Nadu           367\n",
       "Telangana            319\n",
       "Maharashtra          262\n",
       "Andhra Pradesh       225\n",
       "West Bengal          196\n",
       "Punjab               193\n",
       "Madhya Pradesh       189\n",
       "Haryana              180\n",
       "Rajasthan            174\n",
       "Orissa               172\n",
       "Delhi                162\n",
       "Uttarakhand          113\n",
       "Kerala                33\n",
       "Jharkhand             28\n",
       "Chhattisgarh          27\n",
       "Gujarat               24\n",
       "Himachal Pradesh      16\n",
       "Bihar                 10\n",
       "Jammu and Kashmir      7\n",
       "Assam                  5\n",
       "Union Territory        5\n",
       "Sikkim                 3\n",
       "Meghalaya              2\n",
       "Goa                    1\n",
       "Name: CollegeState, dtype: int64"
      ]
     },
     "execution_count": 133,
     "metadata": {},
     "output_type": "execute_result"
    }
   ],
   "source": [
    "df.CollegeState.value_counts()"
   ]
  },
  {
   "cell_type": "code",
   "execution_count": 135,
   "id": "08de0aed",
   "metadata": {},
   "outputs": [
    {
     "data": {
      "image/png": "[encoded data removed]",
      "text/plain": [
       "<Figure size 792x648 with 1 Axes>"
      ]
     },
     "metadata": {
      "needs_background": "light"
     },
     "output_type": "display_data"
    }
   ],
   "source": [
    "plt.figure(figsize=(11,9))\n",
    "sns.countplot(y = df['CollegeState'])\n",
    "plt.title(\"CollegeState Frequency Plot\")\n",
    "plt.xlabel(\"\")\n",
    "plt.ylabel(\"\")\n",
    "plt.show()"
   ]
  },
  {
   "cell_type": "code",
   "execution_count": null,
   "id": "d432e29b",
   "metadata": {},
   "outputs": [],
   "source": []
  },
  {
   "cell_type": "code",
   "execution_count": 137,
   "id": "1f6ad34a",
   "metadata": {},
   "outputs": [],
   "source": [
    "df.drop([\"CollegeID\", \"CollegeCityID\", \"CollegeCityTier\"], axis=1, inplace=True)"
   ]
  },
  {
   "cell_type": "markdown",
   "id": "2fbc6772",
   "metadata": {},
   "source": [
    "<h3 style='color:brown'> STEP 3: Bivariate Analysis (Analysis of two columns) </h3>\n",
    "\n",
    "- Analysing two columns together.\n",
    "- Trying to see how they vary and getting insights from them."
   ]
  },
  {
   "cell_type": "code",
   "execution_count": 138,
   "id": "68708689",
   "metadata": {},
   "outputs": [
    {
     "data": {
      "text/html": [
       "<div>\n",
       "<style scoped>\n",
       "    .dataframe tbody tr th:only-of-type {\n",
       "        vertical-align: middle;\n",
       "    }\n",
       "\n",
       "    .dataframe tbody tr th {\n",
       "        vertical-align: top;\n",
       "    }\n",
       "\n",
       "    .dataframe thead th {\n",
       "        text-align: right;\n",
       "    }\n",
       "</style>\n",
       "<table border=\"1\" class=\"dataframe\">\n",
       "  <thead>\n",
       "    <tr style=\"text-align: right;\">\n",
       "      <th></th>\n",
       "      <th>Unnamed: 0</th>\n",
       "      <th>ID</th>\n",
       "      <th>Salary</th>\n",
       "      <th>DOJ</th>\n",
       "      <th>DOL</th>\n",
       "      <th>Designation</th>\n",
       "      <th>JobCity</th>\n",
       "      <th>Gender</th>\n",
       "      <th>DOB</th>\n",
       "      <th>10percentage</th>\n",
       "      <th>...</th>\n",
       "      <th>CivilEngg</th>\n",
       "      <th>conscientiousness</th>\n",
       "      <th>agreeableness</th>\n",
       "      <th>extraversion</th>\n",
       "      <th>nueroticism</th>\n",
       "      <th>openess_to_experience</th>\n",
       "      <th>YOJ</th>\n",
       "      <th>MOJ</th>\n",
       "      <th>YOL</th>\n",
       "      <th>Age</th>\n",
       "    </tr>\n",
       "  </thead>\n",
       "  <tbody>\n",
       "    <tr>\n",
       "      <th>0</th>\n",
       "      <td>train</td>\n",
       "      <td>203097</td>\n",
       "      <td>420000</td>\n",
       "      <td>2012-06-01</td>\n",
       "      <td>present</td>\n",
       "      <td>senior quality engineer</td>\n",
       "      <td>Bangalore</td>\n",
       "      <td>f</td>\n",
       "      <td>1990-02-19</td>\n",
       "      <td>84.3</td>\n",
       "      <td>...</td>\n",
       "      <td>-1</td>\n",
       "      <td>0.9737</td>\n",
       "      <td>0.8128</td>\n",
       "      <td>0.5269</td>\n",
       "      <td>1.35490</td>\n",
       "      <td>-0.4455</td>\n",
       "      <td>2012</td>\n",
       "      <td>June</td>\n",
       "      <td>2015</td>\n",
       "      <td>25</td>\n",
       "    </tr>\n",
       "    <tr>\n",
       "      <th>1</th>\n",
       "      <td>train</td>\n",
       "      <td>579905</td>\n",
       "      <td>500000</td>\n",
       "      <td>2013-09-01</td>\n",
       "      <td>present</td>\n",
       "      <td>assistant manager</td>\n",
       "      <td>Others</td>\n",
       "      <td>m</td>\n",
       "      <td>1989-10-04</td>\n",
       "      <td>85.4</td>\n",
       "      <td>...</td>\n",
       "      <td>-1</td>\n",
       "      <td>-0.7335</td>\n",
       "      <td>0.3789</td>\n",
       "      <td>1.2396</td>\n",
       "      <td>-0.10760</td>\n",
       "      <td>0.8637</td>\n",
       "      <td>2013</td>\n",
       "      <td>September</td>\n",
       "      <td>2015</td>\n",
       "      <td>26</td>\n",
       "    </tr>\n",
       "    <tr>\n",
       "      <th>2</th>\n",
       "      <td>train</td>\n",
       "      <td>810601</td>\n",
       "      <td>325000</td>\n",
       "      <td>2014-06-01</td>\n",
       "      <td>present</td>\n",
       "      <td>systems engineer</td>\n",
       "      <td>Chennai</td>\n",
       "      <td>f</td>\n",
       "      <td>1992-08-03</td>\n",
       "      <td>85.0</td>\n",
       "      <td>...</td>\n",
       "      <td>-1</td>\n",
       "      <td>0.2718</td>\n",
       "      <td>1.7109</td>\n",
       "      <td>0.1637</td>\n",
       "      <td>-0.86820</td>\n",
       "      <td>0.6721</td>\n",
       "      <td>2014</td>\n",
       "      <td>June</td>\n",
       "      <td>2015</td>\n",
       "      <td>23</td>\n",
       "    </tr>\n",
       "    <tr>\n",
       "      <th>3</th>\n",
       "      <td>train</td>\n",
       "      <td>267447</td>\n",
       "      <td>1100000</td>\n",
       "      <td>2011-07-01</td>\n",
       "      <td>present</td>\n",
       "      <td>senior software engineer</td>\n",
       "      <td>Gurgaon</td>\n",
       "      <td>m</td>\n",
       "      <td>1989-12-05</td>\n",
       "      <td>85.6</td>\n",
       "      <td>...</td>\n",
       "      <td>-1</td>\n",
       "      <td>0.0464</td>\n",
       "      <td>0.3448</td>\n",
       "      <td>-0.3440</td>\n",
       "      <td>-0.40780</td>\n",
       "      <td>-0.9194</td>\n",
       "      <td>2011</td>\n",
       "      <td>July</td>\n",
       "      <td>2015</td>\n",
       "      <td>26</td>\n",
       "    </tr>\n",
       "    <tr>\n",
       "      <th>4</th>\n",
       "      <td>train</td>\n",
       "      <td>343523</td>\n",
       "      <td>200000</td>\n",
       "      <td>2014-03-01</td>\n",
       "      <td>2015-03-01 00:00:00</td>\n",
       "      <td>get</td>\n",
       "      <td>Others</td>\n",
       "      <td>m</td>\n",
       "      <td>1991-02-27</td>\n",
       "      <td>78.0</td>\n",
       "      <td>...</td>\n",
       "      <td>-1</td>\n",
       "      <td>-0.8810</td>\n",
       "      <td>-0.2793</td>\n",
       "      <td>-1.0697</td>\n",
       "      <td>0.09163</td>\n",
       "      <td>-0.1295</td>\n",
       "      <td>2014</td>\n",
       "      <td>March</td>\n",
       "      <td>2015</td>\n",
       "      <td>24</td>\n",
       "    </tr>\n",
       "  </tbody>\n",
       "</table>\n",
       "<p>5 rows × 40 columns</p>\n",
       "</div>"
      ],
      "text/plain": [
       "  Unnamed: 0      ID   Salary        DOJ                  DOL  \\\n",
       "0      train  203097   420000 2012-06-01              present   \n",
       "1      train  579905   500000 2013-09-01              present   \n",
       "2      train  810601   325000 2014-06-01              present   \n",
       "3      train  267447  1100000 2011-07-01              present   \n",
       "4      train  343523   200000 2014-03-01  2015-03-01 00:00:00   \n",
       "\n",
       "                Designation    JobCity Gender        DOB  10percentage  ...  \\\n",
       "0   senior quality engineer  Bangalore      f 1990-02-19          84.3  ...   \n",
       "1         assistant manager     Others      m 1989-10-04          85.4  ...   \n",
       "2          systems engineer    Chennai      f 1992-08-03          85.0  ...   \n",
       "3  senior software engineer    Gurgaon      m 1989-12-05          85.6  ...   \n",
       "4                       get     Others      m 1991-02-27          78.0  ...   \n",
       "\n",
       "  CivilEngg  conscientiousness  agreeableness extraversion  nueroticism  \\\n",
       "0        -1             0.9737         0.8128       0.5269      1.35490   \n",
       "1        -1            -0.7335         0.3789       1.2396     -0.10760   \n",
       "2        -1             0.2718         1.7109       0.1637     -0.86820   \n",
       "3        -1             0.0464         0.3448      -0.3440     -0.40780   \n",
       "4        -1            -0.8810        -0.2793      -1.0697      0.09163   \n",
       "\n",
       "  openess_to_experience   YOJ        MOJ   YOL  Age  \n",
       "0               -0.4455  2012       June  2015   25  \n",
       "1                0.8637  2013  September  2015   26  \n",
       "2                0.6721  2014       June  2015   23  \n",
       "3               -0.9194  2011       July  2015   26  \n",
       "4               -0.1295  2014      March  2015   24  \n",
       "\n",
       "[5 rows x 40 columns]"
      ]
     },
     "execution_count": 138,
     "metadata": {},
     "output_type": "execute_result"
    }
   ],
   "source": [
    "df.head()"
   ]
  },
  {
   "cell_type": "markdown",
   "id": "a17753a9",
   "metadata": {},
   "source": [
    "##### Checking how Gender effects other variables"
   ]
  },
  {
   "cell_type": "code",
   "execution_count": 139,
   "id": "44de4ee8",
   "metadata": {},
   "outputs": [
    {
     "data": {
      "text/plain": [
       "m    3041\n",
       "f     957\n",
       "Name: Gender, dtype: int64"
      ]
     },
     "execution_count": 139,
     "metadata": {},
     "output_type": "execute_result"
    }
   ],
   "source": [
    "df['Gender'].value_counts()"
   ]
  },
  {
   "cell_type": "code",
   "execution_count": 141,
   "id": "c92d28ea",
   "metadata": {},
   "outputs": [],
   "source": [
    "#df['Gender'].plot(kind='pie')\n",
    "# gives error"
   ]
  },
  {
   "cell_type": "code",
   "execution_count": 142,
   "id": "00be1c96",
   "metadata": {},
   "outputs": [
    {
     "data": {
      "text/plain": [
       "m    3041\n",
       "f     957\n",
       "Name: Gender, dtype: int64"
      ]
     },
     "execution_count": 142,
     "metadata": {},
     "output_type": "execute_result"
    }
   ],
   "source": [
    "gen = df.Gender.value_counts()\n",
    "gen"
   ]
  },
  {
   "cell_type": "code",
   "execution_count": 144,
   "id": "7af59ff7",
   "metadata": {},
   "outputs": [
    {
     "data": {
      "image/png": "[encoded data removed]",
      "text/plain": [
       "<Figure size 720x720 with 1 Axes>"
      ]
     },
     "metadata": {},
     "output_type": "display_data"
    }
   ],
   "source": [
    "plt.figure(figsize = (10, 10))\n",
    "plt.pie(gen, labels = gen.index, autopct = \"%1.2f%%\")\n",
    "plt.title(\"Male VS Female\")\n",
    "plt.show()"
   ]
  },
  {
   "cell_type": "markdown",
   "id": "57b9c564",
   "metadata": {},
   "source": [
    "- Male students are in majority"
   ]
  },
  {
   "cell_type": "markdown",
   "id": "1da51e98",
   "metadata": {},
   "source": [
    "#### Using groupby to compare salaries and performances based on Gender"
   ]
  },
  {
   "cell_type": "code",
   "execution_count": 146,
   "id": "06d913c3",
   "metadata": {},
   "outputs": [
    {
     "data": {
      "text/plain": [
       "Gender\n",
       "f    294937.304075\n",
       "m    311716.211772\n",
       "Name: Salary, dtype: float64"
      ]
     },
     "execution_count": 146,
     "metadata": {},
     "output_type": "execute_result"
    }
   ],
   "source": [
    "df.groupby('Gender')['Salary'].mean()"
   ]
  },
  {
   "cell_type": "code",
   "execution_count": 173,
   "id": "a1cb8115",
   "metadata": {},
   "outputs": [
    {
     "data": {
      "image/png": "[encoded data removed]",
      "text/plain": [
       "<Figure size 648x432 with 1 Axes>"
      ]
     },
     "metadata": {
      "needs_background": "light"
     },
     "output_type": "display_data"
    }
   ],
   "source": [
    "plt.figure(figsize=(9,6))\n",
    "sns.boxplot(x=\"Gender\", y=\"Salary\", data=df)\n",
    "plt.title(\"Gender VS Salary\")\n",
    "plt.show()"
   ]
  },
  {
   "cell_type": "markdown",
   "id": "5c09a97c",
   "metadata": {},
   "source": [
    "- Average salary of males is higher in India"
   ]
  },
  {
   "cell_type": "code",
   "execution_count": 147,
   "id": "beaade16",
   "metadata": {},
   "outputs": [
    {
     "data": {
      "text/html": [
       "<div>\n",
       "<style scoped>\n",
       "    .dataframe tbody tr th:only-of-type {\n",
       "        vertical-align: middle;\n",
       "    }\n",
       "\n",
       "    .dataframe tbody tr th {\n",
       "        vertical-align: top;\n",
       "    }\n",
       "\n",
       "    .dataframe thead th {\n",
       "        text-align: right;\n",
       "    }\n",
       "</style>\n",
       "<table border=\"1\" class=\"dataframe\">\n",
       "  <thead>\n",
       "    <tr style=\"text-align: right;\">\n",
       "      <th></th>\n",
       "      <th>10percentage</th>\n",
       "      <th>12percentage</th>\n",
       "      <th>collegeGPA</th>\n",
       "    </tr>\n",
       "    <tr>\n",
       "      <th>Gender</th>\n",
       "      <th></th>\n",
       "      <th></th>\n",
       "      <th></th>\n",
       "    </tr>\n",
       "  </thead>\n",
       "  <tbody>\n",
       "    <tr>\n",
       "      <th>f</th>\n",
       "      <td>80.932894</td>\n",
       "      <td>77.007618</td>\n",
       "      <td>74.048056</td>\n",
       "    </tr>\n",
       "    <tr>\n",
       "      <th>m</th>\n",
       "      <td>76.979000</td>\n",
       "      <td>73.666636</td>\n",
       "      <td>70.679947</td>\n",
       "    </tr>\n",
       "  </tbody>\n",
       "</table>\n",
       "</div>"
      ],
      "text/plain": [
       "        10percentage  12percentage  collegeGPA\n",
       "Gender                                        \n",
       "f          80.932894     77.007618   74.048056\n",
       "m          76.979000     73.666636   70.679947"
      ]
     },
     "execution_count": 147,
     "metadata": {},
     "output_type": "execute_result"
    }
   ],
   "source": [
    "df.groupby('Gender')[['10percentage', '12percentage', 'collegeGPA', 'Gender']].mean()"
   ]
  },
  {
   "cell_type": "markdown",
   "id": "9cf90bb3",
   "metadata": {},
   "source": [
    "- Although, females perform better in the examinations! "
   ]
  },
  {
   "cell_type": "code",
   "execution_count": 148,
   "id": "5c5e01a8",
   "metadata": {},
   "outputs": [
    {
     "data": {
      "text/html": [
       "<div>\n",
       "<style scoped>\n",
       "    .dataframe tbody tr th:only-of-type {\n",
       "        vertical-align: middle;\n",
       "    }\n",
       "\n",
       "    .dataframe tbody tr th {\n",
       "        vertical-align: top;\n",
       "    }\n",
       "\n",
       "    .dataframe thead th {\n",
       "        text-align: right;\n",
       "    }\n",
       "</style>\n",
       "<table border=\"1\" class=\"dataframe\">\n",
       "  <thead>\n",
       "    <tr style=\"text-align: right;\">\n",
       "      <th>Specialization</th>\n",
       "      <th>aeronautical engineering</th>\n",
       "      <th>biomedical engineering</th>\n",
       "      <th>biotechnology</th>\n",
       "      <th>chemical engineering</th>\n",
       "      <th>civil engineering</th>\n",
       "      <th>computers</th>\n",
       "      <th>etrx</th>\n",
       "      <th>instrumentation and control engineering</th>\n",
       "      <th>instrumentation engineering</th>\n",
       "      <th>mech</th>\n",
       "      <th>other</th>\n",
       "    </tr>\n",
       "    <tr>\n",
       "      <th>Gender</th>\n",
       "      <th></th>\n",
       "      <th></th>\n",
       "      <th></th>\n",
       "      <th></th>\n",
       "      <th></th>\n",
       "      <th></th>\n",
       "      <th></th>\n",
       "      <th></th>\n",
       "      <th></th>\n",
       "      <th></th>\n",
       "      <th></th>\n",
       "    </tr>\n",
       "  </thead>\n",
       "  <tbody>\n",
       "    <tr>\n",
       "      <th>f</th>\n",
       "      <td>1</td>\n",
       "      <td>2</td>\n",
       "      <td>9</td>\n",
       "      <td>1</td>\n",
       "      <td>6</td>\n",
       "      <td>603</td>\n",
       "      <td>313</td>\n",
       "      <td>9</td>\n",
       "      <td>0</td>\n",
       "      <td>13</td>\n",
       "      <td>0</td>\n",
       "    </tr>\n",
       "    <tr>\n",
       "      <th>m</th>\n",
       "      <td>2</td>\n",
       "      <td>0</td>\n",
       "      <td>6</td>\n",
       "      <td>9</td>\n",
       "      <td>23</td>\n",
       "      <td>1685</td>\n",
       "      <td>1070</td>\n",
       "      <td>11</td>\n",
       "      <td>5</td>\n",
       "      <td>217</td>\n",
       "      <td>13</td>\n",
       "    </tr>\n",
       "  </tbody>\n",
       "</table>\n",
       "</div>"
      ],
      "text/plain": [
       "Specialization  aeronautical engineering  biomedical engineering  \\\n",
       "Gender                                                             \n",
       "f                                      1                       2   \n",
       "m                                      2                       0   \n",
       "\n",
       "Specialization  biotechnology  chemical engineering  civil engineering  \\\n",
       "Gender                                                                   \n",
       "f                           9                     1                  6   \n",
       "m                           6                     9                 23   \n",
       "\n",
       "Specialization  computers  etrx  instrumentation and control engineering  \\\n",
       "Gender                                                                     \n",
       "f                     603   313                                        9   \n",
       "m                    1685  1070                                       11   \n",
       "\n",
       "Specialization  instrumentation engineering  mech  other  \n",
       "Gender                                                    \n",
       "f                                         0    13      0  \n",
       "m                                         5   217     13  "
      ]
     },
     "execution_count": 148,
     "metadata": {},
     "output_type": "execute_result"
    }
   ],
   "source": [
    "pd.crosstab(df.Gender,df.Specialization)"
   ]
  },
  {
   "cell_type": "markdown",
   "id": "a0545ef3",
   "metadata": {},
   "source": [
    "- From the above cross table we can se, \n",
    "    - Majority females study Computers\n",
    "    - Majority males also study computers, followed by electronics"
   ]
  },
  {
   "cell_type": "code",
   "execution_count": 156,
   "id": "3dc05b68",
   "metadata": {},
   "outputs": [
    {
     "data": {
      "image/png": "[encoded data removed]",
      "text/plain": [
       "<Figure size 1080x936 with 1 Axes>"
      ]
     },
     "metadata": {
      "needs_background": "light"
     },
     "output_type": "display_data"
    }
   ],
   "source": [
    "plt.figure(figsize = (15, 13))\n",
    "sns.countplot(x = df[\"Specialization\"], hue = df[\"Gender\"])\n",
    "plt.xticks=90\n",
    "plt.show()"
   ]
  },
  {
   "cell_type": "code",
   "execution_count": 160,
   "id": "eb47b161",
   "metadata": {},
   "outputs": [],
   "source": [
    "#df.groupby(['Gender', 'Designation'])[].count()"
   ]
  },
  {
   "cell_type": "code",
   "execution_count": 161,
   "id": "919fe80b",
   "metadata": {},
   "outputs": [
    {
     "data": {
      "text/html": [
       "<div>\n",
       "<style scoped>\n",
       "    .dataframe tbody tr th:only-of-type {\n",
       "        vertical-align: middle;\n",
       "    }\n",
       "\n",
       "    .dataframe tbody tr th {\n",
       "        vertical-align: top;\n",
       "    }\n",
       "\n",
       "    .dataframe thead th {\n",
       "        text-align: right;\n",
       "    }\n",
       "</style>\n",
       "<table border=\"1\" class=\"dataframe\">\n",
       "  <thead>\n",
       "    <tr style=\"text-align: right;\">\n",
       "      <th>Gender</th>\n",
       "      <th>f</th>\n",
       "      <th>m</th>\n",
       "    </tr>\n",
       "    <tr>\n",
       "      <th>Designation</th>\n",
       "      <th></th>\n",
       "      <th></th>\n",
       "    </tr>\n",
       "  </thead>\n",
       "  <tbody>\n",
       "    <tr>\n",
       "      <th>.net developer</th>\n",
       "      <td>8</td>\n",
       "      <td>26</td>\n",
       "    </tr>\n",
       "    <tr>\n",
       "      <th>.net web developer</th>\n",
       "      <td>1</td>\n",
       "      <td>3</td>\n",
       "    </tr>\n",
       "    <tr>\n",
       "      <th>account executive</th>\n",
       "      <td>2</td>\n",
       "      <td>2</td>\n",
       "    </tr>\n",
       "    <tr>\n",
       "      <th>account manager</th>\n",
       "      <td>0</td>\n",
       "      <td>1</td>\n",
       "    </tr>\n",
       "    <tr>\n",
       "      <th>admin assistant</th>\n",
       "      <td>0</td>\n",
       "      <td>2</td>\n",
       "    </tr>\n",
       "    <tr>\n",
       "      <th>...</th>\n",
       "      <td>...</td>\n",
       "      <td>...</td>\n",
       "    </tr>\n",
       "    <tr>\n",
       "      <th>web designer and seo</th>\n",
       "      <td>1</td>\n",
       "      <td>0</td>\n",
       "    </tr>\n",
       "    <tr>\n",
       "      <th>web developer</th>\n",
       "      <td>17</td>\n",
       "      <td>37</td>\n",
       "    </tr>\n",
       "    <tr>\n",
       "      <th>web intern</th>\n",
       "      <td>1</td>\n",
       "      <td>0</td>\n",
       "    </tr>\n",
       "    <tr>\n",
       "      <th>website developer/tester</th>\n",
       "      <td>0</td>\n",
       "      <td>1</td>\n",
       "    </tr>\n",
       "    <tr>\n",
       "      <th>windows systems administrator</th>\n",
       "      <td>1</td>\n",
       "      <td>0</td>\n",
       "    </tr>\n",
       "  </tbody>\n",
       "</table>\n",
       "<p>419 rows × 2 columns</p>\n",
       "</div>"
      ],
      "text/plain": [
       "Gender                          f   m\n",
       "Designation                          \n",
       ".net developer                  8  26\n",
       ".net web developer              1   3\n",
       "account executive               2   2\n",
       "account manager                 0   1\n",
       "admin assistant                 0   2\n",
       "...                            ..  ..\n",
       "web designer and seo            1   0\n",
       "web developer                  17  37\n",
       "web intern                      1   0\n",
       "website developer/tester        0   1\n",
       "windows systems administrator   1   0\n",
       "\n",
       "[419 rows x 2 columns]"
      ]
     },
     "execution_count": 161,
     "metadata": {},
     "output_type": "execute_result"
    }
   ],
   "source": [
    "pd.crosstab(df.Gender,df.Designation).T"
   ]
  },
  {
   "cell_type": "code",
   "execution_count": 162,
   "id": "4679a888",
   "metadata": {},
   "outputs": [
    {
     "data": {
      "text/html": [
       "<div>\n",
       "<style scoped>\n",
       "    .dataframe tbody tr th:only-of-type {\n",
       "        vertical-align: middle;\n",
       "    }\n",
       "\n",
       "    .dataframe tbody tr th {\n",
       "        vertical-align: top;\n",
       "    }\n",
       "\n",
       "    .dataframe thead th {\n",
       "        text-align: right;\n",
       "    }\n",
       "</style>\n",
       "<table border=\"1\" class=\"dataframe\">\n",
       "  <thead>\n",
       "    <tr style=\"text-align: right;\">\n",
       "      <th>Gender</th>\n",
       "      <th>f</th>\n",
       "      <th>m</th>\n",
       "    </tr>\n",
       "    <tr>\n",
       "      <th>Degree</th>\n",
       "      <th></th>\n",
       "      <th></th>\n",
       "    </tr>\n",
       "  </thead>\n",
       "  <tbody>\n",
       "    <tr>\n",
       "      <th>B.Tech/B.E.</th>\n",
       "      <td>889</td>\n",
       "      <td>2811</td>\n",
       "    </tr>\n",
       "    <tr>\n",
       "      <th>M.Sc. (Tech.)</th>\n",
       "      <td>1</td>\n",
       "      <td>1</td>\n",
       "    </tr>\n",
       "    <tr>\n",
       "      <th>M.Tech./M.E.</th>\n",
       "      <td>9</td>\n",
       "      <td>44</td>\n",
       "    </tr>\n",
       "    <tr>\n",
       "      <th>MCA</th>\n",
       "      <td>58</td>\n",
       "      <td>185</td>\n",
       "    </tr>\n",
       "  </tbody>\n",
       "</table>\n",
       "</div>"
      ],
      "text/plain": [
       "Gender           f     m\n",
       "Degree                  \n",
       "B.Tech/B.E.    889  2811\n",
       "M.Sc. (Tech.)    1     1\n",
       "M.Tech./M.E.     9    44\n",
       "MCA             58   185"
      ]
     },
     "execution_count": 162,
     "metadata": {},
     "output_type": "execute_result"
    }
   ],
   "source": [
    "pd.crosstab(df.Gender,df.Degree).T"
   ]
  },
  {
   "cell_type": "code",
   "execution_count": 163,
   "id": "7b631924",
   "metadata": {},
   "outputs": [
    {
     "data": {
      "text/plain": [
       "CollegeTier\n",
       "1    442356.902357\n",
       "2    296893.812483\n",
       "Name: Salary, dtype: float64"
      ]
     },
     "execution_count": 163,
     "metadata": {},
     "output_type": "execute_result"
    }
   ],
   "source": [
    "df.groupby('CollegeTier')['Salary'].mean()"
   ]
  },
  {
   "cell_type": "markdown",
   "id": "2d493a6b",
   "metadata": {},
   "source": [
    "- Tier1 students earn a higher average salary"
   ]
  },
  {
   "cell_type": "markdown",
   "id": "6eb0ad04",
   "metadata": {},
   "source": [
    "##### Specialization vs Salary"
   ]
  },
  {
   "cell_type": "code",
   "execution_count": 166,
   "id": "0033dbc7",
   "metadata": {},
   "outputs": [
    {
     "data": {
      "text/plain": [
       "<Figure size 648x432 with 0 Axes>"
      ]
     },
     "metadata": {},
     "output_type": "display_data"
    },
    {
     "data": {
      "image/png": "[encoded data removed]",
      "text/plain": [
       "<Figure size 360x360 with 1 Axes>"
      ]
     },
     "metadata": {
      "needs_background": "light"
     },
     "output_type": "display_data"
    }
   ],
   "source": [
    "plt.figure(figsize=(9,6))\n",
    "sns.catplot(y=\"Specialization\", x=\"Salary\", kind=\"bar\", data=df)\n",
    "plt.title(\"Specialization VS Salary\")\n",
    "plt.show()"
   ]
  },
  {
   "cell_type": "code",
   "execution_count": 167,
   "id": "5c314a72",
   "metadata": {},
   "outputs": [
    {
     "data": {
      "text/plain": [
       "software engineer                    539\n",
       "software developer                   265\n",
       "system engineer                      205\n",
       "programmer analyst                   139\n",
       "systems engineer                     118\n",
       "                                    ... \n",
       "cad drafter                            1\n",
       "noc engineer                           1\n",
       "human resources intern                 1\n",
       "senior quality assurance engineer      1\n",
       "jr. software developer                 1\n",
       "Name: Designation, Length: 419, dtype: int64"
      ]
     },
     "execution_count": 167,
     "metadata": {},
     "output_type": "execute_result"
    }
   ],
   "source": [
    "df['Designation'].value_counts()"
   ]
  },
  {
   "cell_type": "code",
   "execution_count": 168,
   "id": "6998220d",
   "metadata": {},
   "outputs": [],
   "source": [
    "l=[]\n",
    "for i in df['Designation']:\n",
    "    if ('senior' in i and 'engineer' not in i):\n",
    "        l.append('senior')\n",
    "    elif('trainee'in i and 'engineer' not in i):\n",
    "        l.append('trainee')\n",
    "    elif('engineer' in i and 'senior' not in i):\n",
    "        l.append('engineer')\n",
    "    elif('associate' in i and 'senior' not in i):\n",
    "        l.append('associate')\n",
    "    elif('developer' in i and 'senior' not in i):\n",
    "        l.append('developer')\n",
    "    elif('manager' in i and 'senior' not in i):\n",
    "        l.append('manager')\n",
    "    elif('analyst' in i):\n",
    "        l.append('analyst')\n",
    "    elif('consultant' in i):\n",
    "        l.append('consultant')\n",
    "    elif('executive' in i):\n",
    "        l.append('executive')\n",
    "    elif('designer' in i):\n",
    "        l.append('designer')\n",
    "    else:\n",
    "        l.append('others')"
   ]
  },
  {
   "cell_type": "code",
   "execution_count": 169,
   "id": "86a7486d",
   "metadata": {},
   "outputs": [],
   "source": [
    "df['Designation']=l"
   ]
  },
  {
   "cell_type": "code",
   "execution_count": 170,
   "id": "7c2ae6f6",
   "metadata": {},
   "outputs": [
    {
     "data": {
      "text/plain": [
       "engineer      1997\n",
       "developer      668\n",
       "others         538\n",
       "analyst        402\n",
       "manager        123\n",
       "associate       66\n",
       "executive       62\n",
       "trainee         57\n",
       "senior          43\n",
       "designer        23\n",
       "consultant      19\n",
       "Name: Designation, dtype: int64"
      ]
     },
     "execution_count": 170,
     "metadata": {},
     "output_type": "execute_result"
    }
   ],
   "source": [
    "df['Designation'].value_counts()"
   ]
  },
  {
   "cell_type": "markdown",
   "id": "255ad68f",
   "metadata": {},
   "source": [
    "##### Designation vs Salary"
   ]
  },
  {
   "cell_type": "code",
   "execution_count": 171,
   "id": "8ddda6ee",
   "metadata": {},
   "outputs": [
    {
     "data": {
      "image/png": "[encoded data removed]",
      "text/plain": [
       "<Figure size 1080x576 with 1 Axes>"
      ]
     },
     "metadata": {
      "needs_background": "light"
     },
     "output_type": "display_data"
    }
   ],
   "source": [
    "plt.figure(figsize=(15,8))\n",
    "sns.boxplot(x=\"Designation\", y=\"Salary\", data=df)\n",
    "plt.title(\"Designation VS Salary\")\n",
    "plt.show()"
   ]
  },
  {
   "cell_type": "markdown",
   "id": "4725c5b3",
   "metadata": {},
   "source": [
    "- The lowest salaries are for executives\n",
    "- Highest salaries for Senior and Manager and Consultants"
   ]
  },
  {
   "cell_type": "markdown",
   "id": "c7996032",
   "metadata": {},
   "source": [
    "##### JobCity vs Salary"
   ]
  },
  {
   "cell_type": "code",
   "execution_count": 172,
   "id": "c528ff25",
   "metadata": {},
   "outputs": [
    {
     "data": {
      "text/plain": [
       "<Figure size 648x432 with 0 Axes>"
      ]
     },
     "metadata": {},
     "output_type": "display_data"
    },
    {
     "data": {
      "image/png": "[encoded data removed]",
      "text/plain": [
       "<Figure size 360x360 with 1 Axes>"
      ]
     },
     "metadata": {
      "needs_background": "light"
     },
     "output_type": "display_data"
    }
   ],
   "source": [
    "plt.figure(figsize=(9,6))\n",
    "sns.catplot(y=\"JobCity\", x=\"Salary\", kind=\"bar\", data=df)\n",
    "plt.title(\"JobCity VS Salary\")\n",
    "plt.show()"
   ]
  },
  {
   "cell_type": "markdown",
   "id": "7f9cfeb7",
   "metadata": {},
   "source": [
    "- The highest salaries are paid by companies in Bangalore, Mumbai\n",
    "- The lowest salaries are paid by bompanies in Lucknow"
   ]
  },
  {
   "cell_type": "markdown",
   "id": "68be3c5b",
   "metadata": {},
   "source": [
    "##### Degree vs Salary"
   ]
  },
  {
   "cell_type": "code",
   "execution_count": 174,
   "id": "96ea9fe3",
   "metadata": {},
   "outputs": [
    {
     "data": {
      "text/plain": [
       "<Figure size 648x432 with 0 Axes>"
      ]
     },
     "metadata": {},
     "output_type": "display_data"
    },
    {
     "data": {
      "image/png": "[encoded data removed]",
      "text/plain": [
       "<Figure size 360x360 with 1 Axes>"
      ]
     },
     "metadata": {
      "needs_background": "light"
     },
     "output_type": "display_data"
    }
   ],
   "source": [
    "plt.figure(figsize=(9,6))\n",
    "sns.catplot(x=\"Degree\", y=\"Salary\", kind=\"bar\", data=df)\n",
    "plt.title(\"Degree VS Salary\")\n",
    "plt.show()"
   ]
  },
  {
   "cell_type": "markdown",
   "id": "9ee46815",
   "metadata": {},
   "source": [
    "- MTech/ME grads earning a higher avg salary"
   ]
  },
  {
   "cell_type": "markdown",
   "id": "d9975b4c",
   "metadata": {},
   "source": [
    "<h3 style='color:brown'> STEP 4: Research Questions </h3>\n",
    "\n",
    "\n",
    "-\tTimes of India article dated Jan 18, 2019 states that “After doing your Computer Science Engineering if you take up jobs as a Programming Analyst, Software Engineer, Hardware Engineer and Associate Engineer you can earn up to 2.5-3 lakhs as a fresh graduate.” Test this claim with the data given to you.\n",
    "\n",
    "\n",
    "-\tIs there a relationship between gender and specialisation? (i.e. Does the preference of Specialisation depend on the Gender?)\n"
   ]
  },
  {
   "cell_type": "markdown",
   "id": "c569dfa3",
   "metadata": {},
   "source": [
    "##### Specialization vs Gender??"
   ]
  },
  {
   "cell_type": "code",
   "execution_count": 175,
   "id": "d15cdb4d",
   "metadata": {},
   "outputs": [
    {
     "data": {
      "text/html": [
       "<div>\n",
       "<style scoped>\n",
       "    .dataframe tbody tr th:only-of-type {\n",
       "        vertical-align: middle;\n",
       "    }\n",
       "\n",
       "    .dataframe tbody tr th {\n",
       "        vertical-align: top;\n",
       "    }\n",
       "\n",
       "    .dataframe thead th {\n",
       "        text-align: right;\n",
       "    }\n",
       "</style>\n",
       "<table border=\"1\" class=\"dataframe\">\n",
       "  <thead>\n",
       "    <tr style=\"text-align: right;\">\n",
       "      <th>Specialization</th>\n",
       "      <th>aeronautical engineering</th>\n",
       "      <th>biomedical engineering</th>\n",
       "      <th>biotechnology</th>\n",
       "      <th>chemical engineering</th>\n",
       "      <th>civil engineering</th>\n",
       "      <th>computers</th>\n",
       "      <th>etrx</th>\n",
       "      <th>instrumentation and control engineering</th>\n",
       "      <th>instrumentation engineering</th>\n",
       "      <th>mech</th>\n",
       "      <th>other</th>\n",
       "    </tr>\n",
       "    <tr>\n",
       "      <th>Gender</th>\n",
       "      <th></th>\n",
       "      <th></th>\n",
       "      <th></th>\n",
       "      <th></th>\n",
       "      <th></th>\n",
       "      <th></th>\n",
       "      <th></th>\n",
       "      <th></th>\n",
       "      <th></th>\n",
       "      <th></th>\n",
       "      <th></th>\n",
       "    </tr>\n",
       "  </thead>\n",
       "  <tbody>\n",
       "    <tr>\n",
       "      <th>f</th>\n",
       "      <td>1</td>\n",
       "      <td>2</td>\n",
       "      <td>9</td>\n",
       "      <td>1</td>\n",
       "      <td>6</td>\n",
       "      <td>603</td>\n",
       "      <td>313</td>\n",
       "      <td>9</td>\n",
       "      <td>0</td>\n",
       "      <td>13</td>\n",
       "      <td>0</td>\n",
       "    </tr>\n",
       "    <tr>\n",
       "      <th>m</th>\n",
       "      <td>2</td>\n",
       "      <td>0</td>\n",
       "      <td>6</td>\n",
       "      <td>9</td>\n",
       "      <td>23</td>\n",
       "      <td>1685</td>\n",
       "      <td>1070</td>\n",
       "      <td>11</td>\n",
       "      <td>5</td>\n",
       "      <td>217</td>\n",
       "      <td>13</td>\n",
       "    </tr>\n",
       "  </tbody>\n",
       "</table>\n",
       "</div>"
      ],
      "text/plain": [
       "Specialization  aeronautical engineering  biomedical engineering  \\\n",
       "Gender                                                             \n",
       "f                                      1                       2   \n",
       "m                                      2                       0   \n",
       "\n",
       "Specialization  biotechnology  chemical engineering  civil engineering  \\\n",
       "Gender                                                                   \n",
       "f                           9                     1                  6   \n",
       "m                           6                     9                 23   \n",
       "\n",
       "Specialization  computers  etrx  instrumentation and control engineering  \\\n",
       "Gender                                                                     \n",
       "f                     603   313                                        9   \n",
       "m                    1685  1070                                       11   \n",
       "\n",
       "Specialization  instrumentation engineering  mech  other  \n",
       "Gender                                                    \n",
       "f                                         0    13      0  \n",
       "m                                         5   217     13  "
      ]
     },
     "execution_count": 175,
     "metadata": {},
     "output_type": "execute_result"
    }
   ],
   "source": [
    "pd.crosstab(df.Gender, df.Specialization)"
   ]
  },
  {
   "cell_type": "code",
   "execution_count": null,
   "id": "8070d310",
   "metadata": {},
   "outputs": [],
   "source": []
  },
  {
   "cell_type": "code",
   "execution_count": 177,
   "id": "eeabcc54",
   "metadata": {},
   "outputs": [
    {
     "data": {
      "text/plain": [
       "<Figure size 1800x1224 with 0 Axes>"
      ]
     },
     "metadata": {},
     "output_type": "display_data"
    },
    {
     "data": {
      "image/png": "[encoded data removed]",
      "text/plain": [
       "<Figure size 599x360 with 1 Axes>"
      ]
     },
     "metadata": {
      "needs_background": "light"
     },
     "output_type": "display_data"
    }
   ],
   "source": [
    "plt.figure(figsize=(25,17))\n",
    "sns.catplot(x=\"Gender\", hue=\"Specialization\", kind=\"count\", data=df)\n",
    "plt.title(\"Specialization VS Gender\")\n",
    "plt.show()"
   ]
  },
  {
   "cell_type": "markdown",
   "id": "0bf6b840",
   "metadata": {},
   "source": [
    "- From above, we can conclude that majority of the males and females tend to take computers as their specialization. \n",
    "- This is irrespective of the student's gender"
   ]
  },
  {
   "cell_type": "markdown",
   "id": "79ea3017",
   "metadata": {},
   "source": [
    "##### Specialization vs Salary"
   ]
  },
  {
   "cell_type": "code",
   "execution_count": 182,
   "id": "b193eb4b",
   "metadata": {},
   "outputs": [
    {
     "data": {
      "text/plain": [
       "Specialization\n",
       "aeronautical engineering                   148333.333333\n",
       "biomedical engineering                     290000.000000\n",
       "biotechnology                              254333.333333\n",
       "chemical engineering                       403000.000000\n",
       "civil engineering                          381206.896552\n",
       "computers                                  312207.167832\n",
       "etrx                                       296731.742589\n",
       "instrumentation and control engineering    394000.000000\n",
       "instrumentation engineering                253000.000000\n",
       "mech                                       317126.086957\n",
       "other                                      266538.461538\n",
       "Name: Salary, dtype: float64"
      ]
     },
     "execution_count": 182,
     "metadata": {},
     "output_type": "execute_result"
    }
   ],
   "source": [
    "df.groupby('Specialization')['Salary'].mean()"
   ]
  },
  {
   "cell_type": "markdown",
   "id": "8a9212e8",
   "metadata": {},
   "source": [
    "##### Designation vs Salary"
   ]
  },
  {
   "cell_type": "code",
   "execution_count": 183,
   "id": "f62dd9c2",
   "metadata": {},
   "outputs": [
    {
     "data": {
      "text/plain": [
       "Designation\n",
       "analyst       316293.532338\n",
       "associate     262196.969697\n",
       "consultant    293947.368421\n",
       "designer      197391.304348\n",
       "developer     251669.161677\n",
       "engineer      319658.988483\n",
       "executive     192016.129032\n",
       "manager       400894.308943\n",
       "others        324098.513011\n",
       "senior        491744.186047\n",
       "trainee       217631.578947\n",
       "Name: Salary, dtype: float64"
      ]
     },
     "execution_count": 183,
     "metadata": {},
     "output_type": "execute_result"
    }
   ],
   "source": [
    "df.groupby('Designation')['Salary'].mean()"
   ]
  },
  {
   "cell_type": "markdown",
   "id": "a584da27",
   "metadata": {},
   "source": [
    "Times of India article dated Jan 18, 2019 states that “After doing your Computer Science Engineering if you take up jobs as a Programming Analyst, Software Engineer, Hardware Engineer and Associate Engineer you can earn up to 2.5-3 lakhs as a fresh graduate.” Test this claim with the data given to you."
   ]
  },
  {
   "cell_type": "markdown",
   "id": "0c964fda",
   "metadata": {},
   "source": [
    "Claim of Times of India is Not True"
   ]
  },
  {
   "cell_type": "markdown",
   "id": "67051486",
   "metadata": {},
   "source": [
    "Null Hypothesis (Ho):The average salary of fresh computer science engineering graduates working as Programming Analyst, Software Engineer, Hardware Engineer, and Associate Engineer is less than or equal to Rs. 2.5-3 lakhs per annum.\n",
    "Ho: mu <= 2.5-3"
   ]
  },
  {
   "cell_type": "markdown",
   "id": "acc859fa",
   "metadata": {},
   "source": [
    "Alternate Hypothesi (Ha):The average salary of fresh computer science engineering graduates working as Programming Analyst, Software Engineer, Hardware Engineer, and Associate Engineer is greaterthan to Rs. 2.5-3 lakhs per annum.\n",
    "Ha: mu > 2.5-3"
   ]
  },
  {
   "cell_type": "code",
   "execution_count": 184,
   "id": "323e32bb",
   "metadata": {},
   "outputs": [],
   "source": [
    "from scipy.stats import t\n",
    "from scipy.stats import norm"
   ]
  },
  {
   "cell_type": "code",
   "execution_count": 185,
   "id": "bd2eec23",
   "metadata": {},
   "outputs": [
    {
     "name": "stdout",
     "output_type": "stream",
     "text": [
      "1.729132811521367\n"
     ]
    }
   ],
   "source": [
    "# One tail\n",
    "\n",
    "confidence_level = 0.95\n",
    "\n",
    "alpha = 1 - confidence_level\n",
    "\n",
    "# For sample size = 20 => degrees of freedom = 20-1 = 19\n",
    "t_critical = t.ppf(1-alpha, df = 19) \n",
    "\n",
    "print(t_critical)"
   ]
  },
  {
   "cell_type": "code",
   "execution_count": 186,
   "id": "59366082",
   "metadata": {},
   "outputs": [],
   "source": [
    "# p_value\n",
    "p_value=(1.0-norm.cdf(t_critical))"
   ]
  },
  {
   "cell_type": "code",
   "execution_count": 187,
   "id": "b3259614",
   "metadata": {},
   "outputs": [
    {
     "data": {
      "text/plain": [
       "0.04189266396510993"
      ]
     },
     "execution_count": 187,
     "metadata": {},
     "output_type": "execute_result"
    }
   ],
   "source": [
    "p_value"
   ]
  },
  {
   "cell_type": "code",
   "execution_count": 188,
   "id": "5e2c7426",
   "metadata": {},
   "outputs": [
    {
     "name": "stdout",
     "output_type": "stream",
     "text": [
      "Reject Null Hypothesis\n"
     ]
    }
   ],
   "source": [
    "if(p_value < alpha):\n",
    "    print(\"Reject Null Hypothesis\")\n",
    "else:\n",
    "    print(\"Fail to reject Null Hypothesis\")"
   ]
  },
  {
   "cell_type": "markdown",
   "id": "0d710d2e",
   "metadata": {},
   "source": [
    "The claim of TOI is not True."
   ]
  },
  {
   "cell_type": "markdown",
   "id": "9d1746f1",
   "metadata": {},
   "source": [
    "- The salaries can even exceed the range of 2.5-3lpa"
   ]
  },
  {
   "cell_type": "code",
   "execution_count": null,
   "id": "f5706ef0",
   "metadata": {},
   "outputs": [],
   "source": []
  }
 ],
 "metadata": {
  "kernelspec": {
   "display_name": "Python 3 (ipykernel)",
   "language": "python",
   "name": "python3"
  },
  "language_info": {
   "codemirror_mode": {
    "name": "ipython",
    "version": 3
   },
   "file_extension": ".py",
   "mimetype": "text/x-python",
   "name": "python",
   "nbconvert_exporter": "python",
   "pygments_lexer": "ipython3",
   "version": "3.9.12"
  }
 },
 "nbformat": 4,
 "nbformat_minor": 5
}
