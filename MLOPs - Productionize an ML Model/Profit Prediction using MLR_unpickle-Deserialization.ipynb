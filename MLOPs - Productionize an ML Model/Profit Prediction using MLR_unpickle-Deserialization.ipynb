{
 "cells": [
  {
   "cell_type": "code",
   "execution_count": 1,
   "id": "2a473950",
   "metadata": {},
   "outputs": [],
   "source": [
    "import joblib\n",
    "import numpy as np"
   ]
  },
  {
   "cell_type": "code",
   "execution_count": 3,
   "id": "bd4c486b",
   "metadata": {},
   "outputs": [],
   "source": [
    "import os\n",
    "os.getcwd()\n",
    "os.chdir(r\"C:\\DS INTERNSHIP - Feb 2023\\MLOPs\\Productionize an ML Model\")"
   ]
  },
  {
   "cell_type": "code",
   "execution_count": 5,
   "id": "5b1a844a",
   "metadata": {},
   "outputs": [
    {
     "data": {
      "text/plain": [
       "'C:\\\\DS INTERNSHIP - Feb 2023\\\\MLOPs\\\\Productionize an ML Model'"
      ]
     },
     "execution_count": 5,
     "metadata": {},
     "output_type": "execute_result"
    }
   ],
   "source": [
    "os.getcwd()"
   ]
  },
  {
   "cell_type": "code",
   "execution_count": 6,
   "id": "405108c8",
   "metadata": {},
   "outputs": [],
   "source": [
    "model=joblib.load(\"profit_prediction.pkl\")"
   ]
  },
  {
   "cell_type": "markdown",
   "id": "f4d5fa6f",
   "metadata": {},
   "source": [
    "- R & D Budget 50000\n",
    "- Marketing  40000\n",
    "- Adminstration 30000\n",
    "- State New York\n",
    "\n",
    "Give the above information predict/estimate the Profit of the company"
   ]
  },
  {
   "cell_type": "code",
   "execution_count": 8,
   "id": "e0031c2e",
   "metadata": {},
   "outputs": [
    {
     "name": "stdout",
     "output_type": "stream",
     "text": [
      "Please enter the R & D Budget: 40000\n",
      "Please enter the Administration: 30000\n",
      "Please enter the Marketing: 20000\n"
     ]
    }
   ],
   "source": [
    "r_d_spend = int(input(\"Please enter the R & D Budget: \"))\n",
    "admin = int(input(\"Please enter the Administration: \"))\n",
    "marketing = int(input(\"Please enter the Marketing: \"))"
   ]
  },
  {
   "cell_type": "code",
   "execution_count": 11,
   "id": "4226f1e5",
   "metadata": {},
   "outputs": [],
   "source": [
    "new_data = [[r_d_spend, admin, marketing, 0, 1]]"
   ]
  },
  {
   "cell_type": "code",
   "execution_count": 12,
   "id": "56d52898",
   "metadata": {},
   "outputs": [
    {
     "data": {
      "text/plain": [
       "[[40000, 30000, 20000, 0, 1]]"
      ]
     },
     "execution_count": 12,
     "metadata": {},
     "output_type": "execute_result"
    }
   ],
   "source": [
    "new_data"
   ]
  },
  {
   "cell_type": "code",
   "execution_count": 9,
   "id": "e7383f1a",
   "metadata": {},
   "outputs": [],
   "source": []
  },
  {
   "cell_type": "code",
   "execution_count": 14,
   "id": "6ef2e1a7",
   "metadata": {},
   "outputs": [
    {
     "name": "stderr",
     "output_type": "stream",
     "text": [
      "C:\\Users\\NAME\\anaconda3\\lib\\site-packages\\sklearn\\base.py:450: UserWarning: X does not have valid feature names, but LinearRegression was fitted with feature names\n",
      "  warnings.warn(\n"
     ]
    },
    {
     "data": {
      "text/plain": [
       "array([83443.81891277])"
      ]
     },
     "execution_count": 14,
     "metadata": {},
     "output_type": "execute_result"
    }
   ],
   "source": [
    "model.predict(new_data)"
   ]
  },
  {
   "cell_type": "code",
   "execution_count": null,
   "id": "c6d168f1",
   "metadata": {},
   "outputs": [],
   "source": []
  }
 ],
 "metadata": {
  "kernelspec": {
   "display_name": "Python 3 (ipykernel)",
   "language": "python",
   "name": "python3"
  },
  "language_info": {
   "codemirror_mode": {
    "name": "ipython",
    "version": 3
   },
   "file_extension": ".py",
   "mimetype": "text/x-python",
   "name": "python",
   "nbconvert_exporter": "python",
   "pygments_lexer": "ipython3",
   "version": "3.9.12"
  }
 },
 "nbformat": 4,
 "nbformat_minor": 5
}
